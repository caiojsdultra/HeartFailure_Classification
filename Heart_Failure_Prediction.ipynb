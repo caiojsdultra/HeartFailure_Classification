{
  "cells": [
    {
      "cell_type": "markdown",
      "metadata": {
        "id": "NKVG5XI6BEKd"
      },
      "source": [
        "## Importing libraries"
      ]
    },
    {
      "cell_type": "code",
      "execution_count": null,
      "metadata": {
        "id": "NZ-JrA-BM130"
      },
      "outputs": [],
      "source": [
        "#Operational System\n",
        "import os\n",
        "\n",
        "#Math libs\n",
        "import numpy as np\n",
        "import pandas as pd\n",
        "\n",
        "#Graphs libs\n",
        "import matplotlib.pyplot as plt\n",
        "import seaborn as sns\n",
        "import plotly.express as px\n",
        "\n",
        "#Machine Learning algorithms\n",
        "from sklearn.linear_model import LinearRegression\n",
        "from sklearn.preprocessing import LabelEncoder\n",
        "from sklearn.preprocessing import OneHotEncoder\n",
        "from sklearn.compose import ColumnTransformer\n",
        "from sklearn.preprocessing import StandardScaler\n",
        "from sklearn.model_selection import train_test_split\n",
        "\n",
        "#Classification\n",
        "from sklearn.naive_bayes import GaussianNB\n",
        "from sklearn.svm import SVC\n",
        "\n",
        "#Metrics\n",
        "from sklearn.metrics import accuracy_score, confusion_matrix, classification_report\n",
        "\n",
        "#validation\n",
        "from sklearn.model_selection import KFold\n",
        "from sklearn.model_selection import cross_val_score\n"
      ]
    },
    {
      "cell_type": "markdown",
      "metadata": {
        "id": "DzT9wgJzBK92"
      },
      "source": [
        "Creating functions that allow us to authenticate on Kaggle and download the dataset through API. Further more, it creates a JSON assigning the user and authentication token and prepares the retrieved dataframe."
      ]
    },
    {
      "cell_type": "code",
      "execution_count": null,
      "metadata": {
        "id": "f6KhzNg4NBnt"
      },
      "outputs": [],
      "source": [
        "def createJson():\n",
        "\n",
        "  import json\n",
        "  import shutil\n",
        "  import os.path\n",
        "\n",
        "  if os.path.exists('./kaggle') == True:\n",
        "    shutil.rmtree('./kaggle')\n",
        "\n",
        "  os.makedirs('./kaggle', exist_ok=True)\n",
        "\n",
        "  credentials = {\"username\": \"caiodultra\",\"key\":\"5aacc781e4a4931ba98cfe7b572a870b\"}\n",
        "\n",
        "  with open('./sample_data/kaggle.json', 'w') as file:\n",
        "    json.dump(credentials, file)\n",
        "\n",
        "\n",
        "  !cp /content/sample_data/kaggle.json ~/.kaggle/kaggle.json\n",
        "  !kaggle config set -n path -v /content/downloads/\n",
        "  !kaggle datasets download -d fedesoriano/heart-failure-prediction\n",
        "\n",
        "def unzipDataset():\n",
        "\n",
        "  from zipfile import ZipFile\n",
        "\n",
        "  with ZipFile('/content/downloads/datasets/fedesoriano/heart-failure-prediction/heart-failure-prediction.zip', 'r') as zip_ref:\n",
        "      zf = zip_ref.extractall('/content/downloads/datasets/fedesoriano/heart-failure-prediction/')\n",
        "      df = pd.read_csv('/content/downloads/datasets/fedesoriano/heart-failure-prediction/heart.csv')\n",
        "\n",
        "  return df"
      ]
    },
    {
      "cell_type": "code",
      "execution_count": null,
      "metadata": {
        "colab": {
          "base_uri": "https://localhost:8080/"
        },
        "id": "ejSYY-SvfYwl",
        "outputId": "17961d83-26bc-4297-e7fc-156d6d8b4c22"
      },
      "outputs": [
        {
          "output_type": "stream",
          "name": "stdout",
          "text": [
            "Warning: Your Kaggle API key is readable by other users on this system! To fix this, you can run 'chmod 600 /root/.kaggle/kaggle.json'\n",
            "- path is now set to: /content/downloads/\n",
            "Warning: Your Kaggle API key is readable by other users on this system! To fix this, you can run 'chmod 600 /root/.kaggle/kaggle.json'\n",
            "Downloading heart-failure-prediction.zip to /content/downloads/datasets/fedesoriano/heart-failure-prediction\n",
            "  0% 0.00/8.56k [00:00<?, ?B/s]\n",
            "100% 8.56k/8.56k [00:00<00:00, 6.27MB/s]\n"
          ]
        }
      ],
      "source": [
        "# Create Json file with API Kaggle token\n",
        "createJson()"
      ]
    },
    {
      "cell_type": "code",
      "execution_count": null,
      "metadata": {
        "colab": {
          "base_uri": "https://localhost:8080/",
          "height": 424
        },
        "id": "8YCb9eT5ZS3D",
        "outputId": "7fa077af-459a-4d50-db59-619a1e275bfd"
      },
      "outputs": [
        {
          "output_type": "execute_result",
          "data": {
            "text/plain": [
              "     Age Sex ChestPainType  RestingBP  Cholesterol  FastingBS RestingECG  \\\n",
              "0     40   M           ATA        140          289          0     Normal   \n",
              "1     49   F           NAP        160          180          0     Normal   \n",
              "2     37   M           ATA        130          283          0         ST   \n",
              "3     48   F           ASY        138          214          0     Normal   \n",
              "4     54   M           NAP        150          195          0     Normal   \n",
              "..   ...  ..           ...        ...          ...        ...        ...   \n",
              "913   45   M            TA        110          264          0     Normal   \n",
              "914   68   M           ASY        144          193          1     Normal   \n",
              "915   57   M           ASY        130          131          0     Normal   \n",
              "916   57   F           ATA        130          236          0        LVH   \n",
              "917   38   M           NAP        138          175          0     Normal   \n",
              "\n",
              "     MaxHR ExerciseAngina  Oldpeak ST_Slope  HeartDisease  \n",
              "0      172              N      0.0       Up             0  \n",
              "1      156              N      1.0     Flat             1  \n",
              "2       98              N      0.0       Up             0  \n",
              "3      108              Y      1.5     Flat             1  \n",
              "4      122              N      0.0       Up             0  \n",
              "..     ...            ...      ...      ...           ...  \n",
              "913    132              N      1.2     Flat             1  \n",
              "914    141              N      3.4     Flat             1  \n",
              "915    115              Y      1.2     Flat             1  \n",
              "916    174              N      0.0     Flat             1  \n",
              "917    173              N      0.0       Up             0  \n",
              "\n",
              "[918 rows x 12 columns]"
            ],
            "text/html": [
              "\n",
              "  <div id=\"df-af1b2748-e1cb-4852-9e28-9694cc2961a5\">\n",
              "    <div class=\"colab-df-container\">\n",
              "      <div>\n",
              "<style scoped>\n",
              "    .dataframe tbody tr th:only-of-type {\n",
              "        vertical-align: middle;\n",
              "    }\n",
              "\n",
              "    .dataframe tbody tr th {\n",
              "        vertical-align: top;\n",
              "    }\n",
              "\n",
              "    .dataframe thead th {\n",
              "        text-align: right;\n",
              "    }\n",
              "</style>\n",
              "<table border=\"1\" class=\"dataframe\">\n",
              "  <thead>\n",
              "    <tr style=\"text-align: right;\">\n",
              "      <th></th>\n",
              "      <th>Age</th>\n",
              "      <th>Sex</th>\n",
              "      <th>ChestPainType</th>\n",
              "      <th>RestingBP</th>\n",
              "      <th>Cholesterol</th>\n",
              "      <th>FastingBS</th>\n",
              "      <th>RestingECG</th>\n",
              "      <th>MaxHR</th>\n",
              "      <th>ExerciseAngina</th>\n",
              "      <th>Oldpeak</th>\n",
              "      <th>ST_Slope</th>\n",
              "      <th>HeartDisease</th>\n",
              "    </tr>\n",
              "  </thead>\n",
              "  <tbody>\n",
              "    <tr>\n",
              "      <th>0</th>\n",
              "      <td>40</td>\n",
              "      <td>M</td>\n",
              "      <td>ATA</td>\n",
              "      <td>140</td>\n",
              "      <td>289</td>\n",
              "      <td>0</td>\n",
              "      <td>Normal</td>\n",
              "      <td>172</td>\n",
              "      <td>N</td>\n",
              "      <td>0.0</td>\n",
              "      <td>Up</td>\n",
              "      <td>0</td>\n",
              "    </tr>\n",
              "    <tr>\n",
              "      <th>1</th>\n",
              "      <td>49</td>\n",
              "      <td>F</td>\n",
              "      <td>NAP</td>\n",
              "      <td>160</td>\n",
              "      <td>180</td>\n",
              "      <td>0</td>\n",
              "      <td>Normal</td>\n",
              "      <td>156</td>\n",
              "      <td>N</td>\n",
              "      <td>1.0</td>\n",
              "      <td>Flat</td>\n",
              "      <td>1</td>\n",
              "    </tr>\n",
              "    <tr>\n",
              "      <th>2</th>\n",
              "      <td>37</td>\n",
              "      <td>M</td>\n",
              "      <td>ATA</td>\n",
              "      <td>130</td>\n",
              "      <td>283</td>\n",
              "      <td>0</td>\n",
              "      <td>ST</td>\n",
              "      <td>98</td>\n",
              "      <td>N</td>\n",
              "      <td>0.0</td>\n",
              "      <td>Up</td>\n",
              "      <td>0</td>\n",
              "    </tr>\n",
              "    <tr>\n",
              "      <th>3</th>\n",
              "      <td>48</td>\n",
              "      <td>F</td>\n",
              "      <td>ASY</td>\n",
              "      <td>138</td>\n",
              "      <td>214</td>\n",
              "      <td>0</td>\n",
              "      <td>Normal</td>\n",
              "      <td>108</td>\n",
              "      <td>Y</td>\n",
              "      <td>1.5</td>\n",
              "      <td>Flat</td>\n",
              "      <td>1</td>\n",
              "    </tr>\n",
              "    <tr>\n",
              "      <th>4</th>\n",
              "      <td>54</td>\n",
              "      <td>M</td>\n",
              "      <td>NAP</td>\n",
              "      <td>150</td>\n",
              "      <td>195</td>\n",
              "      <td>0</td>\n",
              "      <td>Normal</td>\n",
              "      <td>122</td>\n",
              "      <td>N</td>\n",
              "      <td>0.0</td>\n",
              "      <td>Up</td>\n",
              "      <td>0</td>\n",
              "    </tr>\n",
              "    <tr>\n",
              "      <th>...</th>\n",
              "      <td>...</td>\n",
              "      <td>...</td>\n",
              "      <td>...</td>\n",
              "      <td>...</td>\n",
              "      <td>...</td>\n",
              "      <td>...</td>\n",
              "      <td>...</td>\n",
              "      <td>...</td>\n",
              "      <td>...</td>\n",
              "      <td>...</td>\n",
              "      <td>...</td>\n",
              "      <td>...</td>\n",
              "    </tr>\n",
              "    <tr>\n",
              "      <th>913</th>\n",
              "      <td>45</td>\n",
              "      <td>M</td>\n",
              "      <td>TA</td>\n",
              "      <td>110</td>\n",
              "      <td>264</td>\n",
              "      <td>0</td>\n",
              "      <td>Normal</td>\n",
              "      <td>132</td>\n",
              "      <td>N</td>\n",
              "      <td>1.2</td>\n",
              "      <td>Flat</td>\n",
              "      <td>1</td>\n",
              "    </tr>\n",
              "    <tr>\n",
              "      <th>914</th>\n",
              "      <td>68</td>\n",
              "      <td>M</td>\n",
              "      <td>ASY</td>\n",
              "      <td>144</td>\n",
              "      <td>193</td>\n",
              "      <td>1</td>\n",
              "      <td>Normal</td>\n",
              "      <td>141</td>\n",
              "      <td>N</td>\n",
              "      <td>3.4</td>\n",
              "      <td>Flat</td>\n",
              "      <td>1</td>\n",
              "    </tr>\n",
              "    <tr>\n",
              "      <th>915</th>\n",
              "      <td>57</td>\n",
              "      <td>M</td>\n",
              "      <td>ASY</td>\n",
              "      <td>130</td>\n",
              "      <td>131</td>\n",
              "      <td>0</td>\n",
              "      <td>Normal</td>\n",
              "      <td>115</td>\n",
              "      <td>Y</td>\n",
              "      <td>1.2</td>\n",
              "      <td>Flat</td>\n",
              "      <td>1</td>\n",
              "    </tr>\n",
              "    <tr>\n",
              "      <th>916</th>\n",
              "      <td>57</td>\n",
              "      <td>F</td>\n",
              "      <td>ATA</td>\n",
              "      <td>130</td>\n",
              "      <td>236</td>\n",
              "      <td>0</td>\n",
              "      <td>LVH</td>\n",
              "      <td>174</td>\n",
              "      <td>N</td>\n",
              "      <td>0.0</td>\n",
              "      <td>Flat</td>\n",
              "      <td>1</td>\n",
              "    </tr>\n",
              "    <tr>\n",
              "      <th>917</th>\n",
              "      <td>38</td>\n",
              "      <td>M</td>\n",
              "      <td>NAP</td>\n",
              "      <td>138</td>\n",
              "      <td>175</td>\n",
              "      <td>0</td>\n",
              "      <td>Normal</td>\n",
              "      <td>173</td>\n",
              "      <td>N</td>\n",
              "      <td>0.0</td>\n",
              "      <td>Up</td>\n",
              "      <td>0</td>\n",
              "    </tr>\n",
              "  </tbody>\n",
              "</table>\n",
              "<p>918 rows × 12 columns</p>\n",
              "</div>\n",
              "      <button class=\"colab-df-convert\" onclick=\"convertToInteractive('df-af1b2748-e1cb-4852-9e28-9694cc2961a5')\"\n",
              "              title=\"Convert this dataframe to an interactive table.\"\n",
              "              style=\"display:none;\">\n",
              "        \n",
              "  <svg xmlns=\"http://www.w3.org/2000/svg\" height=\"24px\"viewBox=\"0 0 24 24\"\n",
              "       width=\"24px\">\n",
              "    <path d=\"M0 0h24v24H0V0z\" fill=\"none\"/>\n",
              "    <path d=\"M18.56 5.44l.94 2.06.94-2.06 2.06-.94-2.06-.94-.94-2.06-.94 2.06-2.06.94zm-11 1L8.5 8.5l.94-2.06 2.06-.94-2.06-.94L8.5 2.5l-.94 2.06-2.06.94zm10 10l.94 2.06.94-2.06 2.06-.94-2.06-.94-.94-2.06-.94 2.06-2.06.94z\"/><path d=\"M17.41 7.96l-1.37-1.37c-.4-.4-.92-.59-1.43-.59-.52 0-1.04.2-1.43.59L10.3 9.45l-7.72 7.72c-.78.78-.78 2.05 0 2.83L4 21.41c.39.39.9.59 1.41.59.51 0 1.02-.2 1.41-.59l7.78-7.78 2.81-2.81c.8-.78.8-2.07 0-2.86zM5.41 20L4 18.59l7.72-7.72 1.47 1.35L5.41 20z\"/>\n",
              "  </svg>\n",
              "      </button>\n",
              "      \n",
              "  <style>\n",
              "    .colab-df-container {\n",
              "      display:flex;\n",
              "      flex-wrap:wrap;\n",
              "      gap: 12px;\n",
              "    }\n",
              "\n",
              "    .colab-df-convert {\n",
              "      background-color: #E8F0FE;\n",
              "      border: none;\n",
              "      border-radius: 50%;\n",
              "      cursor: pointer;\n",
              "      display: none;\n",
              "      fill: #1967D2;\n",
              "      height: 32px;\n",
              "      padding: 0 0 0 0;\n",
              "      width: 32px;\n",
              "    }\n",
              "\n",
              "    .colab-df-convert:hover {\n",
              "      background-color: #E2EBFA;\n",
              "      box-shadow: 0px 1px 2px rgba(60, 64, 67, 0.3), 0px 1px 3px 1px rgba(60, 64, 67, 0.15);\n",
              "      fill: #174EA6;\n",
              "    }\n",
              "\n",
              "    [theme=dark] .colab-df-convert {\n",
              "      background-color: #3B4455;\n",
              "      fill: #D2E3FC;\n",
              "    }\n",
              "\n",
              "    [theme=dark] .colab-df-convert:hover {\n",
              "      background-color: #434B5C;\n",
              "      box-shadow: 0px 1px 3px 1px rgba(0, 0, 0, 0.15);\n",
              "      filter: drop-shadow(0px 1px 2px rgba(0, 0, 0, 0.3));\n",
              "      fill: #FFFFFF;\n",
              "    }\n",
              "  </style>\n",
              "\n",
              "      <script>\n",
              "        const buttonEl =\n",
              "          document.querySelector('#df-af1b2748-e1cb-4852-9e28-9694cc2961a5 button.colab-df-convert');\n",
              "        buttonEl.style.display =\n",
              "          google.colab.kernel.accessAllowed ? 'block' : 'none';\n",
              "\n",
              "        async function convertToInteractive(key) {\n",
              "          const element = document.querySelector('#df-af1b2748-e1cb-4852-9e28-9694cc2961a5');\n",
              "          const dataTable =\n",
              "            await google.colab.kernel.invokeFunction('convertToInteractive',\n",
              "                                                     [key], {});\n",
              "          if (!dataTable) return;\n",
              "\n",
              "          const docLinkHtml = 'Like what you see? Visit the ' +\n",
              "            '<a target=\"_blank\" href=https://colab.research.google.com/notebooks/data_table.ipynb>data table notebook</a>'\n",
              "            + ' to learn more about interactive tables.';\n",
              "          element.innerHTML = '';\n",
              "          dataTable['output_type'] = 'display_data';\n",
              "          await google.colab.output.renderOutput(dataTable, element);\n",
              "          const docLink = document.createElement('div');\n",
              "          docLink.innerHTML = docLinkHtml;\n",
              "          element.appendChild(docLink);\n",
              "        }\n",
              "      </script>\n",
              "    </div>\n",
              "  </div>\n",
              "  "
            ]
          },
          "metadata": {},
          "execution_count": 5
        }
      ],
      "source": [
        "# Unzip downloaded dataset\n",
        "unzipDataset()"
      ]
    },
    {
      "cell_type": "code",
      "execution_count": null,
      "metadata": {
        "id": "7sA5MvN_Afs7"
      },
      "outputs": [],
      "source": [
        "rev_df = unzipDataset()"
      ]
    },
    {
      "cell_type": "markdown",
      "metadata": {
        "id": "wxLhx2fnBawT"
      },
      "source": [
        "# Analysing the dataframe variables\n",
        "\n",
        "Obs: Looking up every single variable and its patterns."
      ]
    },
    {
      "cell_type": "markdown",
      "metadata": {
        "id": "x82Z3kDPPuK4"
      },
      "source": [
        "## Data - Age"
      ]
    },
    {
      "cell_type": "code",
      "execution_count": null,
      "metadata": {
        "colab": {
          "base_uri": "https://localhost:8080/",
          "height": 424
        },
        "id": "xoxs_vX1Nmmf",
        "outputId": "169d5b85-01e4-4990-fd0a-91d71e1b94b5"
      },
      "outputs": [
        {
          "output_type": "execute_result",
          "data": {
            "text/plain": [
              "     Age Sex ChestPainType  RestingBP  Cholesterol  FastingBS RestingECG  \\\n",
              "0     40   M           ATA        140          289          0     Normal   \n",
              "1     49   F           NAP        160          180          0     Normal   \n",
              "2     37   M           ATA        130          283          0         ST   \n",
              "3     48   F           ASY        138          214          0     Normal   \n",
              "4     54   M           NAP        150          195          0     Normal   \n",
              "..   ...  ..           ...        ...          ...        ...        ...   \n",
              "913   45   M            TA        110          264          0     Normal   \n",
              "914   68   M           ASY        144          193          1     Normal   \n",
              "915   57   M           ASY        130          131          0     Normal   \n",
              "916   57   F           ATA        130          236          0        LVH   \n",
              "917   38   M           NAP        138          175          0     Normal   \n",
              "\n",
              "     MaxHR ExerciseAngina  Oldpeak ST_Slope  HeartDisease  \n",
              "0      172              N      0.0       Up             0  \n",
              "1      156              N      1.0     Flat             1  \n",
              "2       98              N      0.0       Up             0  \n",
              "3      108              Y      1.5     Flat             1  \n",
              "4      122              N      0.0       Up             0  \n",
              "..     ...            ...      ...      ...           ...  \n",
              "913    132              N      1.2     Flat             1  \n",
              "914    141              N      3.4     Flat             1  \n",
              "915    115              Y      1.2     Flat             1  \n",
              "916    174              N      0.0     Flat             1  \n",
              "917    173              N      0.0       Up             0  \n",
              "\n",
              "[918 rows x 12 columns]"
            ],
            "text/html": [
              "\n",
              "  <div id=\"df-7019d2ac-2084-4568-aab0-e440b434c644\">\n",
              "    <div class=\"colab-df-container\">\n",
              "      <div>\n",
              "<style scoped>\n",
              "    .dataframe tbody tr th:only-of-type {\n",
              "        vertical-align: middle;\n",
              "    }\n",
              "\n",
              "    .dataframe tbody tr th {\n",
              "        vertical-align: top;\n",
              "    }\n",
              "\n",
              "    .dataframe thead th {\n",
              "        text-align: right;\n",
              "    }\n",
              "</style>\n",
              "<table border=\"1\" class=\"dataframe\">\n",
              "  <thead>\n",
              "    <tr style=\"text-align: right;\">\n",
              "      <th></th>\n",
              "      <th>Age</th>\n",
              "      <th>Sex</th>\n",
              "      <th>ChestPainType</th>\n",
              "      <th>RestingBP</th>\n",
              "      <th>Cholesterol</th>\n",
              "      <th>FastingBS</th>\n",
              "      <th>RestingECG</th>\n",
              "      <th>MaxHR</th>\n",
              "      <th>ExerciseAngina</th>\n",
              "      <th>Oldpeak</th>\n",
              "      <th>ST_Slope</th>\n",
              "      <th>HeartDisease</th>\n",
              "    </tr>\n",
              "  </thead>\n",
              "  <tbody>\n",
              "    <tr>\n",
              "      <th>0</th>\n",
              "      <td>40</td>\n",
              "      <td>M</td>\n",
              "      <td>ATA</td>\n",
              "      <td>140</td>\n",
              "      <td>289</td>\n",
              "      <td>0</td>\n",
              "      <td>Normal</td>\n",
              "      <td>172</td>\n",
              "      <td>N</td>\n",
              "      <td>0.0</td>\n",
              "      <td>Up</td>\n",
              "      <td>0</td>\n",
              "    </tr>\n",
              "    <tr>\n",
              "      <th>1</th>\n",
              "      <td>49</td>\n",
              "      <td>F</td>\n",
              "      <td>NAP</td>\n",
              "      <td>160</td>\n",
              "      <td>180</td>\n",
              "      <td>0</td>\n",
              "      <td>Normal</td>\n",
              "      <td>156</td>\n",
              "      <td>N</td>\n",
              "      <td>1.0</td>\n",
              "      <td>Flat</td>\n",
              "      <td>1</td>\n",
              "    </tr>\n",
              "    <tr>\n",
              "      <th>2</th>\n",
              "      <td>37</td>\n",
              "      <td>M</td>\n",
              "      <td>ATA</td>\n",
              "      <td>130</td>\n",
              "      <td>283</td>\n",
              "      <td>0</td>\n",
              "      <td>ST</td>\n",
              "      <td>98</td>\n",
              "      <td>N</td>\n",
              "      <td>0.0</td>\n",
              "      <td>Up</td>\n",
              "      <td>0</td>\n",
              "    </tr>\n",
              "    <tr>\n",
              "      <th>3</th>\n",
              "      <td>48</td>\n",
              "      <td>F</td>\n",
              "      <td>ASY</td>\n",
              "      <td>138</td>\n",
              "      <td>214</td>\n",
              "      <td>0</td>\n",
              "      <td>Normal</td>\n",
              "      <td>108</td>\n",
              "      <td>Y</td>\n",
              "      <td>1.5</td>\n",
              "      <td>Flat</td>\n",
              "      <td>1</td>\n",
              "    </tr>\n",
              "    <tr>\n",
              "      <th>4</th>\n",
              "      <td>54</td>\n",
              "      <td>M</td>\n",
              "      <td>NAP</td>\n",
              "      <td>150</td>\n",
              "      <td>195</td>\n",
              "      <td>0</td>\n",
              "      <td>Normal</td>\n",
              "      <td>122</td>\n",
              "      <td>N</td>\n",
              "      <td>0.0</td>\n",
              "      <td>Up</td>\n",
              "      <td>0</td>\n",
              "    </tr>\n",
              "    <tr>\n",
              "      <th>...</th>\n",
              "      <td>...</td>\n",
              "      <td>...</td>\n",
              "      <td>...</td>\n",
              "      <td>...</td>\n",
              "      <td>...</td>\n",
              "      <td>...</td>\n",
              "      <td>...</td>\n",
              "      <td>...</td>\n",
              "      <td>...</td>\n",
              "      <td>...</td>\n",
              "      <td>...</td>\n",
              "      <td>...</td>\n",
              "    </tr>\n",
              "    <tr>\n",
              "      <th>913</th>\n",
              "      <td>45</td>\n",
              "      <td>M</td>\n",
              "      <td>TA</td>\n",
              "      <td>110</td>\n",
              "      <td>264</td>\n",
              "      <td>0</td>\n",
              "      <td>Normal</td>\n",
              "      <td>132</td>\n",
              "      <td>N</td>\n",
              "      <td>1.2</td>\n",
              "      <td>Flat</td>\n",
              "      <td>1</td>\n",
              "    </tr>\n",
              "    <tr>\n",
              "      <th>914</th>\n",
              "      <td>68</td>\n",
              "      <td>M</td>\n",
              "      <td>ASY</td>\n",
              "      <td>144</td>\n",
              "      <td>193</td>\n",
              "      <td>1</td>\n",
              "      <td>Normal</td>\n",
              "      <td>141</td>\n",
              "      <td>N</td>\n",
              "      <td>3.4</td>\n",
              "      <td>Flat</td>\n",
              "      <td>1</td>\n",
              "    </tr>\n",
              "    <tr>\n",
              "      <th>915</th>\n",
              "      <td>57</td>\n",
              "      <td>M</td>\n",
              "      <td>ASY</td>\n",
              "      <td>130</td>\n",
              "      <td>131</td>\n",
              "      <td>0</td>\n",
              "      <td>Normal</td>\n",
              "      <td>115</td>\n",
              "      <td>Y</td>\n",
              "      <td>1.2</td>\n",
              "      <td>Flat</td>\n",
              "      <td>1</td>\n",
              "    </tr>\n",
              "    <tr>\n",
              "      <th>916</th>\n",
              "      <td>57</td>\n",
              "      <td>F</td>\n",
              "      <td>ATA</td>\n",
              "      <td>130</td>\n",
              "      <td>236</td>\n",
              "      <td>0</td>\n",
              "      <td>LVH</td>\n",
              "      <td>174</td>\n",
              "      <td>N</td>\n",
              "      <td>0.0</td>\n",
              "      <td>Flat</td>\n",
              "      <td>1</td>\n",
              "    </tr>\n",
              "    <tr>\n",
              "      <th>917</th>\n",
              "      <td>38</td>\n",
              "      <td>M</td>\n",
              "      <td>NAP</td>\n",
              "      <td>138</td>\n",
              "      <td>175</td>\n",
              "      <td>0</td>\n",
              "      <td>Normal</td>\n",
              "      <td>173</td>\n",
              "      <td>N</td>\n",
              "      <td>0.0</td>\n",
              "      <td>Up</td>\n",
              "      <td>0</td>\n",
              "    </tr>\n",
              "  </tbody>\n",
              "</table>\n",
              "<p>918 rows × 12 columns</p>\n",
              "</div>\n",
              "      <button class=\"colab-df-convert\" onclick=\"convertToInteractive('df-7019d2ac-2084-4568-aab0-e440b434c644')\"\n",
              "              title=\"Convert this dataframe to an interactive table.\"\n",
              "              style=\"display:none;\">\n",
              "        \n",
              "  <svg xmlns=\"http://www.w3.org/2000/svg\" height=\"24px\"viewBox=\"0 0 24 24\"\n",
              "       width=\"24px\">\n",
              "    <path d=\"M0 0h24v24H0V0z\" fill=\"none\"/>\n",
              "    <path d=\"M18.56 5.44l.94 2.06.94-2.06 2.06-.94-2.06-.94-.94-2.06-.94 2.06-2.06.94zm-11 1L8.5 8.5l.94-2.06 2.06-.94-2.06-.94L8.5 2.5l-.94 2.06-2.06.94zm10 10l.94 2.06.94-2.06 2.06-.94-2.06-.94-.94-2.06-.94 2.06-2.06.94z\"/><path d=\"M17.41 7.96l-1.37-1.37c-.4-.4-.92-.59-1.43-.59-.52 0-1.04.2-1.43.59L10.3 9.45l-7.72 7.72c-.78.78-.78 2.05 0 2.83L4 21.41c.39.39.9.59 1.41.59.51 0 1.02-.2 1.41-.59l7.78-7.78 2.81-2.81c.8-.78.8-2.07 0-2.86zM5.41 20L4 18.59l7.72-7.72 1.47 1.35L5.41 20z\"/>\n",
              "  </svg>\n",
              "      </button>\n",
              "      \n",
              "  <style>\n",
              "    .colab-df-container {\n",
              "      display:flex;\n",
              "      flex-wrap:wrap;\n",
              "      gap: 12px;\n",
              "    }\n",
              "\n",
              "    .colab-df-convert {\n",
              "      background-color: #E8F0FE;\n",
              "      border: none;\n",
              "      border-radius: 50%;\n",
              "      cursor: pointer;\n",
              "      display: none;\n",
              "      fill: #1967D2;\n",
              "      height: 32px;\n",
              "      padding: 0 0 0 0;\n",
              "      width: 32px;\n",
              "    }\n",
              "\n",
              "    .colab-df-convert:hover {\n",
              "      background-color: #E2EBFA;\n",
              "      box-shadow: 0px 1px 2px rgba(60, 64, 67, 0.3), 0px 1px 3px 1px rgba(60, 64, 67, 0.15);\n",
              "      fill: #174EA6;\n",
              "    }\n",
              "\n",
              "    [theme=dark] .colab-df-convert {\n",
              "      background-color: #3B4455;\n",
              "      fill: #D2E3FC;\n",
              "    }\n",
              "\n",
              "    [theme=dark] .colab-df-convert:hover {\n",
              "      background-color: #434B5C;\n",
              "      box-shadow: 0px 1px 3px 1px rgba(0, 0, 0, 0.15);\n",
              "      filter: drop-shadow(0px 1px 2px rgba(0, 0, 0, 0.3));\n",
              "      fill: #FFFFFF;\n",
              "    }\n",
              "  </style>\n",
              "\n",
              "      <script>\n",
              "        const buttonEl =\n",
              "          document.querySelector('#df-7019d2ac-2084-4568-aab0-e440b434c644 button.colab-df-convert');\n",
              "        buttonEl.style.display =\n",
              "          google.colab.kernel.accessAllowed ? 'block' : 'none';\n",
              "\n",
              "        async function convertToInteractive(key) {\n",
              "          const element = document.querySelector('#df-7019d2ac-2084-4568-aab0-e440b434c644');\n",
              "          const dataTable =\n",
              "            await google.colab.kernel.invokeFunction('convertToInteractive',\n",
              "                                                     [key], {});\n",
              "          if (!dataTable) return;\n",
              "\n",
              "          const docLinkHtml = 'Like what you see? Visit the ' +\n",
              "            '<a target=\"_blank\" href=https://colab.research.google.com/notebooks/data_table.ipynb>data table notebook</a>'\n",
              "            + ' to learn more about interactive tables.';\n",
              "          element.innerHTML = '';\n",
              "          dataTable['output_type'] = 'display_data';\n",
              "          await google.colab.output.renderOutput(dataTable, element);\n",
              "          const docLink = document.createElement('div');\n",
              "          docLink.innerHTML = docLinkHtml;\n",
              "          element.appendChild(docLink);\n",
              "        }\n",
              "      </script>\n",
              "    </div>\n",
              "  </div>\n",
              "  "
            ]
          },
          "metadata": {},
          "execution_count": 9
        }
      ],
      "source": [
        "rev_df"
      ]
    },
    {
      "cell_type": "code",
      "execution_count": null,
      "metadata": {
        "colab": {
          "base_uri": "https://localhost:8080/"
        },
        "id": "XmotPwfZdet5",
        "outputId": "43bca40b-bc03-4fca-87bf-b2ff3bc99da8"
      },
      "outputs": [
        {
          "output_type": "execute_result",
          "data": {
            "text/plain": [
              "(918, 12)"
            ]
          },
          "metadata": {},
          "execution_count": 10
        }
      ],
      "source": [
        "rev_df.shape"
      ]
    },
    {
      "cell_type": "markdown",
      "metadata": {
        "id": "FgPbfvHIHFp-"
      },
      "source": [
        "### Some observations:\n",
        "\n",
        "\n",
        "\n",
        "1.   The highest incidence of heart failure occurs in the ages between 50 and 60 years old.\n",
        "2.   The attribute 'nbins' mins how large the graph plotted columns are going to be.\n",
        "3.   The function 'histogram' only exists on plotly.express package and not plotly only.\n",
        "4.   Using Seaborn (sns) is possible to see the trend through the ages. Ages in seventies are less damaged by heart failure. Interesting...\n",
        "\n",
        "\n",
        "\n"
      ]
    },
    {
      "cell_type": "code",
      "execution_count": null,
      "metadata": {
        "colab": {
          "base_uri": "https://localhost:8080/",
          "height": 517
        },
        "id": "s0vS8ri1Bgpi",
        "outputId": "8a8bab9b-acd4-4968-f83f-f0d1a84151d7"
      },
      "outputs": [
        {
          "output_type": "display_data",
          "data": {
            "text/html": [
              "<html>\n",
              "<head><meta charset=\"utf-8\" /></head>\n",
              "<body>\n",
              "    <div>            <script src=\"https://cdnjs.cloudflare.com/ajax/libs/mathjax/2.7.5/MathJax.js?config=TeX-AMS-MML_SVG\"></script><script type=\"text/javascript\">if (window.MathJax) {MathJax.Hub.Config({SVG: {font: \"STIX-Web\"}});}</script>                <script type=\"text/javascript\">window.PlotlyConfig = {MathJaxConfig: 'local'};</script>\n",
              "        <script src=\"https://cdn.plot.ly/plotly-2.8.3.min.js\"></script>                <div id=\"592c85d1-3808-4f2b-bd1a-98a5fa6685ad\" class=\"plotly-graph-div\" style=\"height:500px; width:800px;\"></div>            <script type=\"text/javascript\">                                    window.PLOTLYENV=window.PLOTLYENV || {};                                    if (document.getElementById(\"592c85d1-3808-4f2b-bd1a-98a5fa6685ad\")) {                    Plotly.newPlot(                        \"592c85d1-3808-4f2b-bd1a-98a5fa6685ad\",                        [{\"alignmentgroup\":\"True\",\"bingroup\":\"x\",\"hovertemplate\":\"Age=%{x}<br>count=%{y}<extra></extra>\",\"legendgroup\":\"\",\"marker\":{\"color\":\"#636efa\",\"pattern\":{\"shape\":\"\"}},\"name\":\"\",\"nbinsx\":60,\"offsetgroup\":\"\",\"orientation\":\"v\",\"showlegend\":false,\"x\":[40,49,37,48,54,39,45,54,37,48,37,58,39,49,42,54,38,43,60,36,43,44,49,44,40,36,53,52,53,51,53,56,54,41,43,32,65,41,48,48,54,54,35,52,43,59,37,50,36,41,50,47,45,41,52,51,31,58,54,52,49,43,45,46,50,37,45,32,52,44,57,44,52,44,55,46,32,35,52,49,55,54,63,52,56,66,65,53,43,55,49,39,52,48,39,58,43,39,56,41,65,51,40,40,46,57,48,34,50,39,59,57,47,38,49,33,38,59,35,34,47,52,46,58,58,54,34,48,54,42,38,46,56,56,61,49,43,39,54,43,52,50,47,53,56,39,42,43,50,54,39,48,40,55,41,56,38,49,44,54,59,49,47,42,52,46,50,48,58,58,29,40,53,49,52,43,54,59,37,46,52,51,52,46,54,58,58,41,50,53,46,50,48,45,41,62,49,42,53,57,47,46,42,31,56,50,35,35,28,54,48,50,56,56,47,30,39,54,55,29,46,51,48,33,55,50,53,38,41,37,37,40,38,41,54,39,41,55,48,48,55,54,55,43,48,54,54,48,45,49,44,48,61,62,55,53,55,36,51,55,46,54,46,59,47,54,52,34,54,47,45,32,55,55,45,59,51,52,57,54,60,49,51,55,42,51,59,53,48,36,48,47,53,65,32,61,50,57,51,47,60,55,53,62,51,51,55,53,58,57,65,60,41,34,53,74,57,56,61,68,59,63,38,62,46,42,45,59,52,60,60,56,38,40,51,62,72,63,63,64,43,64,61,52,51,69,59,48,69,36,53,43,56,58,55,67,46,53,38,53,62,47,56,56,56,64,61,68,57,63,60,66,63,59,61,73,47,65,70,50,60,50,43,38,54,61,42,53,55,61,51,70,61,38,57,38,62,58,52,61,50,51,65,52,47,35,57,62,59,53,62,54,56,56,54,66,63,44,60,55,66,66,65,60,60,60,56,59,62,63,57,62,63,46,63,60,58,64,63,74,52,69,51,60,56,55,54,77,63,55,52,64,60,60,58,59,61,40,61,41,57,63,59,51,59,42,55,63,62,56,53,68,53,60,62,59,51,61,57,56,58,69,67,58,65,63,55,57,65,54,72,75,49,51,60,64,58,61,67,62,65,63,69,51,62,55,75,40,67,58,60,63,35,62,43,63,68,65,48,63,64,61,50,59,55,45,65,61,49,72,50,64,55,63,59,56,62,74,54,57,62,76,54,70,61,48,48,61,66,68,55,62,71,74,53,58,75,56,58,64,54,54,59,55,57,61,41,71,38,55,56,69,64,72,69,56,62,67,57,69,51,48,69,69,64,57,53,37,67,74,63,58,61,64,58,60,57,55,55,56,57,61,61,74,68,51,62,53,62,46,54,62,55,58,62,70,67,57,64,74,65,56,59,60,63,59,53,44,61,57,71,46,53,64,40,67,48,43,47,54,48,46,51,58,71,57,66,37,59,50,48,61,59,42,48,40,62,44,46,59,58,49,44,66,65,42,52,65,63,45,41,61,60,59,62,57,51,44,60,63,57,51,58,44,47,61,57,70,76,67,45,45,39,42,56,58,35,58,41,57,42,62,59,41,50,59,61,54,54,52,47,66,58,64,50,44,67,49,57,63,48,51,60,59,45,55,41,60,54,42,49,46,56,66,56,49,54,57,65,54,54,62,52,52,60,63,66,42,64,54,46,67,56,34,57,64,59,50,51,54,53,52,40,58,41,41,50,54,64,51,46,55,45,56,66,38,62,55,58,43,64,50,53,45,65,69,69,67,68,34,62,51,46,67,50,42,56,41,42,53,43,56,52,62,70,54,70,54,35,48,55,58,54,69,77,68,58,60,51,55,52,60,58,64,37,59,51,43,58,29,41,63,51,54,44,54,65,57,63,35,41,62,43,58,52,61,39,45,52,62,62,53,43,47,52,68,39,53,62,51,60,65,65,60,60,54,44,44,51,59,71,61,55,64,43,58,60,58,49,48,52,44,56,57,67,53,52,43,52,59,64,66,39,57,58,57,47,55,35,61,58,58,58,56,56,67,55,44,63,63,41,59,57,45,68,57,57,38],\"xaxis\":\"x\",\"yaxis\":\"y\",\"type\":\"histogram\"}],                        {\"template\":{\"data\":{\"bar\":[{\"error_x\":{\"color\":\"#2a3f5f\"},\"error_y\":{\"color\":\"#2a3f5f\"},\"marker\":{\"line\":{\"color\":\"#E5ECF6\",\"width\":0.5},\"pattern\":{\"fillmode\":\"overlay\",\"size\":10,\"solidity\":0.2}},\"type\":\"bar\"}],\"barpolar\":[{\"marker\":{\"line\":{\"color\":\"#E5ECF6\",\"width\":0.5},\"pattern\":{\"fillmode\":\"overlay\",\"size\":10,\"solidity\":0.2}},\"type\":\"barpolar\"}],\"carpet\":[{\"aaxis\":{\"endlinecolor\":\"#2a3f5f\",\"gridcolor\":\"white\",\"linecolor\":\"white\",\"minorgridcolor\":\"white\",\"startlinecolor\":\"#2a3f5f\"},\"baxis\":{\"endlinecolor\":\"#2a3f5f\",\"gridcolor\":\"white\",\"linecolor\":\"white\",\"minorgridcolor\":\"white\",\"startlinecolor\":\"#2a3f5f\"},\"type\":\"carpet\"}],\"choropleth\":[{\"colorbar\":{\"outlinewidth\":0,\"ticks\":\"\"},\"type\":\"choropleth\"}],\"contour\":[{\"colorbar\":{\"outlinewidth\":0,\"ticks\":\"\"},\"colorscale\":[[0.0,\"#0d0887\"],[0.1111111111111111,\"#46039f\"],[0.2222222222222222,\"#7201a8\"],[0.3333333333333333,\"#9c179e\"],[0.4444444444444444,\"#bd3786\"],[0.5555555555555556,\"#d8576b\"],[0.6666666666666666,\"#ed7953\"],[0.7777777777777778,\"#fb9f3a\"],[0.8888888888888888,\"#fdca26\"],[1.0,\"#f0f921\"]],\"type\":\"contour\"}],\"contourcarpet\":[{\"colorbar\":{\"outlinewidth\":0,\"ticks\":\"\"},\"type\":\"contourcarpet\"}],\"heatmap\":[{\"colorbar\":{\"outlinewidth\":0,\"ticks\":\"\"},\"colorscale\":[[0.0,\"#0d0887\"],[0.1111111111111111,\"#46039f\"],[0.2222222222222222,\"#7201a8\"],[0.3333333333333333,\"#9c179e\"],[0.4444444444444444,\"#bd3786\"],[0.5555555555555556,\"#d8576b\"],[0.6666666666666666,\"#ed7953\"],[0.7777777777777778,\"#fb9f3a\"],[0.8888888888888888,\"#fdca26\"],[1.0,\"#f0f921\"]],\"type\":\"heatmap\"}],\"heatmapgl\":[{\"colorbar\":{\"outlinewidth\":0,\"ticks\":\"\"},\"colorscale\":[[0.0,\"#0d0887\"],[0.1111111111111111,\"#46039f\"],[0.2222222222222222,\"#7201a8\"],[0.3333333333333333,\"#9c179e\"],[0.4444444444444444,\"#bd3786\"],[0.5555555555555556,\"#d8576b\"],[0.6666666666666666,\"#ed7953\"],[0.7777777777777778,\"#fb9f3a\"],[0.8888888888888888,\"#fdca26\"],[1.0,\"#f0f921\"]],\"type\":\"heatmapgl\"}],\"histogram\":[{\"marker\":{\"pattern\":{\"fillmode\":\"overlay\",\"size\":10,\"solidity\":0.2}},\"type\":\"histogram\"}],\"histogram2d\":[{\"colorbar\":{\"outlinewidth\":0,\"ticks\":\"\"},\"colorscale\":[[0.0,\"#0d0887\"],[0.1111111111111111,\"#46039f\"],[0.2222222222222222,\"#7201a8\"],[0.3333333333333333,\"#9c179e\"],[0.4444444444444444,\"#bd3786\"],[0.5555555555555556,\"#d8576b\"],[0.6666666666666666,\"#ed7953\"],[0.7777777777777778,\"#fb9f3a\"],[0.8888888888888888,\"#fdca26\"],[1.0,\"#f0f921\"]],\"type\":\"histogram2d\"}],\"histogram2dcontour\":[{\"colorbar\":{\"outlinewidth\":0,\"ticks\":\"\"},\"colorscale\":[[0.0,\"#0d0887\"],[0.1111111111111111,\"#46039f\"],[0.2222222222222222,\"#7201a8\"],[0.3333333333333333,\"#9c179e\"],[0.4444444444444444,\"#bd3786\"],[0.5555555555555556,\"#d8576b\"],[0.6666666666666666,\"#ed7953\"],[0.7777777777777778,\"#fb9f3a\"],[0.8888888888888888,\"#fdca26\"],[1.0,\"#f0f921\"]],\"type\":\"histogram2dcontour\"}],\"mesh3d\":[{\"colorbar\":{\"outlinewidth\":0,\"ticks\":\"\"},\"type\":\"mesh3d\"}],\"parcoords\":[{\"line\":{\"colorbar\":{\"outlinewidth\":0,\"ticks\":\"\"}},\"type\":\"parcoords\"}],\"pie\":[{\"automargin\":true,\"type\":\"pie\"}],\"scatter\":[{\"marker\":{\"colorbar\":{\"outlinewidth\":0,\"ticks\":\"\"}},\"type\":\"scatter\"}],\"scatter3d\":[{\"line\":{\"colorbar\":{\"outlinewidth\":0,\"ticks\":\"\"}},\"marker\":{\"colorbar\":{\"outlinewidth\":0,\"ticks\":\"\"}},\"type\":\"scatter3d\"}],\"scattercarpet\":[{\"marker\":{\"colorbar\":{\"outlinewidth\":0,\"ticks\":\"\"}},\"type\":\"scattercarpet\"}],\"scattergeo\":[{\"marker\":{\"colorbar\":{\"outlinewidth\":0,\"ticks\":\"\"}},\"type\":\"scattergeo\"}],\"scattergl\":[{\"marker\":{\"colorbar\":{\"outlinewidth\":0,\"ticks\":\"\"}},\"type\":\"scattergl\"}],\"scattermapbox\":[{\"marker\":{\"colorbar\":{\"outlinewidth\":0,\"ticks\":\"\"}},\"type\":\"scattermapbox\"}],\"scatterpolar\":[{\"marker\":{\"colorbar\":{\"outlinewidth\":0,\"ticks\":\"\"}},\"type\":\"scatterpolar\"}],\"scatterpolargl\":[{\"marker\":{\"colorbar\":{\"outlinewidth\":0,\"ticks\":\"\"}},\"type\":\"scatterpolargl\"}],\"scatterternary\":[{\"marker\":{\"colorbar\":{\"outlinewidth\":0,\"ticks\":\"\"}},\"type\":\"scatterternary\"}],\"surface\":[{\"colorbar\":{\"outlinewidth\":0,\"ticks\":\"\"},\"colorscale\":[[0.0,\"#0d0887\"],[0.1111111111111111,\"#46039f\"],[0.2222222222222222,\"#7201a8\"],[0.3333333333333333,\"#9c179e\"],[0.4444444444444444,\"#bd3786\"],[0.5555555555555556,\"#d8576b\"],[0.6666666666666666,\"#ed7953\"],[0.7777777777777778,\"#fb9f3a\"],[0.8888888888888888,\"#fdca26\"],[1.0,\"#f0f921\"]],\"type\":\"surface\"}],\"table\":[{\"cells\":{\"fill\":{\"color\":\"#EBF0F8\"},\"line\":{\"color\":\"white\"}},\"header\":{\"fill\":{\"color\":\"#C8D4E3\"},\"line\":{\"color\":\"white\"}},\"type\":\"table\"}]},\"layout\":{\"annotationdefaults\":{\"arrowcolor\":\"#2a3f5f\",\"arrowhead\":0,\"arrowwidth\":1},\"autotypenumbers\":\"strict\",\"coloraxis\":{\"colorbar\":{\"outlinewidth\":0,\"ticks\":\"\"}},\"colorscale\":{\"diverging\":[[0,\"#8e0152\"],[0.1,\"#c51b7d\"],[0.2,\"#de77ae\"],[0.3,\"#f1b6da\"],[0.4,\"#fde0ef\"],[0.5,\"#f7f7f7\"],[0.6,\"#e6f5d0\"],[0.7,\"#b8e186\"],[0.8,\"#7fbc41\"],[0.9,\"#4d9221\"],[1,\"#276419\"]],\"sequential\":[[0.0,\"#0d0887\"],[0.1111111111111111,\"#46039f\"],[0.2222222222222222,\"#7201a8\"],[0.3333333333333333,\"#9c179e\"],[0.4444444444444444,\"#bd3786\"],[0.5555555555555556,\"#d8576b\"],[0.6666666666666666,\"#ed7953\"],[0.7777777777777778,\"#fb9f3a\"],[0.8888888888888888,\"#fdca26\"],[1.0,\"#f0f921\"]],\"sequentialminus\":[[0.0,\"#0d0887\"],[0.1111111111111111,\"#46039f\"],[0.2222222222222222,\"#7201a8\"],[0.3333333333333333,\"#9c179e\"],[0.4444444444444444,\"#bd3786\"],[0.5555555555555556,\"#d8576b\"],[0.6666666666666666,\"#ed7953\"],[0.7777777777777778,\"#fb9f3a\"],[0.8888888888888888,\"#fdca26\"],[1.0,\"#f0f921\"]]},\"colorway\":[\"#636efa\",\"#EF553B\",\"#00cc96\",\"#ab63fa\",\"#FFA15A\",\"#19d3f3\",\"#FF6692\",\"#B6E880\",\"#FF97FF\",\"#FECB52\"],\"font\":{\"color\":\"#2a3f5f\"},\"geo\":{\"bgcolor\":\"white\",\"lakecolor\":\"white\",\"landcolor\":\"#E5ECF6\",\"showlakes\":true,\"showland\":true,\"subunitcolor\":\"white\"},\"hoverlabel\":{\"align\":\"left\"},\"hovermode\":\"closest\",\"mapbox\":{\"style\":\"light\"},\"paper_bgcolor\":\"white\",\"plot_bgcolor\":\"#E5ECF6\",\"polar\":{\"angularaxis\":{\"gridcolor\":\"white\",\"linecolor\":\"white\",\"ticks\":\"\"},\"bgcolor\":\"#E5ECF6\",\"radialaxis\":{\"gridcolor\":\"white\",\"linecolor\":\"white\",\"ticks\":\"\"}},\"scene\":{\"xaxis\":{\"backgroundcolor\":\"#E5ECF6\",\"gridcolor\":\"white\",\"gridwidth\":2,\"linecolor\":\"white\",\"showbackground\":true,\"ticks\":\"\",\"zerolinecolor\":\"white\"},\"yaxis\":{\"backgroundcolor\":\"#E5ECF6\",\"gridcolor\":\"white\",\"gridwidth\":2,\"linecolor\":\"white\",\"showbackground\":true,\"ticks\":\"\",\"zerolinecolor\":\"white\"},\"zaxis\":{\"backgroundcolor\":\"#E5ECF6\",\"gridcolor\":\"white\",\"gridwidth\":2,\"linecolor\":\"white\",\"showbackground\":true,\"ticks\":\"\",\"zerolinecolor\":\"white\"}},\"shapedefaults\":{\"line\":{\"color\":\"#2a3f5f\"}},\"ternary\":{\"aaxis\":{\"gridcolor\":\"white\",\"linecolor\":\"white\",\"ticks\":\"\"},\"baxis\":{\"gridcolor\":\"white\",\"linecolor\":\"white\",\"ticks\":\"\"},\"bgcolor\":\"#E5ECF6\",\"caxis\":{\"gridcolor\":\"white\",\"linecolor\":\"white\",\"ticks\":\"\"}},\"title\":{\"x\":0.05},\"xaxis\":{\"automargin\":true,\"gridcolor\":\"white\",\"linecolor\":\"white\",\"ticks\":\"\",\"title\":{\"standoff\":15},\"zerolinecolor\":\"white\",\"zerolinewidth\":2},\"yaxis\":{\"automargin\":true,\"gridcolor\":\"white\",\"linecolor\":\"white\",\"ticks\":\"\",\"title\":{\"standoff\":15},\"zerolinecolor\":\"white\",\"zerolinewidth\":2}}},\"xaxis\":{\"anchor\":\"y\",\"domain\":[0.0,1.0],\"title\":{\"text\":\"Age\"}},\"yaxis\":{\"anchor\":\"x\",\"domain\":[0.0,1.0],\"title\":{\"text\":\"count\"}},\"legend\":{\"tracegroupgap\":0},\"margin\":{\"t\":60},\"barmode\":\"relative\",\"title\":{\"text\":\"Distribui\\u00e7\\u00e3o das idades\"},\"width\":800,\"height\":500},                        {\"responsive\": true}                    ).then(function(){\n",
              "                            \n",
              "var gd = document.getElementById('592c85d1-3808-4f2b-bd1a-98a5fa6685ad');\n",
              "var x = new MutationObserver(function (mutations, observer) {{\n",
              "        var display = window.getComputedStyle(gd).display;\n",
              "        if (!display || display === 'none') {{\n",
              "            console.log([gd, 'removed!']);\n",
              "            Plotly.purge(gd);\n",
              "            observer.disconnect();\n",
              "        }}\n",
              "}});\n",
              "\n",
              "// Listen for the removal of the full notebook cells\n",
              "var notebookContainer = gd.closest('#notebook-container');\n",
              "if (notebookContainer) {{\n",
              "    x.observe(notebookContainer, {childList: true});\n",
              "}}\n",
              "\n",
              "// Listen for the clearing of the current output cell\n",
              "var outputEl = gd.closest('.output');\n",
              "if (outputEl) {{\n",
              "    x.observe(outputEl, {childList: true});\n",
              "}}\n",
              "\n",
              "                        })                };                            </script>        </div>\n",
              "</body>\n",
              "</html>"
            ]
          },
          "metadata": {}
        }
      ],
      "source": [
        "hist1 = px.histogram (rev_df, x = 'Age', nbins=60)\n",
        "hist1.update_layout(width=800, height=500, title_text = 'Distribuição das idades')\n",
        "hist1.show()"
      ]
    },
    {
      "cell_type": "code",
      "execution_count": null,
      "metadata": {
        "colab": {
          "base_uri": "https://localhost:8080/",
          "height": 296
        },
        "id": "XzXadJu0FpWj",
        "outputId": "9bb8e5b7-eaea-4a74-bd81-0e763098e6a0"
      },
      "outputs": [
        {
          "output_type": "execute_result",
          "data": {
            "text/plain": [
              "<matplotlib.axes._subplots.AxesSubplot at 0x7f8ec108fa10>"
            ]
          },
          "metadata": {},
          "execution_count": 12
        },
        {
          "output_type": "display_data",
          "data": {
            "text/plain": [
              "<Figure size 432x288 with 1 Axes>"
            ],
            "image/png": "[encoded data removed]"
          },
          "metadata": {
            "needs_background": "light"
          }
        }
      ],
      "source": [
        "sns.histplot(rev_df, x='Age', bins=30, color='orange', kde=True, stat='count')"
      ]
    },
    {
      "cell_type": "markdown",
      "metadata": {
        "id": "od2AZcJjP0kO"
      },
      "source": [
        "## Data - Sex (Gender)"
      ]
    },
    {
      "cell_type": "markdown",
      "metadata": {
        "id": "YF6Chcr7Qv9h"
      },
      "source": [
        "Some observations:\n",
        "\n",
        "\n",
        "1.   About gender we've only two classes. That's why we're goint to plot a 'bars graph' instead of using another one (histogram for example).\n",
        "2.   Clearly man are more affected by heart failure than women.\n",
        "3.   If we had the same number of men and women, would the result be the same?\n",
        "\n"
      ]
    },
    {
      "cell_type": "code",
      "execution_count": null,
      "metadata": {
        "colab": {
          "base_uri": "https://localhost:8080/"
        },
        "id": "0bVaCvYVGIpT",
        "outputId": "50ff342f-4b19-4830-c671-02b0a825ae80"
      },
      "outputs": [
        {
          "output_type": "execute_result",
          "data": {
            "text/plain": [
              "M    725\n",
              "F    193\n",
              "Name: Sex, dtype: int64"
            ]
          },
          "metadata": {},
          "execution_count": 13
        }
      ],
      "source": [
        "rev_df['Sex'].value_counts()"
      ]
    },
    {
      "cell_type": "code",
      "execution_count": null,
      "metadata": {
        "colab": {
          "base_uri": "https://localhost:8080/"
        },
        "id": "ZZcm1uDqQAKF",
        "outputId": "b50135c9-fe13-43b1-f9e0-aa11e6dda835"
      },
      "outputs": [
        {
          "output_type": "display_data",
          "data": {
            "text/plain": [
              "<Figure size 432x288 with 1 Axes>"
            ],
            "image/png": "[encoded data removed]"
          },
          "metadata": {
            "needs_background": "light"
          }
        }
      ],
      "source": [
        "sns.countplot(x='Sex', data=rev_df);"
      ]
    },
    {
      "cell_type": "markdown",
      "metadata": {
        "id": "6UAztiT0gIg3"
      },
      "source": [
        "## Data - Chest Pain Type\n",
        "\n",
        "\n",
        "\n",
        "1.   ASY - Asymptomatic\n",
        "2.   NAP - Not Anginous Pain\n",
        "3.   ATA - Atypical Angina\n",
        "4.   TA - Typical Angina\n",
        "\n",
        "\n",
        "Angina: Pain chest caused by the decreasing of blood flow in heart.\n",
        "\n"
      ]
    },
    {
      "cell_type": "code",
      "execution_count": null,
      "metadata": {
        "colab": {
          "base_uri": "https://localhost:8080/"
        },
        "id": "wbN8GuZuiXy9",
        "outputId": "3e65882d-15e7-406b-902b-383a08f2a3fc"
      },
      "outputs": [
        {
          "output_type": "execute_result",
          "data": {
            "text/plain": [
              "ASY    496\n",
              "NAP    203\n",
              "ATA    173\n",
              "TA      46\n",
              "Name: ChestPainType, dtype: int64"
            ]
          },
          "metadata": {},
          "execution_count": 15
        }
      ],
      "source": [
        "rev_df['ChestPainType'].value_counts()"
      ]
    },
    {
      "cell_type": "code",
      "execution_count": null,
      "metadata": {
        "colab": {
          "base_uri": "https://localhost:8080/"
        },
        "id": "jlTUkXd4kPXi",
        "outputId": "e0504739-4ae3-4135-accf-33a65e5e9b95"
      },
      "outputs": [
        {
          "output_type": "display_data",
          "data": {
            "text/plain": [
              "<Figure size 432x288 with 1 Axes>"
            ],
            "image/png": "[encoded data removed]"
          },
          "metadata": {
            "needs_background": "light"
          }
        }
      ],
      "source": [
        "sns.countplot(x='ChestPainType', data=rev_df);"
      ]
    },
    {
      "cell_type": "code",
      "execution_count": null,
      "metadata": {
        "id": "TEbsEC75mF64"
      },
      "outputs": [],
      "source": []
    },
    {
      "cell_type": "markdown",
      "metadata": {
        "id": "GTLeQSR43V8p"
      },
      "source": [
        "## Data - Rest BP (Blood Pressure - mmHg systolic) "
      ]
    },
    {
      "cell_type": "markdown",
      "metadata": {
        "id": "PYQ_4fWi4Epq"
      },
      "source": [
        "Some observations:\n",
        "\n",
        "1.   There's a 'Rest BP' with the value 0 in the result below. It needs to be fixed.\n",
        "\n"
      ]
    },
    {
      "cell_type": "code",
      "execution_count": null,
      "metadata": {
        "colab": {
          "base_uri": "https://localhost:8080/"
        },
        "id": "7mtKGS-t3uQp",
        "outputId": "bb4e63c3-f7a0-4398-b76d-15409cbe42fb"
      },
      "outputs": [
        {
          "output_type": "execute_result",
          "data": {
            "text/plain": [
              "0       1\n",
              "80      1\n",
              "92      1\n",
              "94      2\n",
              "95      6\n",
              "       ..\n",
              "180    12\n",
              "185     1\n",
              "190     2\n",
              "192     1\n",
              "200     4\n",
              "Name: RestingBP, Length: 67, dtype: int64"
            ]
          },
          "metadata": {},
          "execution_count": 17
        }
      ],
      "source": [
        "rev_df['RestingBP'].value_counts().sort_index()"
      ]
    },
    {
      "cell_type": "code",
      "execution_count": null,
      "metadata": {
        "colab": {
          "base_uri": "https://localhost:8080/"
        },
        "id": "5n9p24Zs30U8",
        "outputId": "c21d841e-0ee7-4f2c-d9a7-f864fb5de64d"
      },
      "outputs": [
        {
          "output_type": "display_data",
          "data": {
            "text/plain": [
              "<Figure size 432x288 with 1 Axes>"
            ],
            "image/png": "[encoded data removed]"
          },
          "metadata": {
            "needs_background": "light"
          }
        }
      ],
      "source": [
        "sns.histplot(rev_df, x='RestingBP', bins=30, color='orange', kde=True, stat='count');"
      ]
    },
    {
      "cell_type": "code",
      "execution_count": null,
      "metadata": {
        "id": "m0cP5vls4o1Y"
      },
      "outputs": [],
      "source": []
    },
    {
      "cell_type": "markdown",
      "metadata": {
        "id": "2VNICL6r5nSB"
      },
      "source": [
        "## Data - Cholesterol"
      ]
    },
    {
      "cell_type": "markdown",
      "metadata": {
        "id": "f_RKzHJu51vA"
      },
      "source": [
        "Some observations:\n",
        "\n",
        "1.   There's a 'Cholesterol' with the value 0 in the result below as well. It also needs to be fixed.\n"
      ]
    },
    {
      "cell_type": "code",
      "execution_count": null,
      "metadata": {
        "colab": {
          "base_uri": "https://localhost:8080/"
        },
        "id": "77w-NLBk5pkk",
        "outputId": "7cf444fc-eb77-4bcd-fae6-674a86710f70"
      },
      "outputs": [
        {
          "output_type": "execute_result",
          "data": {
            "text/plain": [
              "0      172\n",
              "85       1\n",
              "100      2\n",
              "110      1\n",
              "113      1\n",
              "      ... \n",
              "491      1\n",
              "518      1\n",
              "529      1\n",
              "564      1\n",
              "603      1\n",
              "Name: Cholesterol, Length: 222, dtype: int64"
            ]
          },
          "metadata": {},
          "execution_count": 19
        }
      ],
      "source": [
        "rev_df['Cholesterol'].value_counts().sort_index()"
      ]
    },
    {
      "cell_type": "code",
      "execution_count": null,
      "metadata": {
        "colab": {
          "base_uri": "https://localhost:8080/"
        },
        "id": "FXgKav287GBf",
        "outputId": "8653721a-dd61-436b-83f6-eb4a0446204b"
      },
      "outputs": [
        {
          "output_type": "display_data",
          "data": {
            "text/plain": [
              "<Figure size 432x288 with 1 Axes>"
            ],
            "image/png": "[encoded data removed]"
          },
          "metadata": {
            "needs_background": "light"
          }
        }
      ],
      "source": [
        "sns.histplot(rev_df, x='Cholesterol', color='orange', stat='count', bins=60, kde = True);"
      ]
    },
    {
      "cell_type": "code",
      "execution_count": null,
      "metadata": {
        "colab": {
          "base_uri": "https://localhost:8080/"
        },
        "id": "slWn4XjR7Ld4",
        "outputId": "57a91431-2492-4356-b9ef-7ac4c4646f19"
      },
      "outputs": [
        {
          "output_type": "stream",
          "name": "stdout",
          "text": [
            "Total of zero cholesterol values is 172\n"
          ]
        }
      ],
      "source": [
        "listResult = list(filter(lambda x: x==0, rev_df['Cholesterol'])).count(0)\n",
        "print('Total of zero cholesterol values is', listResult)"
      ]
    },
    {
      "cell_type": "markdown",
      "metadata": {
        "id": "ywwHSNB3KIqZ"
      },
      "source": [
        "## Data - Fasting BS (blood sugar)"
      ]
    },
    {
      "cell_type": "markdown",
      "metadata": {
        "id": "LwdsvVquL6Dl"
      },
      "source": [
        "Some observations:\n",
        "\n",
        "1.   0 - Fasting BS less than 120 mg/dl is a ***NON DIABETIC***\n",
        "2.   1 - Fasting BS greater or equal to 120 mg/dl is ***DIABETIC***\n",
        "\n"
      ]
    },
    {
      "cell_type": "code",
      "execution_count": null,
      "metadata": {
        "colab": {
          "base_uri": "https://localhost:8080/"
        },
        "id": "xg9TyYseL2j0",
        "outputId": "9cd9bb50-b765-4e57-bd6e-78d02ca3d086"
      },
      "outputs": [
        {
          "output_type": "execute_result",
          "data": {
            "text/plain": [
              "0    704\n",
              "1    214\n",
              "Name: FastingBS, dtype: int64"
            ]
          },
          "metadata": {},
          "execution_count": 22
        }
      ],
      "source": [
        "rev_df['FastingBS'].value_counts()"
      ]
    },
    {
      "cell_type": "code",
      "execution_count": null,
      "metadata": {
        "colab": {
          "base_uri": "https://localhost:8080/"
        },
        "id": "VV5v3Jg1KPUN",
        "outputId": "0eb301df-3392-432c-bed5-9d6d570b278e"
      },
      "outputs": [
        {
          "output_type": "display_data",
          "data": {
            "text/plain": [
              "<Figure size 432x288 with 1 Axes>"
            ],
            "image/png": "[encoded data removed]"
          },
          "metadata": {
            "needs_background": "light"
          }
        }
      ],
      "source": [
        "sns.countplot(x = 'FastingBS', data = rev_df);"
      ]
    },
    {
      "cell_type": "markdown",
      "metadata": {
        "id": "uLliptAWO4lc"
      },
      "source": [
        "## Resting ECG - Resting Electrocardiogram"
      ]
    },
    {
      "cell_type": "markdown",
      "metadata": {
        "id": "f21p41xlPNDy"
      },
      "source": [
        "Some observations:\n",
        "\n",
        "\n",
        "1.   Normal: Normal\n",
        "2.   LVH: Left Ventricular Hypertrophy\n",
        "3.   ST: ST-T Wave abnormality\n",
        "\n",
        "\n",
        "\n",
        "> LVH: https://www.heart.org/en/health-topics/heart-valve-problems-and-disease/heart-valve-problems-and-causes/what-is-left-ventricular-hypertrophy-lvh#:~:text=Left%20ventricular%20hypertrophy%2C%20or%20LVH,pressure%20overwork%20the%20heart%20muscle.\n",
        "\n",
        "\n",
        "> ST: https://ecg.utah.edu/lesson/10\n",
        "\n",
        "\n"
      ]
    },
    {
      "cell_type": "markdown",
      "metadata": {
        "id": "JO1xe2UERj_k"
      },
      "source": [
        "![ondast.png](data:image/png;base64,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)"
      ]
    },
    {
      "cell_type": "markdown",
      "metadata": {
        "id": "3J1UbJiwSCp2"
      },
      "source": [
        "ST Segment: Any ST-segment gap, up (above-level) or down (under-level), should be evaluated as it may correspond to an acute myocardial infarction."
      ]
    },
    {
      "cell_type": "code",
      "execution_count": null,
      "metadata": {
        "colab": {
          "base_uri": "https://localhost:8080/"
        },
        "id": "DEm8YvANPFMR",
        "outputId": "3af29270-c83a-4533-ab38-bcd1602eea20"
      },
      "outputs": [
        {
          "output_type": "execute_result",
          "data": {
            "text/plain": [
              "Normal    552\n",
              "LVH       188\n",
              "ST        178\n",
              "Name: RestingECG, dtype: int64"
            ]
          },
          "metadata": {},
          "execution_count": 24
        }
      ],
      "source": [
        "rev_df['RestingECG'].value_counts()"
      ]
    },
    {
      "cell_type": "code",
      "execution_count": null,
      "metadata": {
        "colab": {
          "base_uri": "https://localhost:8080/"
        },
        "id": "kyr58X_qPKxQ",
        "outputId": "a28013b4-0882-45ad-df99-9bf1db6eb9fe"
      },
      "outputs": [
        {
          "output_type": "display_data",
          "data": {
            "text/plain": [
              "<Figure size 432x288 with 1 Axes>"
            ],
            "image/png": "[encoded data removed]"
          },
          "metadata": {
            "needs_background": "light"
          }
        }
      ],
      "source": [
        "sns.countplot(x = 'RestingECG', data = rev_df);"
      ]
    },
    {
      "cell_type": "markdown",
      "metadata": {
        "id": "qf9ojbfdS7co"
      },
      "source": [
        "Data - Max HR (Heart Rate)"
      ]
    },
    {
      "cell_type": "code",
      "execution_count": null,
      "metadata": {
        "colab": {
          "base_uri": "https://localhost:8080/"
        },
        "id": "QmXkjvOpSfFG",
        "outputId": "add5ce04-52a6-4614-da2e-e31c3c7b900d"
      },
      "outputs": [
        {
          "output_type": "execute_result",
          "data": {
            "text/plain": [
              "60     1\n",
              "63     1\n",
              "67     1\n",
              "69     1\n",
              "70     1\n",
              "      ..\n",
              "190    2\n",
              "192    1\n",
              "194    1\n",
              "195    1\n",
              "202    1\n",
              "Name: MaxHR, Length: 119, dtype: int64"
            ]
          },
          "metadata": {},
          "execution_count": 26
        }
      ],
      "source": [
        "rev_df['MaxHR'].value_counts().sort_index()"
      ]
    },
    {
      "cell_type": "code",
      "execution_count": null,
      "metadata": {
        "colab": {
          "base_uri": "https://localhost:8080/"
        },
        "id": "EIIhmnoATHgz",
        "outputId": "41e457de-06e4-4756-8aab-2f09264dbeb1"
      },
      "outputs": [
        {
          "output_type": "display_data",
          "data": {
            "text/plain": [
              "<Figure size 432x288 with 1 Axes>"
            ],
            "image/png": "[encoded data removed]"
          },
          "metadata": {
            "needs_background": "light"
          }
        }
      ],
      "source": [
        "sns.histplot(rev_df, x='MaxHR', bins=30, color='purple', kde=True, stat = 'count');"
      ]
    },
    {
      "cell_type": "markdown",
      "metadata": {
        "id": "T3aHnpe2V31z"
      },
      "source": [
        "## Data - Exercise Agina"
      ]
    },
    {
      "cell_type": "markdown",
      "metadata": {
        "id": "Z3jJt5rfV9Tz"
      },
      "source": [
        "Some observations:\n",
        "\n",
        "\n",
        "*   Chest pain caused by physical exercises\n",
        "\n"
      ]
    },
    {
      "cell_type": "code",
      "execution_count": null,
      "metadata": {
        "colab": {
          "base_uri": "https://localhost:8080/"
        },
        "id": "4EFE1XNVTRCB",
        "outputId": "0dd1b217-5363-47bc-8c80-43e165c45298"
      },
      "outputs": [
        {
          "output_type": "execute_result",
          "data": {
            "text/plain": [
              "N    547\n",
              "Y    371\n",
              "Name: ExerciseAngina, dtype: int64"
            ]
          },
          "metadata": {},
          "execution_count": 28
        }
      ],
      "source": [
        "rev_df['ExerciseAngina'].value_counts()"
      ]
    },
    {
      "cell_type": "code",
      "execution_count": null,
      "metadata": {
        "colab": {
          "base_uri": "https://localhost:8080/"
        },
        "id": "O18CSUUdWR1e",
        "outputId": "fd8aff36-a250-4690-ba64-d6ffb1972518"
      },
      "outputs": [
        {
          "output_type": "display_data",
          "data": {
            "text/html": [
              "<html>\n",
              "<head><meta charset=\"utf-8\" /></head>\n",
              "<body>\n",
              "    <div>            <script src=\"https://cdnjs.cloudflare.com/ajax/libs/mathjax/2.7.5/MathJax.js?config=TeX-AMS-MML_SVG\"></script><script type=\"text/javascript\">if (window.MathJax) {MathJax.Hub.Config({SVG: {font: \"STIX-Web\"}});}</script>                <script type=\"text/javascript\">window.PlotlyConfig = {MathJaxConfig: 'local'};</script>\n",
              "        <script src=\"https://cdn.plot.ly/plotly-2.8.3.min.js\"></script>                <div id=\"22662c13-6763-4567-81fb-d41f0695e989\" class=\"plotly-graph-div\" style=\"height:400px; width:500px;\"></div>            <script type=\"text/javascript\">                                    window.PLOTLYENV=window.PLOTLYENV || {};                                    if (document.getElementById(\"22662c13-6763-4567-81fb-d41f0695e989\")) {                    Plotly.newPlot(                        \"22662c13-6763-4567-81fb-d41f0695e989\",                        [{\"domain\":{\"x\":[0.0,1.0],\"y\":[0.0,1.0]},\"hovertemplate\":\"ExerciseAngina=%{label}<extra></extra>\",\"labels\":[\"N\",\"N\",\"N\",\"Y\",\"N\",\"N\",\"N\",\"N\",\"Y\",\"N\",\"N\",\"Y\",\"N\",\"Y\",\"N\",\"N\",\"N\",\"N\",\"N\",\"N\",\"N\",\"N\",\"N\",\"Y\",\"N\",\"N\",\"Y\",\"N\",\"N\",\"N\",\"N\",\"N\",\"N\",\"N\",\"N\",\"N\",\"Y\",\"N\",\"N\",\"Y\",\"N\",\"Y\",\"N\",\"N\",\"Y\",\"Y\",\"N\",\"N\",\"N\",\"N\",\"Y\",\"Y\",\"N\",\"N\",\"Y\",\"N\",\"Y\",\"N\",\"N\",\"Y\",\"N\",\"N\",\"N\",\"Y\",\"N\",\"N\",\"N\",\"N\",\"Y\",\"N\",\"Y\",\"N\",\"N\",\"N\",\"Y\",\"N\",\"N\",\"N\",\"Y\",\"N\",\"N\",\"N\",\"N\",\"N\",\"Y\",\"Y\",\"Y\",\"Y\",\"N\",\"Y\",\"N\",\"N\",\"N\",\"Y\",\"N\",\"Y\",\"N\",\"N\",\"N\",\"N\",\"Y\",\"N\",\"N\",\"Y\",\"N\",\"N\",\"N\",\"N\",\"N\",\"N\",\"N\",\"Y\",\"Y\",\"N\",\"N\",\"Y\",\"N\",\"Y\",\"N\",\"N\",\"N\",\"N\",\"N\",\"Y\",\"N\",\"N\",\"N\",\"N\",\"N\",\"Y\",\"N\",\"Y\",\"Y\",\"Y\",\"Y\",\"N\",\"N\",\"N\",\"Y\",\"Y\",\"Y\",\"Y\",\"Y\",\"N\",\"N\",\"N\",\"N\",\"N\",\"N\",\"Y\",\"N\",\"N\",\"N\",\"N\",\"N\",\"Y\",\"Y\",\"N\",\"Y\",\"N\",\"Y\",\"Y\",\"N\",\"N\",\"N\",\"N\",\"Y\",\"N\",\"N\",\"N\",\"N\",\"N\",\"N\",\"N\",\"Y\",\"Y\",\"N\",\"N\",\"N\",\"N\",\"Y\",\"N\",\"Y\",\"Y\",\"N\",\"N\",\"N\",\"Y\",\"Y\",\"Y\",\"N\",\"N\",\"N\",\"N\",\"N\",\"N\",\"N\",\"N\",\"Y\",\"N\",\"N\",\"N\",\"N\",\"N\",\"N\",\"Y\",\"N\",\"N\",\"N\",\"N\",\"N\",\"Y\",\"Y\",\"N\",\"Y\",\"N\",\"N\",\"N\",\"N\",\"N\",\"N\",\"Y\",\"N\",\"N\",\"N\",\"N\",\"N\",\"Y\",\"N\",\"N\",\"N\",\"N\",\"N\",\"N\",\"N\",\"Y\",\"Y\",\"N\",\"Y\",\"Y\",\"N\",\"Y\",\"Y\",\"N\",\"Y\",\"N\",\"Y\",\"Y\",\"Y\",\"Y\",\"N\",\"N\",\"Y\",\"N\",\"Y\",\"N\",\"N\",\"N\",\"N\",\"N\",\"Y\",\"N\",\"Y\",\"N\",\"Y\",\"N\",\"Y\",\"N\",\"Y\",\"N\",\"N\",\"N\",\"Y\",\"N\",\"N\",\"N\",\"N\",\"Y\",\"Y\",\"N\",\"N\",\"N\",\"Y\",\"N\",\"N\",\"N\",\"N\",\"N\",\"N\",\"N\",\"N\",\"N\",\"N\",\"Y\",\"N\",\"Y\",\"Y\",\"Y\",\"N\",\"N\",\"N\",\"N\",\"N\",\"Y\",\"N\",\"Y\",\"N\",\"N\",\"N\",\"N\",\"N\",\"N\",\"N\",\"N\",\"Y\",\"N\",\"N\",\"Y\",\"N\",\"N\",\"N\",\"N\",\"N\",\"Y\",\"N\",\"Y\",\"N\",\"Y\",\"Y\",\"Y\",\"N\",\"N\",\"N\",\"N\",\"N\",\"N\",\"N\",\"N\",\"N\",\"N\",\"N\",\"Y\",\"N\",\"N\",\"N\",\"N\",\"N\",\"N\",\"Y\",\"Y\",\"N\",\"Y\",\"Y\",\"Y\",\"N\",\"N\",\"Y\",\"N\",\"Y\",\"N\",\"Y\",\"Y\",\"N\",\"N\",\"N\",\"Y\",\"Y\",\"Y\",\"Y\",\"Y\",\"Y\",\"Y\",\"Y\",\"Y\",\"Y\",\"N\",\"Y\",\"N\",\"Y\",\"Y\",\"Y\",\"Y\",\"Y\",\"N\",\"N\",\"Y\",\"Y\",\"Y\",\"N\",\"N\",\"N\",\"Y\",\"N\",\"Y\",\"Y\",\"N\",\"N\",\"Y\",\"Y\",\"N\",\"N\",\"N\",\"N\",\"Y\",\"Y\",\"Y\",\"Y\",\"Y\",\"N\",\"Y\",\"N\",\"N\",\"Y\",\"N\",\"Y\",\"N\",\"Y\",\"N\",\"Y\",\"Y\",\"Y\",\"N\",\"Y\",\"Y\",\"Y\",\"N\",\"N\",\"Y\",\"Y\",\"Y\",\"Y\",\"N\",\"Y\",\"Y\",\"N\",\"Y\",\"N\",\"N\",\"Y\",\"N\",\"N\",\"N\",\"Y\",\"Y\",\"Y\",\"Y\",\"Y\",\"Y\",\"Y\",\"N\",\"Y\",\"Y\",\"Y\",\"Y\",\"Y\",\"Y\",\"Y\",\"N\",\"N\",\"N\",\"Y\",\"Y\",\"Y\",\"N\",\"Y\",\"N\",\"Y\",\"N\",\"Y\",\"N\",\"N\",\"Y\",\"Y\",\"Y\",\"N\",\"Y\",\"N\",\"Y\",\"Y\",\"Y\",\"Y\",\"N\",\"N\",\"Y\",\"Y\",\"Y\",\"N\",\"Y\",\"N\",\"Y\",\"Y\",\"N\",\"N\",\"Y\",\"Y\",\"Y\",\"N\",\"Y\",\"Y\",\"Y\",\"Y\",\"Y\",\"Y\",\"N\",\"Y\",\"Y\",\"Y\",\"Y\",\"N\",\"N\",\"N\",\"Y\",\"N\",\"Y\",\"N\",\"N\",\"N\",\"Y\",\"Y\",\"Y\",\"N\",\"Y\",\"Y\",\"Y\",\"N\",\"N\",\"Y\",\"N\",\"Y\",\"Y\",\"Y\",\"Y\",\"N\",\"Y\",\"Y\",\"Y\",\"Y\",\"Y\",\"Y\",\"N\",\"Y\",\"N\",\"Y\",\"Y\",\"Y\",\"N\",\"N\",\"N\",\"N\",\"N\",\"N\",\"N\",\"Y\",\"Y\",\"N\",\"Y\",\"Y\",\"Y\",\"Y\",\"Y\",\"N\",\"N\",\"Y\",\"Y\",\"Y\",\"Y\",\"Y\",\"Y\",\"Y\",\"Y\",\"Y\",\"Y\",\"Y\",\"N\",\"Y\",\"Y\",\"Y\",\"Y\",\"Y\",\"Y\",\"Y\",\"Y\",\"Y\",\"N\",\"Y\",\"N\",\"Y\",\"N\",\"Y\",\"N\",\"N\",\"N\",\"Y\",\"N\",\"Y\",\"Y\",\"N\",\"N\",\"Y\",\"N\",\"Y\",\"Y\",\"Y\",\"Y\",\"Y\",\"N\",\"Y\",\"Y\",\"Y\",\"N\",\"N\",\"N\",\"N\",\"N\",\"Y\",\"N\",\"N\",\"N\",\"Y\",\"Y\",\"N\",\"Y\",\"Y\",\"N\",\"N\",\"N\",\"Y\",\"N\",\"N\",\"N\",\"N\",\"Y\",\"Y\",\"Y\",\"Y\",\"Y\",\"N\",\"N\",\"N\",\"Y\",\"N\",\"Y\",\"N\",\"N\",\"N\",\"N\",\"N\",\"N\",\"Y\",\"Y\",\"Y\",\"Y\",\"N\",\"N\",\"N\",\"N\",\"N\",\"Y\",\"N\",\"N\",\"N\",\"N\",\"N\",\"Y\",\"N\",\"Y\",\"N\",\"N\",\"N\",\"N\",\"N\",\"Y\",\"N\",\"Y\",\"N\",\"N\",\"Y\",\"N\",\"N\",\"N\",\"Y\",\"Y\",\"N\",\"N\",\"N\",\"Y\",\"Y\",\"N\",\"N\",\"N\",\"Y\",\"Y\",\"N\",\"N\",\"N\",\"N\",\"Y\",\"Y\",\"N\",\"Y\",\"N\",\"N\",\"N\",\"N\",\"N\",\"Y\",\"N\",\"Y\",\"Y\",\"N\",\"Y\",\"N\",\"N\",\"N\",\"N\",\"N\",\"N\",\"N\",\"N\",\"N\",\"N\",\"Y\",\"N\",\"Y\",\"N\",\"Y\",\"N\",\"N\",\"N\",\"N\",\"N\",\"N\",\"Y\",\"N\",\"Y\",\"N\",\"Y\",\"Y\",\"N\",\"N\",\"N\",\"Y\",\"N\",\"N\",\"Y\",\"Y\",\"Y\",\"N\",\"Y\",\"N\",\"Y\",\"N\",\"Y\",\"N\",\"Y\",\"N\",\"N\",\"N\",\"Y\",\"N\",\"Y\",\"N\",\"Y\",\"N\",\"Y\",\"N\",\"N\",\"N\",\"N\",\"N\",\"N\",\"Y\",\"N\",\"N\",\"Y\",\"Y\",\"Y\",\"N\",\"Y\",\"N\",\"Y\",\"N\",\"N\",\"Y\",\"N\",\"N\",\"N\",\"Y\",\"N\",\"N\",\"N\",\"Y\",\"N\",\"N\",\"N\",\"N\",\"Y\",\"N\",\"N\",\"N\",\"N\",\"Y\",\"N\",\"N\",\"Y\",\"N\",\"Y\",\"N\",\"Y\",\"N\",\"N\",\"N\",\"N\",\"N\",\"Y\",\"N\",\"N\",\"Y\",\"Y\",\"Y\",\"N\",\"N\",\"Y\",\"Y\",\"N\",\"N\",\"N\",\"N\",\"Y\",\"N\",\"N\",\"N\",\"Y\",\"N\",\"N\",\"Y\",\"N\",\"N\",\"Y\",\"N\",\"N\",\"N\",\"Y\",\"N\",\"N\",\"Y\",\"N\",\"N\",\"Y\",\"N\",\"N\",\"N\",\"Y\",\"N\",\"N\",\"Y\",\"N\",\"N\",\"N\",\"N\",\"Y\",\"N\",\"N\",\"N\",\"Y\",\"N\",\"N\",\"N\",\"N\",\"N\",\"N\",\"Y\",\"Y\",\"N\",\"N\",\"N\",\"Y\",\"N\",\"N\",\"N\",\"N\",\"N\",\"N\",\"N\",\"Y\",\"N\",\"N\",\"Y\",\"Y\",\"N\",\"N\",\"N\",\"N\",\"N\",\"N\",\"Y\",\"N\",\"Y\",\"N\",\"N\",\"N\",\"Y\",\"N\",\"N\",\"N\",\"N\",\"N\",\"Y\",\"Y\",\"Y\",\"N\",\"N\",\"Y\",\"N\",\"N\",\"Y\",\"N\",\"N\"],\"legendgroup\":\"\",\"name\":\"\",\"showlegend\":true,\"type\":\"pie\"}],                        {\"template\":{\"data\":{\"bar\":[{\"error_x\":{\"color\":\"#2a3f5f\"},\"error_y\":{\"color\":\"#2a3f5f\"},\"marker\":{\"line\":{\"color\":\"#E5ECF6\",\"width\":0.5},\"pattern\":{\"fillmode\":\"overlay\",\"size\":10,\"solidity\":0.2}},\"type\":\"bar\"}],\"barpolar\":[{\"marker\":{\"line\":{\"color\":\"#E5ECF6\",\"width\":0.5},\"pattern\":{\"fillmode\":\"overlay\",\"size\":10,\"solidity\":0.2}},\"type\":\"barpolar\"}],\"carpet\":[{\"aaxis\":{\"endlinecolor\":\"#2a3f5f\",\"gridcolor\":\"white\",\"linecolor\":\"white\",\"minorgridcolor\":\"white\",\"startlinecolor\":\"#2a3f5f\"},\"baxis\":{\"endlinecolor\":\"#2a3f5f\",\"gridcolor\":\"white\",\"linecolor\":\"white\",\"minorgridcolor\":\"white\",\"startlinecolor\":\"#2a3f5f\"},\"type\":\"carpet\"}],\"choropleth\":[{\"colorbar\":{\"outlinewidth\":0,\"ticks\":\"\"},\"type\":\"choropleth\"}],\"contour\":[{\"colorbar\":{\"outlinewidth\":0,\"ticks\":\"\"},\"colorscale\":[[0.0,\"#0d0887\"],[0.1111111111111111,\"#46039f\"],[0.2222222222222222,\"#7201a8\"],[0.3333333333333333,\"#9c179e\"],[0.4444444444444444,\"#bd3786\"],[0.5555555555555556,\"#d8576b\"],[0.6666666666666666,\"#ed7953\"],[0.7777777777777778,\"#fb9f3a\"],[0.8888888888888888,\"#fdca26\"],[1.0,\"#f0f921\"]],\"type\":\"contour\"}],\"contourcarpet\":[{\"colorbar\":{\"outlinewidth\":0,\"ticks\":\"\"},\"type\":\"contourcarpet\"}],\"heatmap\":[{\"colorbar\":{\"outlinewidth\":0,\"ticks\":\"\"},\"colorscale\":[[0.0,\"#0d0887\"],[0.1111111111111111,\"#46039f\"],[0.2222222222222222,\"#7201a8\"],[0.3333333333333333,\"#9c179e\"],[0.4444444444444444,\"#bd3786\"],[0.5555555555555556,\"#d8576b\"],[0.6666666666666666,\"#ed7953\"],[0.7777777777777778,\"#fb9f3a\"],[0.8888888888888888,\"#fdca26\"],[1.0,\"#f0f921\"]],\"type\":\"heatmap\"}],\"heatmapgl\":[{\"colorbar\":{\"outlinewidth\":0,\"ticks\":\"\"},\"colorscale\":[[0.0,\"#0d0887\"],[0.1111111111111111,\"#46039f\"],[0.2222222222222222,\"#7201a8\"],[0.3333333333333333,\"#9c179e\"],[0.4444444444444444,\"#bd3786\"],[0.5555555555555556,\"#d8576b\"],[0.6666666666666666,\"#ed7953\"],[0.7777777777777778,\"#fb9f3a\"],[0.8888888888888888,\"#fdca26\"],[1.0,\"#f0f921\"]],\"type\":\"heatmapgl\"}],\"histogram\":[{\"marker\":{\"pattern\":{\"fillmode\":\"overlay\",\"size\":10,\"solidity\":0.2}},\"type\":\"histogram\"}],\"histogram2d\":[{\"colorbar\":{\"outlinewidth\":0,\"ticks\":\"\"},\"colorscale\":[[0.0,\"#0d0887\"],[0.1111111111111111,\"#46039f\"],[0.2222222222222222,\"#7201a8\"],[0.3333333333333333,\"#9c179e\"],[0.4444444444444444,\"#bd3786\"],[0.5555555555555556,\"#d8576b\"],[0.6666666666666666,\"#ed7953\"],[0.7777777777777778,\"#fb9f3a\"],[0.8888888888888888,\"#fdca26\"],[1.0,\"#f0f921\"]],\"type\":\"histogram2d\"}],\"histogram2dcontour\":[{\"colorbar\":{\"outlinewidth\":0,\"ticks\":\"\"},\"colorscale\":[[0.0,\"#0d0887\"],[0.1111111111111111,\"#46039f\"],[0.2222222222222222,\"#7201a8\"],[0.3333333333333333,\"#9c179e\"],[0.4444444444444444,\"#bd3786\"],[0.5555555555555556,\"#d8576b\"],[0.6666666666666666,\"#ed7953\"],[0.7777777777777778,\"#fb9f3a\"],[0.8888888888888888,\"#fdca26\"],[1.0,\"#f0f921\"]],\"type\":\"histogram2dcontour\"}],\"mesh3d\":[{\"colorbar\":{\"outlinewidth\":0,\"ticks\":\"\"},\"type\":\"mesh3d\"}],\"parcoords\":[{\"line\":{\"colorbar\":{\"outlinewidth\":0,\"ticks\":\"\"}},\"type\":\"parcoords\"}],\"pie\":[{\"automargin\":true,\"type\":\"pie\"}],\"scatter\":[{\"marker\":{\"colorbar\":{\"outlinewidth\":0,\"ticks\":\"\"}},\"type\":\"scatter\"}],\"scatter3d\":[{\"line\":{\"colorbar\":{\"outlinewidth\":0,\"ticks\":\"\"}},\"marker\":{\"colorbar\":{\"outlinewidth\":0,\"ticks\":\"\"}},\"type\":\"scatter3d\"}],\"scattercarpet\":[{\"marker\":{\"colorbar\":{\"outlinewidth\":0,\"ticks\":\"\"}},\"type\":\"scattercarpet\"}],\"scattergeo\":[{\"marker\":{\"colorbar\":{\"outlinewidth\":0,\"ticks\":\"\"}},\"type\":\"scattergeo\"}],\"scattergl\":[{\"marker\":{\"colorbar\":{\"outlinewidth\":0,\"ticks\":\"\"}},\"type\":\"scattergl\"}],\"scattermapbox\":[{\"marker\":{\"colorbar\":{\"outlinewidth\":0,\"ticks\":\"\"}},\"type\":\"scattermapbox\"}],\"scatterpolar\":[{\"marker\":{\"colorbar\":{\"outlinewidth\":0,\"ticks\":\"\"}},\"type\":\"scatterpolar\"}],\"scatterpolargl\":[{\"marker\":{\"colorbar\":{\"outlinewidth\":0,\"ticks\":\"\"}},\"type\":\"scatterpolargl\"}],\"scatterternary\":[{\"marker\":{\"colorbar\":{\"outlinewidth\":0,\"ticks\":\"\"}},\"type\":\"scatterternary\"}],\"surface\":[{\"colorbar\":{\"outlinewidth\":0,\"ticks\":\"\"},\"colorscale\":[[0.0,\"#0d0887\"],[0.1111111111111111,\"#46039f\"],[0.2222222222222222,\"#7201a8\"],[0.3333333333333333,\"#9c179e\"],[0.4444444444444444,\"#bd3786\"],[0.5555555555555556,\"#d8576b\"],[0.6666666666666666,\"#ed7953\"],[0.7777777777777778,\"#fb9f3a\"],[0.8888888888888888,\"#fdca26\"],[1.0,\"#f0f921\"]],\"type\":\"surface\"}],\"table\":[{\"cells\":{\"fill\":{\"color\":\"#EBF0F8\"},\"line\":{\"color\":\"white\"}},\"header\":{\"fill\":{\"color\":\"#C8D4E3\"},\"line\":{\"color\":\"white\"}},\"type\":\"table\"}]},\"layout\":{\"annotationdefaults\":{\"arrowcolor\":\"#2a3f5f\",\"arrowhead\":0,\"arrowwidth\":1},\"autotypenumbers\":\"strict\",\"coloraxis\":{\"colorbar\":{\"outlinewidth\":0,\"ticks\":\"\"}},\"colorscale\":{\"diverging\":[[0,\"#8e0152\"],[0.1,\"#c51b7d\"],[0.2,\"#de77ae\"],[0.3,\"#f1b6da\"],[0.4,\"#fde0ef\"],[0.5,\"#f7f7f7\"],[0.6,\"#e6f5d0\"],[0.7,\"#b8e186\"],[0.8,\"#7fbc41\"],[0.9,\"#4d9221\"],[1,\"#276419\"]],\"sequential\":[[0.0,\"#0d0887\"],[0.1111111111111111,\"#46039f\"],[0.2222222222222222,\"#7201a8\"],[0.3333333333333333,\"#9c179e\"],[0.4444444444444444,\"#bd3786\"],[0.5555555555555556,\"#d8576b\"],[0.6666666666666666,\"#ed7953\"],[0.7777777777777778,\"#fb9f3a\"],[0.8888888888888888,\"#fdca26\"],[1.0,\"#f0f921\"]],\"sequentialminus\":[[0.0,\"#0d0887\"],[0.1111111111111111,\"#46039f\"],[0.2222222222222222,\"#7201a8\"],[0.3333333333333333,\"#9c179e\"],[0.4444444444444444,\"#bd3786\"],[0.5555555555555556,\"#d8576b\"],[0.6666666666666666,\"#ed7953\"],[0.7777777777777778,\"#fb9f3a\"],[0.8888888888888888,\"#fdca26\"],[1.0,\"#f0f921\"]]},\"colorway\":[\"#636efa\",\"#EF553B\",\"#00cc96\",\"#ab63fa\",\"#FFA15A\",\"#19d3f3\",\"#FF6692\",\"#B6E880\",\"#FF97FF\",\"#FECB52\"],\"font\":{\"color\":\"#2a3f5f\"},\"geo\":{\"bgcolor\":\"white\",\"lakecolor\":\"white\",\"landcolor\":\"#E5ECF6\",\"showlakes\":true,\"showland\":true,\"subunitcolor\":\"white\"},\"hoverlabel\":{\"align\":\"left\"},\"hovermode\":\"closest\",\"mapbox\":{\"style\":\"light\"},\"paper_bgcolor\":\"white\",\"plot_bgcolor\":\"#E5ECF6\",\"polar\":{\"angularaxis\":{\"gridcolor\":\"white\",\"linecolor\":\"white\",\"ticks\":\"\"},\"bgcolor\":\"#E5ECF6\",\"radialaxis\":{\"gridcolor\":\"white\",\"linecolor\":\"white\",\"ticks\":\"\"}},\"scene\":{\"xaxis\":{\"backgroundcolor\":\"#E5ECF6\",\"gridcolor\":\"white\",\"gridwidth\":2,\"linecolor\":\"white\",\"showbackground\":true,\"ticks\":\"\",\"zerolinecolor\":\"white\"},\"yaxis\":{\"backgroundcolor\":\"#E5ECF6\",\"gridcolor\":\"white\",\"gridwidth\":2,\"linecolor\":\"white\",\"showbackground\":true,\"ticks\":\"\",\"zerolinecolor\":\"white\"},\"zaxis\":{\"backgroundcolor\":\"#E5ECF6\",\"gridcolor\":\"white\",\"gridwidth\":2,\"linecolor\":\"white\",\"showbackground\":true,\"ticks\":\"\",\"zerolinecolor\":\"white\"}},\"shapedefaults\":{\"line\":{\"color\":\"#2a3f5f\"}},\"ternary\":{\"aaxis\":{\"gridcolor\":\"white\",\"linecolor\":\"white\",\"ticks\":\"\"},\"baxis\":{\"gridcolor\":\"white\",\"linecolor\":\"white\",\"ticks\":\"\"},\"bgcolor\":\"#E5ECF6\",\"caxis\":{\"gridcolor\":\"white\",\"linecolor\":\"white\",\"ticks\":\"\"}},\"title\":{\"x\":0.05},\"xaxis\":{\"automargin\":true,\"gridcolor\":\"white\",\"linecolor\":\"white\",\"ticks\":\"\",\"title\":{\"standoff\":15},\"zerolinecolor\":\"white\",\"zerolinewidth\":2},\"yaxis\":{\"automargin\":true,\"gridcolor\":\"white\",\"linecolor\":\"white\",\"ticks\":\"\",\"title\":{\"standoff\":15},\"zerolinecolor\":\"white\",\"zerolinewidth\":2}}},\"legend\":{\"tracegroupgap\":0},\"title\":{\"text\":\"Exercise Angina\"},\"piecolorway\":[\"rgb(2,56,88)\",\"rgb(4,90,141)\",\"rgb(5,112,176)\",\"rgb(54,144,192)\",\"rgb(116,169,207)\",\"rgb(166,189,219)\",\"rgb(208,209,230)\",\"rgb(236,231,242)\",\"rgb(255,247,251)\"],\"height\":400,\"width\":500},                        {\"responsive\": true}                    ).then(function(){\n",
              "                            \n",
              "var gd = document.getElementById('22662c13-6763-4567-81fb-d41f0695e989');\n",
              "var x = new MutationObserver(function (mutations, observer) {{\n",
              "        var display = window.getComputedStyle(gd).display;\n",
              "        if (!display || display === 'none') {{\n",
              "            console.log([gd, 'removed!']);\n",
              "            Plotly.purge(gd);\n",
              "            observer.disconnect();\n",
              "        }}\n",
              "}});\n",
              "\n",
              "// Listen for the removal of the full notebook cells\n",
              "var notebookContainer = gd.closest('#notebook-container');\n",
              "if (notebookContainer) {{\n",
              "    x.observe(notebookContainer, {childList: true});\n",
              "}}\n",
              "\n",
              "// Listen for the clearing of the current output cell\n",
              "var outputEl = gd.closest('.output');\n",
              "if (outputEl) {{\n",
              "    x.observe(outputEl, {childList: true});\n",
              "}}\n",
              "\n",
              "                        })                };                            </script>        </div>\n",
              "</body>\n",
              "</html>"
            ]
          },
          "metadata": {}
        }
      ],
      "source": [
        "px.pie(rev_df, 'ExerciseAngina', title = 'Exercise Angina', width=500, height=400, color_discrete_sequence=px.colors.sequential.PuBu_r)"
      ]
    },
    {
      "cell_type": "markdown",
      "metadata": {
        "id": "nO5A8WxZZaNu"
      },
      "source": [
        "## Data - Old Peak (ST-Segment depression) referenced in ECG induced by exercise related to rest"
      ]
    },
    {
      "cell_type": "markdown",
      "metadata": {
        "id": "AQIf1MLZaE1l"
      },
      "source": [
        "![STDepression.png](data:image/png;base64,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)"
      ]
    },
    {
      "cell_type": "code",
      "execution_count": null,
      "metadata": {
        "colab": {
          "base_uri": "https://localhost:8080/"
        },
        "id": "uSkDXyR2WsBO",
        "outputId": "c73ebb9b-36b0-480b-c44f-641090e915cd"
      },
      "outputs": [
        {
          "output_type": "execute_result",
          "data": {
            "text/plain": [
              " 0.0    368\n",
              " 1.0     86\n",
              " 2.0     76\n",
              " 1.5     53\n",
              " 3.0     28\n",
              " 1.2     26\n",
              " 0.2     22\n",
              " 0.5     19\n",
              " 1.4     18\n",
              " 1.8     17\n",
              " 2.5     16\n",
              " 0.8     16\n",
              " 1.6     16\n",
              " 0.1     14\n",
              " 0.6     14\n",
              " 0.4     11\n",
              " 0.3     11\n",
              " 4.0      8\n",
              " 0.7      7\n",
              " 2.8      7\n",
              " 1.9      7\n",
              " 1.3      7\n",
              " 2.6      7\n",
              " 1.1      7\n",
              " 1.7      6\n",
              " 2.2      5\n",
              " 0.9      4\n",
              " 2.4      4\n",
              " 3.6      4\n",
              " 3.4      3\n",
              " 4.2      2\n",
              " 3.5      2\n",
              "-0.5      2\n",
              " 2.3      2\n",
              " 3.2      2\n",
              " 2.1      2\n",
              "-1.0      2\n",
              "-0.1      2\n",
              " 5.6      1\n",
              " 2.9      1\n",
              " 6.2      1\n",
              " 3.8      1\n",
              "-1.5      1\n",
              " 3.1      1\n",
              "-2.0      1\n",
              " 3.7      1\n",
              "-0.8      1\n",
              "-0.7      1\n",
              "-1.1      1\n",
              "-2.6      1\n",
              "-0.9      1\n",
              " 5.0      1\n",
              " 4.4      1\n",
              "Name: Oldpeak, dtype: int64"
            ]
          },
          "metadata": {},
          "execution_count": 30
        }
      ],
      "source": [
        "rev_df['Oldpeak'].value_counts()"
      ]
    },
    {
      "cell_type": "code",
      "execution_count": null,
      "metadata": {
        "colab": {
          "base_uri": "https://localhost:8080/"
        },
        "id": "FwuZ9U4Yacrr",
        "outputId": "a9fcbbf8-58dc-4f33-cd7c-e0257f46ebb9"
      },
      "outputs": [
        {
          "output_type": "display_data",
          "data": {
            "text/plain": [
              "<Figure size 432x288 with 1 Axes>"
            ],
            "image/png": "[encoded data removed]"
          },
          "metadata": {
            "needs_background": "light"
          }
        }
      ],
      "source": [
        "sns.histplot(rev_df, x='Oldpeak', bins=30, color='orange', kde = True, stat = 'count');"
      ]
    },
    {
      "cell_type": "markdown",
      "metadata": {
        "id": "xiLqVvq7a-fj"
      },
      "source": [
        "## Data - ST Slope (ECG)"
      ]
    },
    {
      "cell_type": "markdown",
      "metadata": {
        "id": "iQ9r6QxvbGE_"
      },
      "source": [
        "![stslope.png](data:image/png;base64,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)\n",
        "\n",
        "\n"
      ]
    },
    {
      "cell_type": "code",
      "execution_count": null,
      "metadata": {
        "colab": {
          "base_uri": "https://localhost:8080/"
        },
        "id": "gWXH2HRtapah",
        "outputId": "f09af734-df30-492c-b720-1b635f282c50"
      },
      "outputs": [
        {
          "output_type": "execute_result",
          "data": {
            "text/plain": [
              "Flat    460\n",
              "Up      395\n",
              "Down     63\n",
              "Name: ST_Slope, dtype: int64"
            ]
          },
          "metadata": {},
          "execution_count": 32
        }
      ],
      "source": [
        "rev_df['ST_Slope'].value_counts()"
      ]
    },
    {
      "cell_type": "code",
      "execution_count": null,
      "metadata": {
        "colab": {
          "base_uri": "https://localhost:8080/"
        },
        "id": "B898jJQebn1p",
        "outputId": "6da1174d-5ba0-482e-d805-7e4606fd559f"
      },
      "outputs": [
        {
          "output_type": "display_data",
          "data": {
            "text/html": [
              "<html>\n",
              "<head><meta charset=\"utf-8\" /></head>\n",
              "<body>\n",
              "    <div>            <script src=\"https://cdnjs.cloudflare.com/ajax/libs/mathjax/2.7.5/MathJax.js?config=TeX-AMS-MML_SVG\"></script><script type=\"text/javascript\">if (window.MathJax) {MathJax.Hub.Config({SVG: {font: \"STIX-Web\"}});}</script>                <script type=\"text/javascript\">window.PlotlyConfig = {MathJaxConfig: 'local'};</script>\n",
              "        <script src=\"https://cdn.plot.ly/plotly-2.8.3.min.js\"></script>                <div id=\"89384a6d-afdb-4d98-a019-00581983d8c7\" class=\"plotly-graph-div\" style=\"height:400px; width:500px;\"></div>            <script type=\"text/javascript\">                                    window.PLOTLYENV=window.PLOTLYENV || {};                                    if (document.getElementById(\"89384a6d-afdb-4d98-a019-00581983d8c7\")) {                    Plotly.newPlot(                        \"89384a6d-afdb-4d98-a019-00581983d8c7\",                        [{\"domain\":{\"x\":[0.0,1.0],\"y\":[0.0,1.0]},\"hovertemplate\":\"ST_Slope=%{label}<extra></extra>\",\"labels\":[\"Up\",\"Flat\",\"Up\",\"Flat\",\"Up\",\"Up\",\"Up\",\"Up\",\"Flat\",\"Up\",\"Up\",\"Flat\",\"Up\",\"Flat\",\"Up\",\"Flat\",\"Flat\",\"Up\",\"Flat\",\"Flat\",\"Up\",\"Flat\",\"Up\",\"Flat\",\"Up\",\"Up\",\"Flat\",\"Up\",\"Up\",\"Up\",\"Flat\",\"Up\",\"Flat\",\"Flat\",\"Up\",\"Up\",\"Flat\",\"Up\",\"Up\",\"Flat\",\"Up\",\"Flat\",\"Up\",\"Up\",\"Flat\",\"Flat\",\"Up\",\"Up\",\"Flat\",\"Flat\",\"Flat\",\"Flat\",\"Up\",\"Up\",\"Flat\",\"Up\",\"Flat\",\"Flat\",\"Up\",\"Flat\",\"Up\",\"Up\",\"Up\",\"Flat\",\"Up\",\"Up\",\"Up\",\"Up\",\"Flat\",\"Up\",\"Flat\",\"Up\",\"Flat\",\"Up\",\"Flat\",\"Up\",\"Flat\",\"Up\",\"Up\",\"Flat\",\"Up\",\"Up\",\"Flat\",\"Up\",\"Flat\",\"Flat\",\"Flat\",\"Flat\",\"Flat\",\"Flat\",\"Up\",\"Up\",\"Up\",\"Flat\",\"Up\",\"Flat\",\"Up\",\"Up\",\"Up\",\"Up\",\"Flat\",\"Up\",\"Flat\",\"Flat\",\"Flat\",\"Up\",\"Up\",\"Up\",\"Up\",\"Up\",\"Flat\",\"Flat\",\"Up\",\"Up\",\"Up\",\"Flat\",\"Flat\",\"Flat\",\"Up\",\"Flat\",\"Flat\",\"Up\",\"Up\",\"Flat\",\"Up\",\"Up\",\"Up\",\"Up\",\"Up\",\"Flat\",\"Up\",\"Flat\",\"Flat\",\"Flat\",\"Flat\",\"Flat\",\"Up\",\"Up\",\"Flat\",\"Flat\",\"Flat\",\"Flat\",\"Flat\",\"Up\",\"Flat\",\"Up\",\"Up\",\"Up\",\"Up\",\"Flat\",\"Up\",\"Up\",\"Up\",\"Up\",\"Up\",\"Flat\",\"Flat\",\"Up\",\"Flat\",\"Up\",\"Flat\",\"Flat\",\"Up\",\"Up\",\"Up\",\"Flat\",\"Flat\",\"Up\",\"Up\",\"Up\",\"Up\",\"Up\",\"Up\",\"Up\",\"Flat\",\"Flat\",\"Flat\",\"Up\",\"Up\",\"Up\",\"Flat\",\"Up\",\"Flat\",\"Flat\",\"Up\",\"Flat\",\"Up\",\"Flat\",\"Flat\",\"Flat\",\"Up\",\"Up\",\"Up\",\"Up\",\"Up\",\"Up\",\"Flat\",\"Up\",\"Flat\",\"Flat\",\"Up\",\"Up\",\"Up\",\"Up\",\"Up\",\"Up\",\"Up\",\"Flat\",\"Up\",\"Flat\",\"Flat\",\"Flat\",\"Up\",\"Up\",\"Flat\",\"Up\",\"Flat\",\"Up\",\"Up\",\"Up\",\"Flat\",\"Flat\",\"Up\",\"Up\",\"Up\",\"Flat\",\"Up\",\"Flat\",\"Up\",\"Up\",\"Up\",\"Up\",\"Up\",\"Up\",\"Up\",\"Flat\",\"Flat\",\"Flat\",\"Flat\",\"Flat\",\"Up\",\"Flat\",\"Flat\",\"Up\",\"Flat\",\"Up\",\"Flat\",\"Down\",\"Flat\",\"Flat\",\"Flat\",\"Flat\",\"Up\",\"Up\",\"Flat\",\"Up\",\"Up\",\"Up\",\"Up\",\"Up\",\"Up\",\"Up\",\"Flat\",\"Flat\",\"Flat\",\"Up\",\"Flat\",\"Up\",\"Flat\",\"Flat\",\"Up\",\"Up\",\"Flat\",\"Up\",\"Up\",\"Up\",\"Flat\",\"Flat\",\"Flat\",\"Up\",\"Up\",\"Flat\",\"Up\",\"Up\",\"Up\",\"Up\",\"Up\",\"Up\",\"Up\",\"Up\",\"Up\",\"Up\",\"Up\",\"Flat\",\"Up\",\"Up\",\"Flat\",\"Up\",\"Flat\",\"Up\",\"Flat\",\"Up\",\"Up\",\"Down\",\"Flat\",\"Up\",\"Flat\",\"Down\",\"Up\",\"Down\",\"Up\",\"Up\",\"Up\",\"Up\",\"Down\",\"Up\",\"Flat\",\"Up\",\"Flat\",\"Up\",\"Flat\",\"Flat\",\"Up\",\"Down\",\"Flat\",\"Down\",\"Up\",\"Up\",\"Flat\",\"Down\",\"Up\",\"Up\",\"Up\",\"Up\",\"Up\",\"Flat\",\"Flat\",\"Up\",\"Up\",\"Down\",\"Down\",\"Down\",\"Flat\",\"Flat\",\"Flat\",\"Flat\",\"Flat\",\"Flat\",\"Flat\",\"Flat\",\"Flat\",\"Up\",\"Down\",\"Flat\",\"Up\",\"Flat\",\"Flat\",\"Flat\",\"Flat\",\"Flat\",\"Flat\",\"Flat\",\"Flat\",\"Flat\",\"Flat\",\"Flat\",\"Flat\",\"Up\",\"Flat\",\"Flat\",\"Up\",\"Flat\",\"Up\",\"Flat\",\"Down\",\"Up\",\"Flat\",\"Flat\",\"Flat\",\"Up\",\"Flat\",\"Flat\",\"Flat\",\"Flat\",\"Flat\",\"Flat\",\"Flat\",\"Flat\",\"Flat\",\"Flat\",\"Flat\",\"Flat\",\"Flat\",\"Flat\",\"Flat\",\"Flat\",\"Flat\",\"Flat\",\"Up\",\"Flat\",\"Flat\",\"Flat\",\"Flat\",\"Flat\",\"Flat\",\"Flat\",\"Flat\",\"Flat\",\"Flat\",\"Flat\",\"Flat\",\"Flat\",\"Flat\",\"Flat\",\"Flat\",\"Flat\",\"Flat\",\"Up\",\"Down\",\"Up\",\"Flat\",\"Up\",\"Flat\",\"Flat\",\"Up\",\"Flat\",\"Up\",\"Flat\",\"Flat\",\"Flat\",\"Flat\",\"Up\",\"Down\",\"Flat\",\"Down\",\"Up\",\"Up\",\"Flat\",\"Flat\",\"Up\",\"Up\",\"Flat\",\"Flat\",\"Flat\",\"Flat\",\"Flat\",\"Flat\",\"Up\",\"Flat\",\"Flat\",\"Down\",\"Flat\",\"Flat\",\"Up\",\"Flat\",\"Up\",\"Flat\",\"Flat\",\"Flat\",\"Up\",\"Flat\",\"Flat\",\"Down\",\"Up\",\"Down\",\"Up\",\"Flat\",\"Up\",\"Up\",\"Flat\",\"Flat\",\"Flat\",\"Flat\",\"Flat\",\"Up\",\"Flat\",\"Up\",\"Down\",\"Flat\",\"Flat\",\"Flat\",\"Down\",\"Up\",\"Down\",\"Flat\",\"Flat\",\"Up\",\"Flat\",\"Up\",\"Flat\",\"Flat\",\"Flat\",\"Flat\",\"Flat\",\"Flat\",\"Flat\",\"Down\",\"Down\",\"Flat\",\"Flat\",\"Down\",\"Flat\",\"Flat\",\"Up\",\"Down\",\"Flat\",\"Flat\",\"Up\",\"Down\",\"Flat\",\"Up\",\"Flat\",\"Up\",\"Flat\",\"Up\",\"Flat\",\"Flat\",\"Flat\",\"Down\",\"Up\",\"Flat\",\"Down\",\"Up\",\"Flat\",\"Up\",\"Up\",\"Flat\",\"Up\",\"Flat\",\"Flat\",\"Flat\",\"Flat\",\"Flat\",\"Flat\",\"Down\",\"Flat\",\"Flat\",\"Down\",\"Flat\",\"Up\",\"Flat\",\"Down\",\"Flat\",\"Down\",\"Up\",\"Up\",\"Flat\",\"Down\",\"Up\",\"Up\",\"Flat\",\"Up\",\"Flat\",\"Flat\",\"Up\",\"Flat\",\"Down\",\"Flat\",\"Flat\",\"Down\",\"Up\",\"Up\",\"Flat\",\"Flat\",\"Flat\",\"Flat\",\"Flat\",\"Flat\",\"Down\",\"Flat\",\"Down\",\"Flat\",\"Flat\",\"Flat\",\"Flat\",\"Flat\",\"Flat\",\"Flat\",\"Down\",\"Flat\",\"Flat\",\"Up\",\"Flat\",\"Up\",\"Flat\",\"Flat\",\"Flat\",\"Flat\",\"Flat\",\"Flat\",\"Up\",\"Up\",\"Down\",\"Flat\",\"Up\",\"Flat\",\"Flat\",\"Up\",\"Down\",\"Flat\",\"Flat\",\"Flat\",\"Flat\",\"Down\",\"Up\",\"Up\",\"Flat\",\"Flat\",\"Flat\",\"Flat\",\"Flat\",\"Up\",\"Flat\",\"Up\",\"Flat\",\"Flat\",\"Flat\",\"Up\",\"Flat\",\"Up\",\"Up\",\"Flat\",\"Flat\",\"Flat\",\"Flat\",\"Flat\",\"Up\",\"Up\",\"Flat\",\"Up\",\"Flat\",\"Flat\",\"Down\",\"Flat\",\"Up\",\"Flat\",\"Flat\",\"Flat\",\"Up\",\"Up\",\"Up\",\"Flat\",\"Up\",\"Flat\",\"Up\",\"Flat\",\"Up\",\"Up\",\"Down\",\"Flat\",\"Up\",\"Up\",\"Up\",\"Up\",\"Up\",\"Up\",\"Up\",\"Up\",\"Up\",\"Flat\",\"Up\",\"Up\",\"Up\",\"Flat\",\"Flat\",\"Flat\",\"Up\",\"Up\",\"Up\",\"Flat\",\"Up\",\"Flat\",\"Up\",\"Flat\",\"Flat\",\"Up\",\"Flat\",\"Up\",\"Up\",\"Down\",\"Flat\",\"Up\",\"Up\",\"Flat\",\"Up\",\"Flat\",\"Up\",\"Up\",\"Flat\",\"Up\",\"Flat\",\"Flat\",\"Up\",\"Flat\",\"Up\",\"Flat\",\"Flat\",\"Up\",\"Flat\",\"Flat\",\"Up\",\"Up\",\"Down\",\"Up\",\"Flat\",\"Up\",\"Up\",\"Flat\",\"Flat\",\"Up\",\"Flat\",\"Flat\",\"Up\",\"Up\",\"Up\",\"Flat\",\"Flat\",\"Up\",\"Flat\",\"Flat\",\"Flat\",\"Flat\",\"Flat\",\"Up\",\"Flat\",\"Flat\",\"Up\",\"Up\",\"Up\",\"Up\",\"Flat\",\"Up\",\"Down\",\"Down\",\"Down\",\"Flat\",\"Flat\",\"Flat\",\"Up\",\"Down\",\"Up\",\"Flat\",\"Flat\",\"Up\",\"Up\",\"Flat\",\"Up\",\"Up\",\"Down\",\"Up\",\"Down\",\"Up\",\"Flat\",\"Up\",\"Up\",\"Flat\",\"Up\",\"Flat\",\"Up\",\"Up\",\"Flat\",\"Up\",\"Flat\",\"Up\",\"Up\",\"Up\",\"Flat\",\"Up\",\"Flat\",\"Up\",\"Up\",\"Down\",\"Up\",\"Flat\",\"Flat\",\"Flat\",\"Flat\",\"Up\",\"Flat\",\"Up\",\"Up\",\"Up\",\"Down\",\"Flat\",\"Flat\",\"Flat\",\"Flat\",\"Flat\",\"Flat\",\"Up\",\"Flat\",\"Flat\",\"Flat\",\"Flat\",\"Up\",\"Down\",\"Flat\",\"Up\",\"Flat\",\"Up\",\"Up\",\"Flat\",\"Up\",\"Flat\",\"Flat\",\"Up\",\"Down\",\"Up\",\"Up\",\"Up\",\"Flat\",\"Flat\",\"Flat\",\"Up\",\"Up\",\"Up\",\"Up\",\"Flat\",\"Up\",\"Flat\",\"Flat\",\"Up\",\"Flat\",\"Flat\",\"Down\",\"Flat\",\"Flat\",\"Flat\",\"Flat\",\"Up\",\"Up\",\"Up\",\"Up\",\"Flat\",\"Up\",\"Flat\",\"Flat\",\"Up\",\"Up\",\"Up\",\"Flat\",\"Flat\",\"Flat\",\"Up\",\"Flat\",\"Flat\",\"Flat\",\"Up\",\"Up\",\"Flat\",\"Down\",\"Up\",\"Flat\",\"Up\",\"Up\",\"Flat\",\"Up\",\"Flat\",\"Down\",\"Up\",\"Up\",\"Up\",\"Up\",\"Flat\",\"Flat\",\"Flat\",\"Up\",\"Up\",\"Up\",\"Up\",\"Up\",\"Flat\",\"Flat\",\"Up\",\"Up\",\"Up\",\"Flat\",\"Flat\",\"Up\",\"Down\",\"Up\",\"Up\",\"Flat\",\"Flat\",\"Flat\",\"Up\",\"Up\",\"Flat\",\"Flat\",\"Up\",\"Flat\",\"Flat\",\"Flat\",\"Up\",\"Flat\",\"Flat\",\"Up\",\"Flat\",\"Up\",\"Up\",\"Down\",\"Flat\",\"Flat\",\"Up\",\"Down\",\"Flat\",\"Up\",\"Down\",\"Up\",\"Flat\",\"Up\",\"Flat\",\"Flat\",\"Flat\",\"Flat\",\"Flat\",\"Flat\",\"Up\"],\"legendgroup\":\"\",\"name\":\"\",\"showlegend\":true,\"type\":\"pie\"}],                        {\"template\":{\"data\":{\"bar\":[{\"error_x\":{\"color\":\"#2a3f5f\"},\"error_y\":{\"color\":\"#2a3f5f\"},\"marker\":{\"line\":{\"color\":\"#E5ECF6\",\"width\":0.5},\"pattern\":{\"fillmode\":\"overlay\",\"size\":10,\"solidity\":0.2}},\"type\":\"bar\"}],\"barpolar\":[{\"marker\":{\"line\":{\"color\":\"#E5ECF6\",\"width\":0.5},\"pattern\":{\"fillmode\":\"overlay\",\"size\":10,\"solidity\":0.2}},\"type\":\"barpolar\"}],\"carpet\":[{\"aaxis\":{\"endlinecolor\":\"#2a3f5f\",\"gridcolor\":\"white\",\"linecolor\":\"white\",\"minorgridcolor\":\"white\",\"startlinecolor\":\"#2a3f5f\"},\"baxis\":{\"endlinecolor\":\"#2a3f5f\",\"gridcolor\":\"white\",\"linecolor\":\"white\",\"minorgridcolor\":\"white\",\"startlinecolor\":\"#2a3f5f\"},\"type\":\"carpet\"}],\"choropleth\":[{\"colorbar\":{\"outlinewidth\":0,\"ticks\":\"\"},\"type\":\"choropleth\"}],\"contour\":[{\"colorbar\":{\"outlinewidth\":0,\"ticks\":\"\"},\"colorscale\":[[0.0,\"#0d0887\"],[0.1111111111111111,\"#46039f\"],[0.2222222222222222,\"#7201a8\"],[0.3333333333333333,\"#9c179e\"],[0.4444444444444444,\"#bd3786\"],[0.5555555555555556,\"#d8576b\"],[0.6666666666666666,\"#ed7953\"],[0.7777777777777778,\"#fb9f3a\"],[0.8888888888888888,\"#fdca26\"],[1.0,\"#f0f921\"]],\"type\":\"contour\"}],\"contourcarpet\":[{\"colorbar\":{\"outlinewidth\":0,\"ticks\":\"\"},\"type\":\"contourcarpet\"}],\"heatmap\":[{\"colorbar\":{\"outlinewidth\":0,\"ticks\":\"\"},\"colorscale\":[[0.0,\"#0d0887\"],[0.1111111111111111,\"#46039f\"],[0.2222222222222222,\"#7201a8\"],[0.3333333333333333,\"#9c179e\"],[0.4444444444444444,\"#bd3786\"],[0.5555555555555556,\"#d8576b\"],[0.6666666666666666,\"#ed7953\"],[0.7777777777777778,\"#fb9f3a\"],[0.8888888888888888,\"#fdca26\"],[1.0,\"#f0f921\"]],\"type\":\"heatmap\"}],\"heatmapgl\":[{\"colorbar\":{\"outlinewidth\":0,\"ticks\":\"\"},\"colorscale\":[[0.0,\"#0d0887\"],[0.1111111111111111,\"#46039f\"],[0.2222222222222222,\"#7201a8\"],[0.3333333333333333,\"#9c179e\"],[0.4444444444444444,\"#bd3786\"],[0.5555555555555556,\"#d8576b\"],[0.6666666666666666,\"#ed7953\"],[0.7777777777777778,\"#fb9f3a\"],[0.8888888888888888,\"#fdca26\"],[1.0,\"#f0f921\"]],\"type\":\"heatmapgl\"}],\"histogram\":[{\"marker\":{\"pattern\":{\"fillmode\":\"overlay\",\"size\":10,\"solidity\":0.2}},\"type\":\"histogram\"}],\"histogram2d\":[{\"colorbar\":{\"outlinewidth\":0,\"ticks\":\"\"},\"colorscale\":[[0.0,\"#0d0887\"],[0.1111111111111111,\"#46039f\"],[0.2222222222222222,\"#7201a8\"],[0.3333333333333333,\"#9c179e\"],[0.4444444444444444,\"#bd3786\"],[0.5555555555555556,\"#d8576b\"],[0.6666666666666666,\"#ed7953\"],[0.7777777777777778,\"#fb9f3a\"],[0.8888888888888888,\"#fdca26\"],[1.0,\"#f0f921\"]],\"type\":\"histogram2d\"}],\"histogram2dcontour\":[{\"colorbar\":{\"outlinewidth\":0,\"ticks\":\"\"},\"colorscale\":[[0.0,\"#0d0887\"],[0.1111111111111111,\"#46039f\"],[0.2222222222222222,\"#7201a8\"],[0.3333333333333333,\"#9c179e\"],[0.4444444444444444,\"#bd3786\"],[0.5555555555555556,\"#d8576b\"],[0.6666666666666666,\"#ed7953\"],[0.7777777777777778,\"#fb9f3a\"],[0.8888888888888888,\"#fdca26\"],[1.0,\"#f0f921\"]],\"type\":\"histogram2dcontour\"}],\"mesh3d\":[{\"colorbar\":{\"outlinewidth\":0,\"ticks\":\"\"},\"type\":\"mesh3d\"}],\"parcoords\":[{\"line\":{\"colorbar\":{\"outlinewidth\":0,\"ticks\":\"\"}},\"type\":\"parcoords\"}],\"pie\":[{\"automargin\":true,\"type\":\"pie\"}],\"scatter\":[{\"marker\":{\"colorbar\":{\"outlinewidth\":0,\"ticks\":\"\"}},\"type\":\"scatter\"}],\"scatter3d\":[{\"line\":{\"colorbar\":{\"outlinewidth\":0,\"ticks\":\"\"}},\"marker\":{\"colorbar\":{\"outlinewidth\":0,\"ticks\":\"\"}},\"type\":\"scatter3d\"}],\"scattercarpet\":[{\"marker\":{\"colorbar\":{\"outlinewidth\":0,\"ticks\":\"\"}},\"type\":\"scattercarpet\"}],\"scattergeo\":[{\"marker\":{\"colorbar\":{\"outlinewidth\":0,\"ticks\":\"\"}},\"type\":\"scattergeo\"}],\"scattergl\":[{\"marker\":{\"colorbar\":{\"outlinewidth\":0,\"ticks\":\"\"}},\"type\":\"scattergl\"}],\"scattermapbox\":[{\"marker\":{\"colorbar\":{\"outlinewidth\":0,\"ticks\":\"\"}},\"type\":\"scattermapbox\"}],\"scatterpolar\":[{\"marker\":{\"colorbar\":{\"outlinewidth\":0,\"ticks\":\"\"}},\"type\":\"scatterpolar\"}],\"scatterpolargl\":[{\"marker\":{\"colorbar\":{\"outlinewidth\":0,\"ticks\":\"\"}},\"type\":\"scatterpolargl\"}],\"scatterternary\":[{\"marker\":{\"colorbar\":{\"outlinewidth\":0,\"ticks\":\"\"}},\"type\":\"scatterternary\"}],\"surface\":[{\"colorbar\":{\"outlinewidth\":0,\"ticks\":\"\"},\"colorscale\":[[0.0,\"#0d0887\"],[0.1111111111111111,\"#46039f\"],[0.2222222222222222,\"#7201a8\"],[0.3333333333333333,\"#9c179e\"],[0.4444444444444444,\"#bd3786\"],[0.5555555555555556,\"#d8576b\"],[0.6666666666666666,\"#ed7953\"],[0.7777777777777778,\"#fb9f3a\"],[0.8888888888888888,\"#fdca26\"],[1.0,\"#f0f921\"]],\"type\":\"surface\"}],\"table\":[{\"cells\":{\"fill\":{\"color\":\"#EBF0F8\"},\"line\":{\"color\":\"white\"}},\"header\":{\"fill\":{\"color\":\"#C8D4E3\"},\"line\":{\"color\":\"white\"}},\"type\":\"table\"}]},\"layout\":{\"annotationdefaults\":{\"arrowcolor\":\"#2a3f5f\",\"arrowhead\":0,\"arrowwidth\":1},\"autotypenumbers\":\"strict\",\"coloraxis\":{\"colorbar\":{\"outlinewidth\":0,\"ticks\":\"\"}},\"colorscale\":{\"diverging\":[[0,\"#8e0152\"],[0.1,\"#c51b7d\"],[0.2,\"#de77ae\"],[0.3,\"#f1b6da\"],[0.4,\"#fde0ef\"],[0.5,\"#f7f7f7\"],[0.6,\"#e6f5d0\"],[0.7,\"#b8e186\"],[0.8,\"#7fbc41\"],[0.9,\"#4d9221\"],[1,\"#276419\"]],\"sequential\":[[0.0,\"#0d0887\"],[0.1111111111111111,\"#46039f\"],[0.2222222222222222,\"#7201a8\"],[0.3333333333333333,\"#9c179e\"],[0.4444444444444444,\"#bd3786\"],[0.5555555555555556,\"#d8576b\"],[0.6666666666666666,\"#ed7953\"],[0.7777777777777778,\"#fb9f3a\"],[0.8888888888888888,\"#fdca26\"],[1.0,\"#f0f921\"]],\"sequentialminus\":[[0.0,\"#0d0887\"],[0.1111111111111111,\"#46039f\"],[0.2222222222222222,\"#7201a8\"],[0.3333333333333333,\"#9c179e\"],[0.4444444444444444,\"#bd3786\"],[0.5555555555555556,\"#d8576b\"],[0.6666666666666666,\"#ed7953\"],[0.7777777777777778,\"#fb9f3a\"],[0.8888888888888888,\"#fdca26\"],[1.0,\"#f0f921\"]]},\"colorway\":[\"#636efa\",\"#EF553B\",\"#00cc96\",\"#ab63fa\",\"#FFA15A\",\"#19d3f3\",\"#FF6692\",\"#B6E880\",\"#FF97FF\",\"#FECB52\"],\"font\":{\"color\":\"#2a3f5f\"},\"geo\":{\"bgcolor\":\"white\",\"lakecolor\":\"white\",\"landcolor\":\"#E5ECF6\",\"showlakes\":true,\"showland\":true,\"subunitcolor\":\"white\"},\"hoverlabel\":{\"align\":\"left\"},\"hovermode\":\"closest\",\"mapbox\":{\"style\":\"light\"},\"paper_bgcolor\":\"white\",\"plot_bgcolor\":\"#E5ECF6\",\"polar\":{\"angularaxis\":{\"gridcolor\":\"white\",\"linecolor\":\"white\",\"ticks\":\"\"},\"bgcolor\":\"#E5ECF6\",\"radialaxis\":{\"gridcolor\":\"white\",\"linecolor\":\"white\",\"ticks\":\"\"}},\"scene\":{\"xaxis\":{\"backgroundcolor\":\"#E5ECF6\",\"gridcolor\":\"white\",\"gridwidth\":2,\"linecolor\":\"white\",\"showbackground\":true,\"ticks\":\"\",\"zerolinecolor\":\"white\"},\"yaxis\":{\"backgroundcolor\":\"#E5ECF6\",\"gridcolor\":\"white\",\"gridwidth\":2,\"linecolor\":\"white\",\"showbackground\":true,\"ticks\":\"\",\"zerolinecolor\":\"white\"},\"zaxis\":{\"backgroundcolor\":\"#E5ECF6\",\"gridcolor\":\"white\",\"gridwidth\":2,\"linecolor\":\"white\",\"showbackground\":true,\"ticks\":\"\",\"zerolinecolor\":\"white\"}},\"shapedefaults\":{\"line\":{\"color\":\"#2a3f5f\"}},\"ternary\":{\"aaxis\":{\"gridcolor\":\"white\",\"linecolor\":\"white\",\"ticks\":\"\"},\"baxis\":{\"gridcolor\":\"white\",\"linecolor\":\"white\",\"ticks\":\"\"},\"bgcolor\":\"#E5ECF6\",\"caxis\":{\"gridcolor\":\"white\",\"linecolor\":\"white\",\"ticks\":\"\"}},\"title\":{\"x\":0.05},\"xaxis\":{\"automargin\":true,\"gridcolor\":\"white\",\"linecolor\":\"white\",\"ticks\":\"\",\"title\":{\"standoff\":15},\"zerolinecolor\":\"white\",\"zerolinewidth\":2},\"yaxis\":{\"automargin\":true,\"gridcolor\":\"white\",\"linecolor\":\"white\",\"ticks\":\"\",\"title\":{\"standoff\":15},\"zerolinecolor\":\"white\",\"zerolinewidth\":2}}},\"legend\":{\"tracegroupgap\":0},\"title\":{\"text\":\"ST Slope\"},\"piecolorway\":[\"rgb(252, 222, 156)\",\"rgb(250, 164, 118)\",\"rgb(240, 116, 110)\",\"rgb(227, 79, 111)\",\"rgb(220, 57, 119)\",\"rgb(185, 37, 122)\",\"rgb(124, 29, 111)\"],\"height\":400,\"width\":500},                        {\"responsive\": true}                    ).then(function(){\n",
              "                            \n",
              "var gd = document.getElementById('89384a6d-afdb-4d98-a019-00581983d8c7');\n",
              "var x = new MutationObserver(function (mutations, observer) {{\n",
              "        var display = window.getComputedStyle(gd).display;\n",
              "        if (!display || display === 'none') {{\n",
              "            console.log([gd, 'removed!']);\n",
              "            Plotly.purge(gd);\n",
              "            observer.disconnect();\n",
              "        }}\n",
              "}});\n",
              "\n",
              "// Listen for the removal of the full notebook cells\n",
              "var notebookContainer = gd.closest('#notebook-container');\n",
              "if (notebookContainer) {{\n",
              "    x.observe(notebookContainer, {childList: true});\n",
              "}}\n",
              "\n",
              "// Listen for the clearing of the current output cell\n",
              "var outputEl = gd.closest('.output');\n",
              "if (outputEl) {{\n",
              "    x.observe(outputEl, {childList: true});\n",
              "}}\n",
              "\n",
              "                        })                };                            </script>        </div>\n",
              "</body>\n",
              "</html>"
            ]
          },
          "metadata": {}
        }
      ],
      "source": [
        "px.pie(rev_df, 'ST_Slope', width=500, height=400, color_discrete_sequence=px.colors.sequential.Sunsetdark, title='ST Slope')"
      ]
    },
    {
      "cell_type": "markdown",
      "metadata": {
        "id": "rZKCFs0pcPwl"
      },
      "source": [
        "## Data - Heart Disease\n",
        "\n",
        "This is going to be our target\n",
        "\n",
        "*   0 - Usually indicates a non heart disease\n",
        "*   1 - Usualy indicates a heart disease\n",
        "\n",
        "\n",
        "\n",
        "\n",
        "\n",
        "\n",
        "\n"
      ]
    },
    {
      "cell_type": "code",
      "execution_count": null,
      "metadata": {
        "colab": {
          "base_uri": "https://localhost:8080/"
        },
        "id": "1IJ9TIF2f6D0",
        "outputId": "1a79c847-80bc-4661-f009-bfdda2bb163b"
      },
      "outputs": [
        {
          "output_type": "execute_result",
          "data": {
            "text/plain": [
              "1    508\n",
              "0    410\n",
              "Name: HeartDisease, dtype: int64"
            ]
          },
          "metadata": {},
          "execution_count": 34
        }
      ],
      "source": [
        "rev_df['HeartDisease'].value_counts()"
      ]
    },
    {
      "cell_type": "code",
      "execution_count": null,
      "metadata": {
        "colab": {
          "base_uri": "https://localhost:8080/"
        },
        "id": "EtvFtEitiiPq",
        "outputId": "259a68db-6e73-41a4-9ad1-cc444932c20f"
      },
      "outputs": [
        {
          "output_type": "display_data",
          "data": {
            "text/html": [
              "<html>\n",
              "<head><meta charset=\"utf-8\" /></head>\n",
              "<body>\n",
              "    <div>            <script src=\"https://cdnjs.cloudflare.com/ajax/libs/mathjax/2.7.5/MathJax.js?config=TeX-AMS-MML_SVG\"></script><script type=\"text/javascript\">if (window.MathJax) {MathJax.Hub.Config({SVG: {font: \"STIX-Web\"}});}</script>                <script type=\"text/javascript\">window.PlotlyConfig = {MathJaxConfig: 'local'};</script>\n",
              "        <script src=\"https://cdn.plot.ly/plotly-2.8.3.min.js\"></script>                <div id=\"d7ced95d-a5cf-400d-a152-3a7887dd1140\" class=\"plotly-graph-div\" style=\"height:400px; width:500px;\"></div>            <script type=\"text/javascript\">                                    window.PLOTLYENV=window.PLOTLYENV || {};                                    if (document.getElementById(\"d7ced95d-a5cf-400d-a152-3a7887dd1140\")) {                    Plotly.newPlot(                        \"d7ced95d-a5cf-400d-a152-3a7887dd1140\",                        [{\"domain\":{\"x\":[0.0,1.0],\"y\":[0.0,1.0]},\"hovertemplate\":\"HeartDisease=%{label}<extra></extra>\",\"labels\":[0,1,0,1,0,0,0,0,1,0,0,1,0,1,0,0,1,0,1,1,0,0,0,1,0,0,0,0,0,0,1,0,1,1,0,0,1,0,0,0,0,1,0,0,1,0,0,0,0,1,1,1,0,0,0,0,1,1,0,1,0,0,0,1,0,0,0,0,1,0,1,0,1,0,1,0,1,0,0,1,0,0,1,0,1,1,1,0,1,0,0,0,0,1,0,1,0,0,0,0,1,0,1,1,1,0,0,0,0,0,0,1,0,0,0,1,1,1,0,1,1,0,0,1,0,0,0,0,0,0,0,1,1,1,0,1,0,0,1,1,1,1,1,0,1,0,0,0,0,1,0,0,0,0,0,1,1,0,1,0,1,1,0,0,0,1,1,0,0,0,0,0,0,0,1,1,1,0,0,0,1,0,1,0,0,1,0,1,0,1,0,0,0,0,0,0,0,0,1,0,0,0,0,0,0,0,0,1,0,1,1,1,0,0,1,0,1,0,0,0,1,1,0,0,0,1,0,1,0,0,0,0,0,0,0,0,1,1,1,1,0,1,1,0,1,0,1,1,1,1,1,1,0,0,1,0,0,0,0,0,0,0,1,1,1,0,1,0,1,0,0,0,1,0,0,0,1,1,0,0,0,1,0,0,0,0,0,0,0,0,0,0,0,1,1,1,1,1,1,1,1,0,1,1,1,1,1,0,1,1,0,1,1,1,0,1,1,1,1,1,1,1,1,1,1,1,0,1,1,1,1,1,0,1,1,1,0,1,1,1,1,1,1,1,1,1,1,1,1,1,1,1,1,1,1,1,1,1,1,1,1,1,1,1,0,1,1,1,1,1,1,1,1,1,1,1,1,1,1,1,1,1,1,1,1,1,1,1,1,1,1,1,1,1,1,1,1,1,1,1,1,1,1,1,1,1,1,1,1,1,1,1,1,1,1,1,1,0,1,1,0,0,1,0,1,1,0,1,1,1,1,0,1,1,0,0,1,1,1,0,1,1,1,1,1,1,1,1,1,1,1,1,1,0,1,0,1,1,1,0,1,1,1,0,1,0,1,0,1,0,1,1,1,1,0,1,0,1,1,1,1,1,1,1,1,1,0,1,0,1,1,1,1,1,1,1,0,1,1,1,1,1,1,0,1,1,1,0,1,1,0,1,0,1,1,0,1,1,1,1,0,1,1,1,0,0,1,0,1,1,1,1,1,1,1,1,1,1,1,0,1,1,1,1,0,0,1,1,1,0,1,0,1,1,0,1,0,1,1,1,0,0,0,1,1,1,0,1,1,1,1,1,1,1,1,1,1,1,1,1,1,1,1,0,1,1,1,0,1,1,0,0,1,1,1,1,1,0,1,1,0,1,1,1,0,0,1,1,1,1,1,0,1,0,1,1,0,1,0,0,0,1,1,1,1,0,0,0,1,0,0,1,1,0,0,1,0,0,0,0,0,0,0,1,0,1,0,0,1,1,1,1,1,0,0,1,0,0,0,1,0,1,1,1,1,1,0,0,0,0,0,1,0,1,1,0,1,0,0,0,1,0,1,0,1,1,0,0,0,0,1,0,0,0,0,1,1,1,0,0,0,0,0,0,1,0,1,1,1,1,1,0,1,0,0,0,1,0,1,1,1,0,1,1,0,1,0,1,0,0,0,1,1,0,1,1,1,1,0,0,0,1,0,0,1,1,1,0,1,0,0,0,1,0,0,1,0,1,0,1,1,1,1,1,0,0,0,0,0,0,0,1,0,0,1,1,1,0,1,0,0,0,0,0,1,0,1,1,0,0,1,1,1,1,0,0,1,1,0,0,0,1,0,0,1,0,1,0,1,0,0,0,0,0,1,0,1,1,1,1,0,0,0,1,0,1,0,0,1,0,0,0,0,0,0,1,1,0,1,0,0,1,1,0,0,1,1,0,1,0,1,0,1,0,0,1,0,0,1,0,1,1,0,1,1,1,0,1,0,0,0,0,1,1,0,0,1,1,0,1,0,0,0,0,1,0,0,1,1,1,0,0,0,1,0,1,0,1,0,1,1,1,0,0,0,1,0,1,1,1,0,1,1,1,1,1,1,0],\"legendgroup\":\"\",\"name\":\"\",\"showlegend\":true,\"type\":\"pie\"}],                        {\"template\":{\"data\":{\"bar\":[{\"error_x\":{\"color\":\"#2a3f5f\"},\"error_y\":{\"color\":\"#2a3f5f\"},\"marker\":{\"line\":{\"color\":\"#E5ECF6\",\"width\":0.5},\"pattern\":{\"fillmode\":\"overlay\",\"size\":10,\"solidity\":0.2}},\"type\":\"bar\"}],\"barpolar\":[{\"marker\":{\"line\":{\"color\":\"#E5ECF6\",\"width\":0.5},\"pattern\":{\"fillmode\":\"overlay\",\"size\":10,\"solidity\":0.2}},\"type\":\"barpolar\"}],\"carpet\":[{\"aaxis\":{\"endlinecolor\":\"#2a3f5f\",\"gridcolor\":\"white\",\"linecolor\":\"white\",\"minorgridcolor\":\"white\",\"startlinecolor\":\"#2a3f5f\"},\"baxis\":{\"endlinecolor\":\"#2a3f5f\",\"gridcolor\":\"white\",\"linecolor\":\"white\",\"minorgridcolor\":\"white\",\"startlinecolor\":\"#2a3f5f\"},\"type\":\"carpet\"}],\"choropleth\":[{\"colorbar\":{\"outlinewidth\":0,\"ticks\":\"\"},\"type\":\"choropleth\"}],\"contour\":[{\"colorbar\":{\"outlinewidth\":0,\"ticks\":\"\"},\"colorscale\":[[0.0,\"#0d0887\"],[0.1111111111111111,\"#46039f\"],[0.2222222222222222,\"#7201a8\"],[0.3333333333333333,\"#9c179e\"],[0.4444444444444444,\"#bd3786\"],[0.5555555555555556,\"#d8576b\"],[0.6666666666666666,\"#ed7953\"],[0.7777777777777778,\"#fb9f3a\"],[0.8888888888888888,\"#fdca26\"],[1.0,\"#f0f921\"]],\"type\":\"contour\"}],\"contourcarpet\":[{\"colorbar\":{\"outlinewidth\":0,\"ticks\":\"\"},\"type\":\"contourcarpet\"}],\"heatmap\":[{\"colorbar\":{\"outlinewidth\":0,\"ticks\":\"\"},\"colorscale\":[[0.0,\"#0d0887\"],[0.1111111111111111,\"#46039f\"],[0.2222222222222222,\"#7201a8\"],[0.3333333333333333,\"#9c179e\"],[0.4444444444444444,\"#bd3786\"],[0.5555555555555556,\"#d8576b\"],[0.6666666666666666,\"#ed7953\"],[0.7777777777777778,\"#fb9f3a\"],[0.8888888888888888,\"#fdca26\"],[1.0,\"#f0f921\"]],\"type\":\"heatmap\"}],\"heatmapgl\":[{\"colorbar\":{\"outlinewidth\":0,\"ticks\":\"\"},\"colorscale\":[[0.0,\"#0d0887\"],[0.1111111111111111,\"#46039f\"],[0.2222222222222222,\"#7201a8\"],[0.3333333333333333,\"#9c179e\"],[0.4444444444444444,\"#bd3786\"],[0.5555555555555556,\"#d8576b\"],[0.6666666666666666,\"#ed7953\"],[0.7777777777777778,\"#fb9f3a\"],[0.8888888888888888,\"#fdca26\"],[1.0,\"#f0f921\"]],\"type\":\"heatmapgl\"}],\"histogram\":[{\"marker\":{\"pattern\":{\"fillmode\":\"overlay\",\"size\":10,\"solidity\":0.2}},\"type\":\"histogram\"}],\"histogram2d\":[{\"colorbar\":{\"outlinewidth\":0,\"ticks\":\"\"},\"colorscale\":[[0.0,\"#0d0887\"],[0.1111111111111111,\"#46039f\"],[0.2222222222222222,\"#7201a8\"],[0.3333333333333333,\"#9c179e\"],[0.4444444444444444,\"#bd3786\"],[0.5555555555555556,\"#d8576b\"],[0.6666666666666666,\"#ed7953\"],[0.7777777777777778,\"#fb9f3a\"],[0.8888888888888888,\"#fdca26\"],[1.0,\"#f0f921\"]],\"type\":\"histogram2d\"}],\"histogram2dcontour\":[{\"colorbar\":{\"outlinewidth\":0,\"ticks\":\"\"},\"colorscale\":[[0.0,\"#0d0887\"],[0.1111111111111111,\"#46039f\"],[0.2222222222222222,\"#7201a8\"],[0.3333333333333333,\"#9c179e\"],[0.4444444444444444,\"#bd3786\"],[0.5555555555555556,\"#d8576b\"],[0.6666666666666666,\"#ed7953\"],[0.7777777777777778,\"#fb9f3a\"],[0.8888888888888888,\"#fdca26\"],[1.0,\"#f0f921\"]],\"type\":\"histogram2dcontour\"}],\"mesh3d\":[{\"colorbar\":{\"outlinewidth\":0,\"ticks\":\"\"},\"type\":\"mesh3d\"}],\"parcoords\":[{\"line\":{\"colorbar\":{\"outlinewidth\":0,\"ticks\":\"\"}},\"type\":\"parcoords\"}],\"pie\":[{\"automargin\":true,\"type\":\"pie\"}],\"scatter\":[{\"marker\":{\"colorbar\":{\"outlinewidth\":0,\"ticks\":\"\"}},\"type\":\"scatter\"}],\"scatter3d\":[{\"line\":{\"colorbar\":{\"outlinewidth\":0,\"ticks\":\"\"}},\"marker\":{\"colorbar\":{\"outlinewidth\":0,\"ticks\":\"\"}},\"type\":\"scatter3d\"}],\"scattercarpet\":[{\"marker\":{\"colorbar\":{\"outlinewidth\":0,\"ticks\":\"\"}},\"type\":\"scattercarpet\"}],\"scattergeo\":[{\"marker\":{\"colorbar\":{\"outlinewidth\":0,\"ticks\":\"\"}},\"type\":\"scattergeo\"}],\"scattergl\":[{\"marker\":{\"colorbar\":{\"outlinewidth\":0,\"ticks\":\"\"}},\"type\":\"scattergl\"}],\"scattermapbox\":[{\"marker\":{\"colorbar\":{\"outlinewidth\":0,\"ticks\":\"\"}},\"type\":\"scattermapbox\"}],\"scatterpolar\":[{\"marker\":{\"colorbar\":{\"outlinewidth\":0,\"ticks\":\"\"}},\"type\":\"scatterpolar\"}],\"scatterpolargl\":[{\"marker\":{\"colorbar\":{\"outlinewidth\":0,\"ticks\":\"\"}},\"type\":\"scatterpolargl\"}],\"scatterternary\":[{\"marker\":{\"colorbar\":{\"outlinewidth\":0,\"ticks\":\"\"}},\"type\":\"scatterternary\"}],\"surface\":[{\"colorbar\":{\"outlinewidth\":0,\"ticks\":\"\"},\"colorscale\":[[0.0,\"#0d0887\"],[0.1111111111111111,\"#46039f\"],[0.2222222222222222,\"#7201a8\"],[0.3333333333333333,\"#9c179e\"],[0.4444444444444444,\"#bd3786\"],[0.5555555555555556,\"#d8576b\"],[0.6666666666666666,\"#ed7953\"],[0.7777777777777778,\"#fb9f3a\"],[0.8888888888888888,\"#fdca26\"],[1.0,\"#f0f921\"]],\"type\":\"surface\"}],\"table\":[{\"cells\":{\"fill\":{\"color\":\"#EBF0F8\"},\"line\":{\"color\":\"white\"}},\"header\":{\"fill\":{\"color\":\"#C8D4E3\"},\"line\":{\"color\":\"white\"}},\"type\":\"table\"}]},\"layout\":{\"annotationdefaults\":{\"arrowcolor\":\"#2a3f5f\",\"arrowhead\":0,\"arrowwidth\":1},\"autotypenumbers\":\"strict\",\"coloraxis\":{\"colorbar\":{\"outlinewidth\":0,\"ticks\":\"\"}},\"colorscale\":{\"diverging\":[[0,\"#8e0152\"],[0.1,\"#c51b7d\"],[0.2,\"#de77ae\"],[0.3,\"#f1b6da\"],[0.4,\"#fde0ef\"],[0.5,\"#f7f7f7\"],[0.6,\"#e6f5d0\"],[0.7,\"#b8e186\"],[0.8,\"#7fbc41\"],[0.9,\"#4d9221\"],[1,\"#276419\"]],\"sequential\":[[0.0,\"#0d0887\"],[0.1111111111111111,\"#46039f\"],[0.2222222222222222,\"#7201a8\"],[0.3333333333333333,\"#9c179e\"],[0.4444444444444444,\"#bd3786\"],[0.5555555555555556,\"#d8576b\"],[0.6666666666666666,\"#ed7953\"],[0.7777777777777778,\"#fb9f3a\"],[0.8888888888888888,\"#fdca26\"],[1.0,\"#f0f921\"]],\"sequentialminus\":[[0.0,\"#0d0887\"],[0.1111111111111111,\"#46039f\"],[0.2222222222222222,\"#7201a8\"],[0.3333333333333333,\"#9c179e\"],[0.4444444444444444,\"#bd3786\"],[0.5555555555555556,\"#d8576b\"],[0.6666666666666666,\"#ed7953\"],[0.7777777777777778,\"#fb9f3a\"],[0.8888888888888888,\"#fdca26\"],[1.0,\"#f0f921\"]]},\"colorway\":[\"#636efa\",\"#EF553B\",\"#00cc96\",\"#ab63fa\",\"#FFA15A\",\"#19d3f3\",\"#FF6692\",\"#B6E880\",\"#FF97FF\",\"#FECB52\"],\"font\":{\"color\":\"#2a3f5f\"},\"geo\":{\"bgcolor\":\"white\",\"lakecolor\":\"white\",\"landcolor\":\"#E5ECF6\",\"showlakes\":true,\"showland\":true,\"subunitcolor\":\"white\"},\"hoverlabel\":{\"align\":\"left\"},\"hovermode\":\"closest\",\"mapbox\":{\"style\":\"light\"},\"paper_bgcolor\":\"white\",\"plot_bgcolor\":\"#E5ECF6\",\"polar\":{\"angularaxis\":{\"gridcolor\":\"white\",\"linecolor\":\"white\",\"ticks\":\"\"},\"bgcolor\":\"#E5ECF6\",\"radialaxis\":{\"gridcolor\":\"white\",\"linecolor\":\"white\",\"ticks\":\"\"}},\"scene\":{\"xaxis\":{\"backgroundcolor\":\"#E5ECF6\",\"gridcolor\":\"white\",\"gridwidth\":2,\"linecolor\":\"white\",\"showbackground\":true,\"ticks\":\"\",\"zerolinecolor\":\"white\"},\"yaxis\":{\"backgroundcolor\":\"#E5ECF6\",\"gridcolor\":\"white\",\"gridwidth\":2,\"linecolor\":\"white\",\"showbackground\":true,\"ticks\":\"\",\"zerolinecolor\":\"white\"},\"zaxis\":{\"backgroundcolor\":\"#E5ECF6\",\"gridcolor\":\"white\",\"gridwidth\":2,\"linecolor\":\"white\",\"showbackground\":true,\"ticks\":\"\",\"zerolinecolor\":\"white\"}},\"shapedefaults\":{\"line\":{\"color\":\"#2a3f5f\"}},\"ternary\":{\"aaxis\":{\"gridcolor\":\"white\",\"linecolor\":\"white\",\"ticks\":\"\"},\"baxis\":{\"gridcolor\":\"white\",\"linecolor\":\"white\",\"ticks\":\"\"},\"bgcolor\":\"#E5ECF6\",\"caxis\":{\"gridcolor\":\"white\",\"linecolor\":\"white\",\"ticks\":\"\"}},\"title\":{\"x\":0.05},\"xaxis\":{\"automargin\":true,\"gridcolor\":\"white\",\"linecolor\":\"white\",\"ticks\":\"\",\"title\":{\"standoff\":15},\"zerolinecolor\":\"white\",\"zerolinewidth\":2},\"yaxis\":{\"automargin\":true,\"gridcolor\":\"white\",\"linecolor\":\"white\",\"ticks\":\"\",\"title\":{\"standoff\":15},\"zerolinecolor\":\"white\",\"zerolinewidth\":2}}},\"legend\":{\"tracegroupgap\":0},\"margin\":{\"t\":60},\"piecolorway\":[\"rgb(2,56,88)\",\"rgb(4,90,141)\",\"rgb(5,112,176)\",\"rgb(54,144,192)\",\"rgb(116,169,207)\",\"rgb(166,189,219)\",\"rgb(208,209,230)\",\"rgb(236,231,242)\",\"rgb(255,247,251)\"],\"height\":400,\"width\":500},                        {\"responsive\": true}                    ).then(function(){\n",
              "                            \n",
              "var gd = document.getElementById('d7ced95d-a5cf-400d-a152-3a7887dd1140');\n",
              "var x = new MutationObserver(function (mutations, observer) {{\n",
              "        var display = window.getComputedStyle(gd).display;\n",
              "        if (!display || display === 'none') {{\n",
              "            console.log([gd, 'removed!']);\n",
              "            Plotly.purge(gd);\n",
              "            observer.disconnect();\n",
              "        }}\n",
              "}});\n",
              "\n",
              "// Listen for the removal of the full notebook cells\n",
              "var notebookContainer = gd.closest('#notebook-container');\n",
              "if (notebookContainer) {{\n",
              "    x.observe(notebookContainer, {childList: true});\n",
              "}}\n",
              "\n",
              "// Listen for the clearing of the current output cell\n",
              "var outputEl = gd.closest('.output');\n",
              "if (outputEl) {{\n",
              "    x.observe(outputEl, {childList: true});\n",
              "}}\n",
              "\n",
              "                        })                };                            </script>        </div>\n",
              "</body>\n",
              "</html>"
            ]
          },
          "metadata": {}
        }
      ],
      "source": [
        "px.pie(rev_df, 'HeartDisease', width=500, height=400, color_discrete_sequence=px.colors.sequential.PuBu_r)"
      ]
    },
    {
      "cell_type": "code",
      "execution_count": null,
      "metadata": {
        "id": "TU1j6kmUi4QM"
      },
      "outputs": [],
      "source": []
    },
    {
      "cell_type": "markdown",
      "metadata": {
        "id": "tjyofhQDlCig"
      },
      "source": [
        "## Analysing the attribute types, Descriptive Statistics Analysis and looking up for missing values"
      ]
    },
    {
      "cell_type": "code",
      "execution_count": null,
      "metadata": {
        "colab": {
          "base_uri": "https://localhost:8080/"
        },
        "id": "N3VNyxGGlDnL",
        "outputId": "c236a40b-8a15-43d7-f7ac-fd4c50bf4db8"
      },
      "outputs": [
        {
          "output_type": "execute_result",
          "data": {
            "text/plain": [
              "Age                 int64\n",
              "Sex                object\n",
              "ChestPainType      object\n",
              "RestingBP           int64\n",
              "Cholesterol         int64\n",
              "FastingBS           int64\n",
              "RestingECG         object\n",
              "MaxHR               int64\n",
              "ExerciseAngina     object\n",
              "Oldpeak           float64\n",
              "ST_Slope           object\n",
              "HeartDisease        int64\n",
              "dtype: object"
            ]
          },
          "metadata": {},
          "execution_count": 36
        }
      ],
      "source": [
        "rev_df.dtypes"
      ]
    },
    {
      "cell_type": "code",
      "execution_count": null,
      "metadata": {
        "colab": {
          "base_uri": "https://localhost:8080/"
        },
        "id": "PddCLLi1xxce",
        "outputId": "bd535abf-c0c0-4e83-e638-c8a9c9232ca6"
      },
      "outputs": [
        {
          "output_type": "execute_result",
          "data": {
            "text/plain": [
              "Age               0\n",
              "Sex               0\n",
              "ChestPainType     0\n",
              "RestingBP         0\n",
              "Cholesterol       0\n",
              "FastingBS         0\n",
              "RestingECG        0\n",
              "MaxHR             0\n",
              "ExerciseAngina    0\n",
              "Oldpeak           0\n",
              "ST_Slope          0\n",
              "HeartDisease      0\n",
              "dtype: int64"
            ]
          },
          "metadata": {},
          "execution_count": 37
        }
      ],
      "source": [
        "rev_df.isnull().sum()"
      ]
    },
    {
      "cell_type": "markdown",
      "metadata": {
        "id": "9Ac7zOZjnNhe"
      },
      "source": [
        "## Descriptive Statistics Analysis"
      ]
    },
    {
      "cell_type": "code",
      "execution_count": null,
      "metadata": {
        "colab": {
          "base_uri": "https://localhost:8080/"
        },
        "id": "sfkIrLirzpN8",
        "outputId": "8369226b-c919-4e93-f1df-b4332e761efd"
      },
      "outputs": [
        {
          "output_type": "execute_result",
          "data": {
            "text/plain": [
              "              Age   RestingBP  Cholesterol   FastingBS       MaxHR  \\\n",
              "count  918.000000  918.000000   918.000000  918.000000  918.000000   \n",
              "mean    53.510893  132.396514   198.799564    0.233115  136.809368   \n",
              "std      9.432617   18.514154   109.384145    0.423046   25.460334   \n",
              "min     28.000000    0.000000     0.000000    0.000000   60.000000   \n",
              "25%     47.000000  120.000000   173.250000    0.000000  120.000000   \n",
              "50%     54.000000  130.000000   223.000000    0.000000  138.000000   \n",
              "75%     60.000000  140.000000   267.000000    0.000000  156.000000   \n",
              "max     77.000000  200.000000   603.000000    1.000000  202.000000   \n",
              "\n",
              "          Oldpeak  HeartDisease  \n",
              "count  918.000000    918.000000  \n",
              "mean     0.887364      0.553377  \n",
              "std      1.066570      0.497414  \n",
              "min     -2.600000      0.000000  \n",
              "25%      0.000000      0.000000  \n",
              "50%      0.600000      1.000000  \n",
              "75%      1.500000      1.000000  \n",
              "max      6.200000      1.000000  "
            ],
            "text/html": [
              "\n",
              "  <div id=\"df-2ad6f749-2637-451b-a625-14a9bdffa26c\">\n",
              "    <div class=\"colab-df-container\">\n",
              "      <div>\n",
              "<style scoped>\n",
              "    .dataframe tbody tr th:only-of-type {\n",
              "        vertical-align: middle;\n",
              "    }\n",
              "\n",
              "    .dataframe tbody tr th {\n",
              "        vertical-align: top;\n",
              "    }\n",
              "\n",
              "    .dataframe thead th {\n",
              "        text-align: right;\n",
              "    }\n",
              "</style>\n",
              "<table border=\"1\" class=\"dataframe\">\n",
              "  <thead>\n",
              "    <tr style=\"text-align: right;\">\n",
              "      <th></th>\n",
              "      <th>Age</th>\n",
              "      <th>RestingBP</th>\n",
              "      <th>Cholesterol</th>\n",
              "      <th>FastingBS</th>\n",
              "      <th>MaxHR</th>\n",
              "      <th>Oldpeak</th>\n",
              "      <th>HeartDisease</th>\n",
              "    </tr>\n",
              "  </thead>\n",
              "  <tbody>\n",
              "    <tr>\n",
              "      <th>count</th>\n",
              "      <td>918.000000</td>\n",
              "      <td>918.000000</td>\n",
              "      <td>918.000000</td>\n",
              "      <td>918.000000</td>\n",
              "      <td>918.000000</td>\n",
              "      <td>918.000000</td>\n",
              "      <td>918.000000</td>\n",
              "    </tr>\n",
              "    <tr>\n",
              "      <th>mean</th>\n",
              "      <td>53.510893</td>\n",
              "      <td>132.396514</td>\n",
              "      <td>198.799564</td>\n",
              "      <td>0.233115</td>\n",
              "      <td>136.809368</td>\n",
              "      <td>0.887364</td>\n",
              "      <td>0.553377</td>\n",
              "    </tr>\n",
              "    <tr>\n",
              "      <th>std</th>\n",
              "      <td>9.432617</td>\n",
              "      <td>18.514154</td>\n",
              "      <td>109.384145</td>\n",
              "      <td>0.423046</td>\n",
              "      <td>25.460334</td>\n",
              "      <td>1.066570</td>\n",
              "      <td>0.497414</td>\n",
              "    </tr>\n",
              "    <tr>\n",
              "      <th>min</th>\n",
              "      <td>28.000000</td>\n",
              "      <td>0.000000</td>\n",
              "      <td>0.000000</td>\n",
              "      <td>0.000000</td>\n",
              "      <td>60.000000</td>\n",
              "      <td>-2.600000</td>\n",
              "      <td>0.000000</td>\n",
              "    </tr>\n",
              "    <tr>\n",
              "      <th>25%</th>\n",
              "      <td>47.000000</td>\n",
              "      <td>120.000000</td>\n",
              "      <td>173.250000</td>\n",
              "      <td>0.000000</td>\n",
              "      <td>120.000000</td>\n",
              "      <td>0.000000</td>\n",
              "      <td>0.000000</td>\n",
              "    </tr>\n",
              "    <tr>\n",
              "      <th>50%</th>\n",
              "      <td>54.000000</td>\n",
              "      <td>130.000000</td>\n",
              "      <td>223.000000</td>\n",
              "      <td>0.000000</td>\n",
              "      <td>138.000000</td>\n",
              "      <td>0.600000</td>\n",
              "      <td>1.000000</td>\n",
              "    </tr>\n",
              "    <tr>\n",
              "      <th>75%</th>\n",
              "      <td>60.000000</td>\n",
              "      <td>140.000000</td>\n",
              "      <td>267.000000</td>\n",
              "      <td>0.000000</td>\n",
              "      <td>156.000000</td>\n",
              "      <td>1.500000</td>\n",
              "      <td>1.000000</td>\n",
              "    </tr>\n",
              "    <tr>\n",
              "      <th>max</th>\n",
              "      <td>77.000000</td>\n",
              "      <td>200.000000</td>\n",
              "      <td>603.000000</td>\n",
              "      <td>1.000000</td>\n",
              "      <td>202.000000</td>\n",
              "      <td>6.200000</td>\n",
              "      <td>1.000000</td>\n",
              "    </tr>\n",
              "  </tbody>\n",
              "</table>\n",
              "</div>\n",
              "      <button class=\"colab-df-convert\" onclick=\"convertToInteractive('df-2ad6f749-2637-451b-a625-14a9bdffa26c')\"\n",
              "              title=\"Convert this dataframe to an interactive table.\"\n",
              "              style=\"display:none;\">\n",
              "        \n",
              "  <svg xmlns=\"http://www.w3.org/2000/svg\" height=\"24px\"viewBox=\"0 0 24 24\"\n",
              "       width=\"24px\">\n",
              "    <path d=\"M0 0h24v24H0V0z\" fill=\"none\"/>\n",
              "    <path d=\"M18.56 5.44l.94 2.06.94-2.06 2.06-.94-2.06-.94-.94-2.06-.94 2.06-2.06.94zm-11 1L8.5 8.5l.94-2.06 2.06-.94-2.06-.94L8.5 2.5l-.94 2.06-2.06.94zm10 10l.94 2.06.94-2.06 2.06-.94-2.06-.94-.94-2.06-.94 2.06-2.06.94z\"/><path d=\"M17.41 7.96l-1.37-1.37c-.4-.4-.92-.59-1.43-.59-.52 0-1.04.2-1.43.59L10.3 9.45l-7.72 7.72c-.78.78-.78 2.05 0 2.83L4 21.41c.39.39.9.59 1.41.59.51 0 1.02-.2 1.41-.59l7.78-7.78 2.81-2.81c.8-.78.8-2.07 0-2.86zM5.41 20L4 18.59l7.72-7.72 1.47 1.35L5.41 20z\"/>\n",
              "  </svg>\n",
              "      </button>\n",
              "      \n",
              "  <style>\n",
              "    .colab-df-container {\n",
              "      display:flex;\n",
              "      flex-wrap:wrap;\n",
              "      gap: 12px;\n",
              "    }\n",
              "\n",
              "    .colab-df-convert {\n",
              "      background-color: #E8F0FE;\n",
              "      border: none;\n",
              "      border-radius: 50%;\n",
              "      cursor: pointer;\n",
              "      display: none;\n",
              "      fill: #1967D2;\n",
              "      height: 32px;\n",
              "      padding: 0 0 0 0;\n",
              "      width: 32px;\n",
              "    }\n",
              "\n",
              "    .colab-df-convert:hover {\n",
              "      background-color: #E2EBFA;\n",
              "      box-shadow: 0px 1px 2px rgba(60, 64, 67, 0.3), 0px 1px 3px 1px rgba(60, 64, 67, 0.15);\n",
              "      fill: #174EA6;\n",
              "    }\n",
              "\n",
              "    [theme=dark] .colab-df-convert {\n",
              "      background-color: #3B4455;\n",
              "      fill: #D2E3FC;\n",
              "    }\n",
              "\n",
              "    [theme=dark] .colab-df-convert:hover {\n",
              "      background-color: #434B5C;\n",
              "      box-shadow: 0px 1px 3px 1px rgba(0, 0, 0, 0.15);\n",
              "      filter: drop-shadow(0px 1px 2px rgba(0, 0, 0, 0.3));\n",
              "      fill: #FFFFFF;\n",
              "    }\n",
              "  </style>\n",
              "\n",
              "      <script>\n",
              "        const buttonEl =\n",
              "          document.querySelector('#df-2ad6f749-2637-451b-a625-14a9bdffa26c button.colab-df-convert');\n",
              "        buttonEl.style.display =\n",
              "          google.colab.kernel.accessAllowed ? 'block' : 'none';\n",
              "\n",
              "        async function convertToInteractive(key) {\n",
              "          const element = document.querySelector('#df-2ad6f749-2637-451b-a625-14a9bdffa26c');\n",
              "          const dataTable =\n",
              "            await google.colab.kernel.invokeFunction('convertToInteractive',\n",
              "                                                     [key], {});\n",
              "          if (!dataTable) return;\n",
              "\n",
              "          const docLinkHtml = 'Like what you see? Visit the ' +\n",
              "            '<a target=\"_blank\" href=https://colab.research.google.com/notebooks/data_table.ipynb>data table notebook</a>'\n",
              "            + ' to learn more about interactive tables.';\n",
              "          element.innerHTML = '';\n",
              "          dataTable['output_type'] = 'display_data';\n",
              "          await google.colab.output.renderOutput(dataTable, element);\n",
              "          const docLink = document.createElement('div');\n",
              "          docLink.innerHTML = docLinkHtml;\n",
              "          element.appendChild(docLink);\n",
              "        }\n",
              "      </script>\n",
              "    </div>\n",
              "  </div>\n",
              "  "
            ]
          },
          "metadata": {},
          "execution_count": 38
        }
      ],
      "source": [
        "rev_df.describe()"
      ]
    },
    {
      "cell_type": "code",
      "execution_count": null,
      "metadata": {
        "colab": {
          "base_uri": "https://localhost:8080/"
        },
        "id": "c_CH9pV3nneP",
        "outputId": "85fea86a-645d-458d-ef81-b45fc6ed9835"
      },
      "outputs": [
        {
          "output_type": "execute_result",
          "data": {
            "text/plain": [
              "   Age Sex ChestPainType  RestingBP  Cholesterol  FastingBS RestingECG  MaxHR  \\\n",
              "0   54   M           ASY        120            0          0     Normal    150   \n",
              "\n",
              "  ExerciseAngina  Oldpeak ST_Slope  HeartDisease  \n",
              "0              N      0.0     Flat             1  "
            ],
            "text/html": [
              "\n",
              "  <div id=\"df-1abb2c33-8020-459a-8faf-bee1b0e9f3c1\">\n",
              "    <div class=\"colab-df-container\">\n",
              "      <div>\n",
              "<style scoped>\n",
              "    .dataframe tbody tr th:only-of-type {\n",
              "        vertical-align: middle;\n",
              "    }\n",
              "\n",
              "    .dataframe tbody tr th {\n",
              "        vertical-align: top;\n",
              "    }\n",
              "\n",
              "    .dataframe thead th {\n",
              "        text-align: right;\n",
              "    }\n",
              "</style>\n",
              "<table border=\"1\" class=\"dataframe\">\n",
              "  <thead>\n",
              "    <tr style=\"text-align: right;\">\n",
              "      <th></th>\n",
              "      <th>Age</th>\n",
              "      <th>Sex</th>\n",
              "      <th>ChestPainType</th>\n",
              "      <th>RestingBP</th>\n",
              "      <th>Cholesterol</th>\n",
              "      <th>FastingBS</th>\n",
              "      <th>RestingECG</th>\n",
              "      <th>MaxHR</th>\n",
              "      <th>ExerciseAngina</th>\n",
              "      <th>Oldpeak</th>\n",
              "      <th>ST_Slope</th>\n",
              "      <th>HeartDisease</th>\n",
              "    </tr>\n",
              "  </thead>\n",
              "  <tbody>\n",
              "    <tr>\n",
              "      <th>0</th>\n",
              "      <td>54</td>\n",
              "      <td>M</td>\n",
              "      <td>ASY</td>\n",
              "      <td>120</td>\n",
              "      <td>0</td>\n",
              "      <td>0</td>\n",
              "      <td>Normal</td>\n",
              "      <td>150</td>\n",
              "      <td>N</td>\n",
              "      <td>0.0</td>\n",
              "      <td>Flat</td>\n",
              "      <td>1</td>\n",
              "    </tr>\n",
              "  </tbody>\n",
              "</table>\n",
              "</div>\n",
              "      <button class=\"colab-df-convert\" onclick=\"convertToInteractive('df-1abb2c33-8020-459a-8faf-bee1b0e9f3c1')\"\n",
              "              title=\"Convert this dataframe to an interactive table.\"\n",
              "              style=\"display:none;\">\n",
              "        \n",
              "  <svg xmlns=\"http://www.w3.org/2000/svg\" height=\"24px\"viewBox=\"0 0 24 24\"\n",
              "       width=\"24px\">\n",
              "    <path d=\"M0 0h24v24H0V0z\" fill=\"none\"/>\n",
              "    <path d=\"M18.56 5.44l.94 2.06.94-2.06 2.06-.94-2.06-.94-.94-2.06-.94 2.06-2.06.94zm-11 1L8.5 8.5l.94-2.06 2.06-.94-2.06-.94L8.5 2.5l-.94 2.06-2.06.94zm10 10l.94 2.06.94-2.06 2.06-.94-2.06-.94-.94-2.06-.94 2.06-2.06.94z\"/><path d=\"M17.41 7.96l-1.37-1.37c-.4-.4-.92-.59-1.43-.59-.52 0-1.04.2-1.43.59L10.3 9.45l-7.72 7.72c-.78.78-.78 2.05 0 2.83L4 21.41c.39.39.9.59 1.41.59.51 0 1.02-.2 1.41-.59l7.78-7.78 2.81-2.81c.8-.78.8-2.07 0-2.86zM5.41 20L4 18.59l7.72-7.72 1.47 1.35L5.41 20z\"/>\n",
              "  </svg>\n",
              "      </button>\n",
              "      \n",
              "  <style>\n",
              "    .colab-df-container {\n",
              "      display:flex;\n",
              "      flex-wrap:wrap;\n",
              "      gap: 12px;\n",
              "    }\n",
              "\n",
              "    .colab-df-convert {\n",
              "      background-color: #E8F0FE;\n",
              "      border: none;\n",
              "      border-radius: 50%;\n",
              "      cursor: pointer;\n",
              "      display: none;\n",
              "      fill: #1967D2;\n",
              "      height: 32px;\n",
              "      padding: 0 0 0 0;\n",
              "      width: 32px;\n",
              "    }\n",
              "\n",
              "    .colab-df-convert:hover {\n",
              "      background-color: #E2EBFA;\n",
              "      box-shadow: 0px 1px 2px rgba(60, 64, 67, 0.3), 0px 1px 3px 1px rgba(60, 64, 67, 0.15);\n",
              "      fill: #174EA6;\n",
              "    }\n",
              "\n",
              "    [theme=dark] .colab-df-convert {\n",
              "      background-color: #3B4455;\n",
              "      fill: #D2E3FC;\n",
              "    }\n",
              "\n",
              "    [theme=dark] .colab-df-convert:hover {\n",
              "      background-color: #434B5C;\n",
              "      box-shadow: 0px 1px 3px 1px rgba(0, 0, 0, 0.15);\n",
              "      filter: drop-shadow(0px 1px 2px rgba(0, 0, 0, 0.3));\n",
              "      fill: #FFFFFF;\n",
              "    }\n",
              "  </style>\n",
              "\n",
              "      <script>\n",
              "        const buttonEl =\n",
              "          document.querySelector('#df-1abb2c33-8020-459a-8faf-bee1b0e9f3c1 button.colab-df-convert');\n",
              "        buttonEl.style.display =\n",
              "          google.colab.kernel.accessAllowed ? 'block' : 'none';\n",
              "\n",
              "        async function convertToInteractive(key) {\n",
              "          const element = document.querySelector('#df-1abb2c33-8020-459a-8faf-bee1b0e9f3c1');\n",
              "          const dataTable =\n",
              "            await google.colab.kernel.invokeFunction('convertToInteractive',\n",
              "                                                     [key], {});\n",
              "          if (!dataTable) return;\n",
              "\n",
              "          const docLinkHtml = 'Like what you see? Visit the ' +\n",
              "            '<a target=\"_blank\" href=https://colab.research.google.com/notebooks/data_table.ipynb>data table notebook</a>'\n",
              "            + ' to learn more about interactive tables.';\n",
              "          element.innerHTML = '';\n",
              "          dataTable['output_type'] = 'display_data';\n",
              "          await google.colab.output.renderOutput(dataTable, element);\n",
              "          const docLink = document.createElement('div');\n",
              "          docLink.innerHTML = docLinkHtml;\n",
              "          element.appendChild(docLink);\n",
              "        }\n",
              "      </script>\n",
              "    </div>\n",
              "  </div>\n",
              "  "
            ]
          },
          "metadata": {},
          "execution_count": 39
        }
      ],
      "source": [
        "rev_df.mode()"
      ]
    },
    {
      "cell_type": "markdown",
      "metadata": {
        "id": "EpyQmsCRoHUd"
      },
      "source": [
        "## Working on Inconsistent Values"
      ]
    },
    {
      "cell_type": "markdown",
      "metadata": {
        "id": "Z3QfACuepEDZ"
      },
      "source": [
        "Note that here we're taking out zero values from column 'RestingBP' and also saving it on a brand new dataframe."
      ]
    },
    {
      "cell_type": "code",
      "execution_count": null,
      "metadata": {
        "colab": {
          "base_uri": "https://localhost:8080/"
        },
        "id": "yMq3Ei6lnp-C",
        "outputId": "b5b0f144-aab2-4eee-e44b-ec0f5600fcd0"
      },
      "outputs": [
        {
          "output_type": "execute_result",
          "data": {
            "text/plain": [
              "(917, 12)"
            ]
          },
          "metadata": {},
          "execution_count": 40
        }
      ],
      "source": [
        "df = rev_df.loc[rev_df['RestingBP'] != 0]\n",
        "df.shape"
      ]
    },
    {
      "cell_type": "markdown",
      "metadata": {
        "id": "_PX-hVU0pR95"
      },
      "source": [
        "Note that the 'min' of 'RestingBP' now is 80.00. Differente from 00.00 in the above describe line."
      ]
    },
    {
      "cell_type": "code",
      "execution_count": null,
      "metadata": {
        "colab": {
          "base_uri": "https://localhost:8080/"
        },
        "id": "QskxU-9Yoc4n",
        "outputId": "cfc95835-5af2-4b28-c797-e1fda4357d49"
      },
      "outputs": [
        {
          "output_type": "execute_result",
          "data": {
            "text/plain": [
              "              Age   RestingBP  Cholesterol   FastingBS       MaxHR  \\\n",
              "count  917.000000  917.000000   917.000000  917.000000  917.000000   \n",
              "mean    53.509269  132.540894   199.016358    0.233370  136.789531   \n",
              "std      9.437636   17.999749   109.246330    0.423206   25.467129   \n",
              "min     28.000000   80.000000     0.000000    0.000000   60.000000   \n",
              "25%     47.000000  120.000000   174.000000    0.000000  120.000000   \n",
              "50%     54.000000  130.000000   223.000000    0.000000  138.000000   \n",
              "75%     60.000000  140.000000   267.000000    0.000000  156.000000   \n",
              "max     77.000000  200.000000   603.000000    1.000000  202.000000   \n",
              "\n",
              "          Oldpeak  HeartDisease  \n",
              "count  917.000000    917.000000  \n",
              "mean     0.886696      0.552890  \n",
              "std      1.066960      0.497466  \n",
              "min     -2.600000      0.000000  \n",
              "25%      0.000000      0.000000  \n",
              "50%      0.600000      1.000000  \n",
              "75%      1.500000      1.000000  \n",
              "max      6.200000      1.000000  "
            ],
            "text/html": [
              "\n",
              "  <div id=\"df-2f5616b8-509f-4036-8cbe-8b2e2d883f0a\">\n",
              "    <div class=\"colab-df-container\">\n",
              "      <div>\n",
              "<style scoped>\n",
              "    .dataframe tbody tr th:only-of-type {\n",
              "        vertical-align: middle;\n",
              "    }\n",
              "\n",
              "    .dataframe tbody tr th {\n",
              "        vertical-align: top;\n",
              "    }\n",
              "\n",
              "    .dataframe thead th {\n",
              "        text-align: right;\n",
              "    }\n",
              "</style>\n",
              "<table border=\"1\" class=\"dataframe\">\n",
              "  <thead>\n",
              "    <tr style=\"text-align: right;\">\n",
              "      <th></th>\n",
              "      <th>Age</th>\n",
              "      <th>RestingBP</th>\n",
              "      <th>Cholesterol</th>\n",
              "      <th>FastingBS</th>\n",
              "      <th>MaxHR</th>\n",
              "      <th>Oldpeak</th>\n",
              "      <th>HeartDisease</th>\n",
              "    </tr>\n",
              "  </thead>\n",
              "  <tbody>\n",
              "    <tr>\n",
              "      <th>count</th>\n",
              "      <td>917.000000</td>\n",
              "      <td>917.000000</td>\n",
              "      <td>917.000000</td>\n",
              "      <td>917.000000</td>\n",
              "      <td>917.000000</td>\n",
              "      <td>917.000000</td>\n",
              "      <td>917.000000</td>\n",
              "    </tr>\n",
              "    <tr>\n",
              "      <th>mean</th>\n",
              "      <td>53.509269</td>\n",
              "      <td>132.540894</td>\n",
              "      <td>199.016358</td>\n",
              "      <td>0.233370</td>\n",
              "      <td>136.789531</td>\n",
              "      <td>0.886696</td>\n",
              "      <td>0.552890</td>\n",
              "    </tr>\n",
              "    <tr>\n",
              "      <th>std</th>\n",
              "      <td>9.437636</td>\n",
              "      <td>17.999749</td>\n",
              "      <td>109.246330</td>\n",
              "      <td>0.423206</td>\n",
              "      <td>25.467129</td>\n",
              "      <td>1.066960</td>\n",
              "      <td>0.497466</td>\n",
              "    </tr>\n",
              "    <tr>\n",
              "      <th>min</th>\n",
              "      <td>28.000000</td>\n",
              "      <td>80.000000</td>\n",
              "      <td>0.000000</td>\n",
              "      <td>0.000000</td>\n",
              "      <td>60.000000</td>\n",
              "      <td>-2.600000</td>\n",
              "      <td>0.000000</td>\n",
              "    </tr>\n",
              "    <tr>\n",
              "      <th>25%</th>\n",
              "      <td>47.000000</td>\n",
              "      <td>120.000000</td>\n",
              "      <td>174.000000</td>\n",
              "      <td>0.000000</td>\n",
              "      <td>120.000000</td>\n",
              "      <td>0.000000</td>\n",
              "      <td>0.000000</td>\n",
              "    </tr>\n",
              "    <tr>\n",
              "      <th>50%</th>\n",
              "      <td>54.000000</td>\n",
              "      <td>130.000000</td>\n",
              "      <td>223.000000</td>\n",
              "      <td>0.000000</td>\n",
              "      <td>138.000000</td>\n",
              "      <td>0.600000</td>\n",
              "      <td>1.000000</td>\n",
              "    </tr>\n",
              "    <tr>\n",
              "      <th>75%</th>\n",
              "      <td>60.000000</td>\n",
              "      <td>140.000000</td>\n",
              "      <td>267.000000</td>\n",
              "      <td>0.000000</td>\n",
              "      <td>156.000000</td>\n",
              "      <td>1.500000</td>\n",
              "      <td>1.000000</td>\n",
              "    </tr>\n",
              "    <tr>\n",
              "      <th>max</th>\n",
              "      <td>77.000000</td>\n",
              "      <td>200.000000</td>\n",
              "      <td>603.000000</td>\n",
              "      <td>1.000000</td>\n",
              "      <td>202.000000</td>\n",
              "      <td>6.200000</td>\n",
              "      <td>1.000000</td>\n",
              "    </tr>\n",
              "  </tbody>\n",
              "</table>\n",
              "</div>\n",
              "      <button class=\"colab-df-convert\" onclick=\"convertToInteractive('df-2f5616b8-509f-4036-8cbe-8b2e2d883f0a')\"\n",
              "              title=\"Convert this dataframe to an interactive table.\"\n",
              "              style=\"display:none;\">\n",
              "        \n",
              "  <svg xmlns=\"http://www.w3.org/2000/svg\" height=\"24px\"viewBox=\"0 0 24 24\"\n",
              "       width=\"24px\">\n",
              "    <path d=\"M0 0h24v24H0V0z\" fill=\"none\"/>\n",
              "    <path d=\"M18.56 5.44l.94 2.06.94-2.06 2.06-.94-2.06-.94-.94-2.06-.94 2.06-2.06.94zm-11 1L8.5 8.5l.94-2.06 2.06-.94-2.06-.94L8.5 2.5l-.94 2.06-2.06.94zm10 10l.94 2.06.94-2.06 2.06-.94-2.06-.94-.94-2.06-.94 2.06-2.06.94z\"/><path d=\"M17.41 7.96l-1.37-1.37c-.4-.4-.92-.59-1.43-.59-.52 0-1.04.2-1.43.59L10.3 9.45l-7.72 7.72c-.78.78-.78 2.05 0 2.83L4 21.41c.39.39.9.59 1.41.59.51 0 1.02-.2 1.41-.59l7.78-7.78 2.81-2.81c.8-.78.8-2.07 0-2.86zM5.41 20L4 18.59l7.72-7.72 1.47 1.35L5.41 20z\"/>\n",
              "  </svg>\n",
              "      </button>\n",
              "      \n",
              "  <style>\n",
              "    .colab-df-container {\n",
              "      display:flex;\n",
              "      flex-wrap:wrap;\n",
              "      gap: 12px;\n",
              "    }\n",
              "\n",
              "    .colab-df-convert {\n",
              "      background-color: #E8F0FE;\n",
              "      border: none;\n",
              "      border-radius: 50%;\n",
              "      cursor: pointer;\n",
              "      display: none;\n",
              "      fill: #1967D2;\n",
              "      height: 32px;\n",
              "      padding: 0 0 0 0;\n",
              "      width: 32px;\n",
              "    }\n",
              "\n",
              "    .colab-df-convert:hover {\n",
              "      background-color: #E2EBFA;\n",
              "      box-shadow: 0px 1px 2px rgba(60, 64, 67, 0.3), 0px 1px 3px 1px rgba(60, 64, 67, 0.15);\n",
              "      fill: #174EA6;\n",
              "    }\n",
              "\n",
              "    [theme=dark] .colab-df-convert {\n",
              "      background-color: #3B4455;\n",
              "      fill: #D2E3FC;\n",
              "    }\n",
              "\n",
              "    [theme=dark] .colab-df-convert:hover {\n",
              "      background-color: #434B5C;\n",
              "      box-shadow: 0px 1px 3px 1px rgba(0, 0, 0, 0.15);\n",
              "      filter: drop-shadow(0px 1px 2px rgba(0, 0, 0, 0.3));\n",
              "      fill: #FFFFFF;\n",
              "    }\n",
              "  </style>\n",
              "\n",
              "      <script>\n",
              "        const buttonEl =\n",
              "          document.querySelector('#df-2f5616b8-509f-4036-8cbe-8b2e2d883f0a button.colab-df-convert');\n",
              "        buttonEl.style.display =\n",
              "          google.colab.kernel.accessAllowed ? 'block' : 'none';\n",
              "\n",
              "        async function convertToInteractive(key) {\n",
              "          const element = document.querySelector('#df-2f5616b8-509f-4036-8cbe-8b2e2d883f0a');\n",
              "          const dataTable =\n",
              "            await google.colab.kernel.invokeFunction('convertToInteractive',\n",
              "                                                     [key], {});\n",
              "          if (!dataTable) return;\n",
              "\n",
              "          const docLinkHtml = 'Like what you see? Visit the ' +\n",
              "            '<a target=\"_blank\" href=https://colab.research.google.com/notebooks/data_table.ipynb>data table notebook</a>'\n",
              "            + ' to learn more about interactive tables.';\n",
              "          element.innerHTML = '';\n",
              "          dataTable['output_type'] = 'display_data';\n",
              "          await google.colab.output.renderOutput(dataTable, element);\n",
              "          const docLink = document.createElement('div');\n",
              "          docLink.innerHTML = docLinkHtml;\n",
              "          element.appendChild(docLink);\n",
              "        }\n",
              "      </script>\n",
              "    </div>\n",
              "  </div>\n",
              "  "
            ]
          },
          "metadata": {},
          "execution_count": 41
        }
      ],
      "source": [
        "df.describe()"
      ]
    },
    {
      "cell_type": "markdown",
      "metadata": {
        "id": "rnhvTNv3pdkL"
      },
      "source": [
        "Changing Cholesterol zero values for their mean"
      ]
    },
    {
      "cell_type": "code",
      "execution_count": null,
      "metadata": {
        "colab": {
          "base_uri": "https://localhost:8080/"
        },
        "id": "Tpw_iUR0oemz",
        "outputId": "89289a95-16af-4a9b-db5f-7bc38d3481f3"
      },
      "outputs": [
        {
          "output_type": "execute_result",
          "data": {
            "text/plain": [
              "0      171\n",
              "254     11\n",
              "223     10\n",
              "220     10\n",
              "230      9\n",
              "      ... \n",
              "392      1\n",
              "316      1\n",
              "153      1\n",
              "466      1\n",
              "131      1\n",
              "Name: Cholesterol, Length: 222, dtype: int64"
            ]
          },
          "metadata": {},
          "execution_count": 42
        }
      ],
      "source": [
        "df['Cholesterol'].value_counts()"
      ]
    },
    {
      "cell_type": "code",
      "execution_count": null,
      "metadata": {
        "colab": {
          "base_uri": "https://localhost:8080/"
        },
        "id": "7Wi3WlGjpowa",
        "outputId": "96db0ba0-ccf7-43c6-dcbd-08a0a505aaa0"
      },
      "outputs": [
        {
          "output_type": "execute_result",
          "data": {
            "text/plain": [
              "199.0163576881134"
            ]
          },
          "metadata": {},
          "execution_count": 43
        }
      ],
      "source": [
        "df['Cholesterol'].mean()"
      ]
    },
    {
      "cell_type": "code",
      "execution_count": null,
      "metadata": {
        "colab": {
          "base_uri": "https://localhost:8080/"
        },
        "id": "R7YsNND1ptFj",
        "outputId": "b896b9b1-4576-4788-beb5-15f7a90aea42"
      },
      "outputs": [
        {
          "output_type": "stream",
          "name": "stderr",
          "text": [
            "/usr/local/lib/python3.7/dist-packages/pandas/core/generic.py:6619: SettingWithCopyWarning:\n",
            "\n",
            "\n",
            "A value is trying to be set on a copy of a slice from a DataFrame\n",
            "\n",
            "See the caveats in the documentation: https://pandas.pydata.org/pandas-docs/stable/user_guide/indexing.html#returning-a-view-versus-a-copy\n",
            "\n"
          ]
        }
      ],
      "source": [
        "df['Cholesterol'].replace(0, np.NaN, inplace=True)"
      ]
    },
    {
      "cell_type": "code",
      "execution_count": null,
      "metadata": {
        "colab": {
          "base_uri": "https://localhost:8080/"
        },
        "id": "Cj2RmPCUp4l6",
        "outputId": "7c342748-ddd5-4c57-d12c-615c3089ad25"
      },
      "outputs": [
        {
          "output_type": "execute_result",
          "data": {
            "text/plain": [
              "Age                 0\n",
              "Sex                 0\n",
              "ChestPainType       0\n",
              "RestingBP           0\n",
              "Cholesterol       171\n",
              "FastingBS           0\n",
              "RestingECG          0\n",
              "MaxHR               0\n",
              "ExerciseAngina      0\n",
              "Oldpeak             0\n",
              "ST_Slope            0\n",
              "HeartDisease        0\n",
              "dtype: int64"
            ]
          },
          "metadata": {},
          "execution_count": 45
        }
      ],
      "source": [
        "df.isnull().sum()"
      ]
    },
    {
      "cell_type": "code",
      "execution_count": null,
      "metadata": {
        "colab": {
          "base_uri": "https://localhost:8080/"
        },
        "id": "IiVdLHcxp8Cv",
        "outputId": "a0e12a8a-a55b-4d68-c1b5-f3193fe129e4"
      },
      "outputs": [
        {
          "output_type": "execute_result",
          "data": {
            "text/plain": [
              "244.6353887399464"
            ]
          },
          "metadata": {},
          "execution_count": 46
        }
      ],
      "source": [
        "df['Cholesterol'].mean()"
      ]
    },
    {
      "cell_type": "code",
      "execution_count": null,
      "metadata": {
        "colab": {
          "base_uri": "https://localhost:8080/"
        },
        "id": "2smltQSPqBRV",
        "outputId": "d865cb50-025e-4279-c43f-b1ab202e3a3f"
      },
      "outputs": [
        {
          "output_type": "stream",
          "name": "stderr",
          "text": [
            "/usr/local/lib/python3.7/dist-packages/pandas/core/generic.py:6392: SettingWithCopyWarning:\n",
            "\n",
            "\n",
            "A value is trying to be set on a copy of a slice from a DataFrame\n",
            "\n",
            "See the caveats in the documentation: https://pandas.pydata.org/pandas-docs/stable/user_guide/indexing.html#returning-a-view-versus-a-copy\n",
            "\n"
          ]
        }
      ],
      "source": [
        "df['Cholesterol'].fillna(df['Cholesterol'].mean(), inplace=True)"
      ]
    },
    {
      "cell_type": "code",
      "execution_count": null,
      "metadata": {
        "colab": {
          "base_uri": "https://localhost:8080/"
        },
        "id": "b1-EBxtKqNhe",
        "outputId": "89a3f7d1-9613-4d22-c891-a7744e4a61c9"
      },
      "outputs": [
        {
          "output_type": "execute_result",
          "data": {
            "text/plain": [
              "Age               0\n",
              "Sex               0\n",
              "ChestPainType     0\n",
              "RestingBP         0\n",
              "Cholesterol       0\n",
              "FastingBS         0\n",
              "RestingECG        0\n",
              "MaxHR             0\n",
              "ExerciseAngina    0\n",
              "Oldpeak           0\n",
              "ST_Slope          0\n",
              "HeartDisease      0\n",
              "dtype: int64"
            ]
          },
          "metadata": {},
          "execution_count": 48
        }
      ],
      "source": [
        "df.isnull().sum()"
      ]
    },
    {
      "cell_type": "code",
      "execution_count": null,
      "metadata": {
        "colab": {
          "base_uri": "https://localhost:8080/"
        },
        "id": "KFuA8PhjqTIm",
        "outputId": "2062a72c-7834-4d90-b4ea-cc0fde4ad035"
      },
      "outputs": [
        {
          "output_type": "execute_result",
          "data": {
            "text/plain": [
              "   Age Sex ChestPainType  RestingBP  Cholesterol  FastingBS RestingECG  MaxHR  \\\n",
              "0   54   M           ASY        120   244.635389          0     Normal    150   \n",
              "\n",
              "  ExerciseAngina  Oldpeak ST_Slope  HeartDisease  \n",
              "0              N      0.0     Flat             1  "
            ],
            "text/html": [
              "\n",
              "  <div id=\"df-efeae315-6bbf-49a0-94c0-3c8410fe01b7\">\n",
              "    <div class=\"colab-df-container\">\n",
              "      <div>\n",
              "<style scoped>\n",
              "    .dataframe tbody tr th:only-of-type {\n",
              "        vertical-align: middle;\n",
              "    }\n",
              "\n",
              "    .dataframe tbody tr th {\n",
              "        vertical-align: top;\n",
              "    }\n",
              "\n",
              "    .dataframe thead th {\n",
              "        text-align: right;\n",
              "    }\n",
              "</style>\n",
              "<table border=\"1\" class=\"dataframe\">\n",
              "  <thead>\n",
              "    <tr style=\"text-align: right;\">\n",
              "      <th></th>\n",
              "      <th>Age</th>\n",
              "      <th>Sex</th>\n",
              "      <th>ChestPainType</th>\n",
              "      <th>RestingBP</th>\n",
              "      <th>Cholesterol</th>\n",
              "      <th>FastingBS</th>\n",
              "      <th>RestingECG</th>\n",
              "      <th>MaxHR</th>\n",
              "      <th>ExerciseAngina</th>\n",
              "      <th>Oldpeak</th>\n",
              "      <th>ST_Slope</th>\n",
              "      <th>HeartDisease</th>\n",
              "    </tr>\n",
              "  </thead>\n",
              "  <tbody>\n",
              "    <tr>\n",
              "      <th>0</th>\n",
              "      <td>54</td>\n",
              "      <td>M</td>\n",
              "      <td>ASY</td>\n",
              "      <td>120</td>\n",
              "      <td>244.635389</td>\n",
              "      <td>0</td>\n",
              "      <td>Normal</td>\n",
              "      <td>150</td>\n",
              "      <td>N</td>\n",
              "      <td>0.0</td>\n",
              "      <td>Flat</td>\n",
              "      <td>1</td>\n",
              "    </tr>\n",
              "  </tbody>\n",
              "</table>\n",
              "</div>\n",
              "      <button class=\"colab-df-convert\" onclick=\"convertToInteractive('df-efeae315-6bbf-49a0-94c0-3c8410fe01b7')\"\n",
              "              title=\"Convert this dataframe to an interactive table.\"\n",
              "              style=\"display:none;\">\n",
              "        \n",
              "  <svg xmlns=\"http://www.w3.org/2000/svg\" height=\"24px\"viewBox=\"0 0 24 24\"\n",
              "       width=\"24px\">\n",
              "    <path d=\"M0 0h24v24H0V0z\" fill=\"none\"/>\n",
              "    <path d=\"M18.56 5.44l.94 2.06.94-2.06 2.06-.94-2.06-.94-.94-2.06-.94 2.06-2.06.94zm-11 1L8.5 8.5l.94-2.06 2.06-.94-2.06-.94L8.5 2.5l-.94 2.06-2.06.94zm10 10l.94 2.06.94-2.06 2.06-.94-2.06-.94-.94-2.06-.94 2.06-2.06.94z\"/><path d=\"M17.41 7.96l-1.37-1.37c-.4-.4-.92-.59-1.43-.59-.52 0-1.04.2-1.43.59L10.3 9.45l-7.72 7.72c-.78.78-.78 2.05 0 2.83L4 21.41c.39.39.9.59 1.41.59.51 0 1.02-.2 1.41-.59l7.78-7.78 2.81-2.81c.8-.78.8-2.07 0-2.86zM5.41 20L4 18.59l7.72-7.72 1.47 1.35L5.41 20z\"/>\n",
              "  </svg>\n",
              "      </button>\n",
              "      \n",
              "  <style>\n",
              "    .colab-df-container {\n",
              "      display:flex;\n",
              "      flex-wrap:wrap;\n",
              "      gap: 12px;\n",
              "    }\n",
              "\n",
              "    .colab-df-convert {\n",
              "      background-color: #E8F0FE;\n",
              "      border: none;\n",
              "      border-radius: 50%;\n",
              "      cursor: pointer;\n",
              "      display: none;\n",
              "      fill: #1967D2;\n",
              "      height: 32px;\n",
              "      padding: 0 0 0 0;\n",
              "      width: 32px;\n",
              "    }\n",
              "\n",
              "    .colab-df-convert:hover {\n",
              "      background-color: #E2EBFA;\n",
              "      box-shadow: 0px 1px 2px rgba(60, 64, 67, 0.3), 0px 1px 3px 1px rgba(60, 64, 67, 0.15);\n",
              "      fill: #174EA6;\n",
              "    }\n",
              "\n",
              "    [theme=dark] .colab-df-convert {\n",
              "      background-color: #3B4455;\n",
              "      fill: #D2E3FC;\n",
              "    }\n",
              "\n",
              "    [theme=dark] .colab-df-convert:hover {\n",
              "      background-color: #434B5C;\n",
              "      box-shadow: 0px 1px 3px 1px rgba(0, 0, 0, 0.15);\n",
              "      filter: drop-shadow(0px 1px 2px rgba(0, 0, 0, 0.3));\n",
              "      fill: #FFFFFF;\n",
              "    }\n",
              "  </style>\n",
              "\n",
              "      <script>\n",
              "        const buttonEl =\n",
              "          document.querySelector('#df-efeae315-6bbf-49a0-94c0-3c8410fe01b7 button.colab-df-convert');\n",
              "        buttonEl.style.display =\n",
              "          google.colab.kernel.accessAllowed ? 'block' : 'none';\n",
              "\n",
              "        async function convertToInteractive(key) {\n",
              "          const element = document.querySelector('#df-efeae315-6bbf-49a0-94c0-3c8410fe01b7');\n",
              "          const dataTable =\n",
              "            await google.colab.kernel.invokeFunction('convertToInteractive',\n",
              "                                                     [key], {});\n",
              "          if (!dataTable) return;\n",
              "\n",
              "          const docLinkHtml = 'Like what you see? Visit the ' +\n",
              "            '<a target=\"_blank\" href=https://colab.research.google.com/notebooks/data_table.ipynb>data table notebook</a>'\n",
              "            + ' to learn more about interactive tables.';\n",
              "          element.innerHTML = '';\n",
              "          dataTable['output_type'] = 'display_data';\n",
              "          await google.colab.output.renderOutput(dataTable, element);\n",
              "          const docLink = document.createElement('div');\n",
              "          docLink.innerHTML = docLinkHtml;\n",
              "          element.appendChild(docLink);\n",
              "        }\n",
              "      </script>\n",
              "    </div>\n",
              "  </div>\n",
              "  "
            ]
          },
          "metadata": {},
          "execution_count": 49
        }
      ],
      "source": [
        "df.mode()"
      ]
    },
    {
      "cell_type": "code",
      "execution_count": null,
      "metadata": {
        "colab": {
          "base_uri": "https://localhost:8080/"
        },
        "id": "1ZzuoR95qdWA",
        "outputId": "489b68e2-fcd9-42d4-9d92-23a3896e2a76"
      },
      "outputs": [
        {
          "output_type": "display_data",
          "data": {
            "text/plain": [
              "<Figure size 432x288 with 1 Axes>"
            ],
            "image/png": "[encoded data removed]"
          },
          "metadata": {
            "needs_background": "light"
          }
        }
      ],
      "source": [
        "sns.histplot(df,x = 'Cholesterol', bins = 30,color = 'orange', kde=True, stat='count');"
      ]
    },
    {
      "cell_type": "markdown",
      "metadata": {
        "id": "HG_oaQUlyMsn"
      },
      "source": [
        "## Analysing outliers\n",
        "\n",
        "Outliers - Values that differs significantly from the others observed."
      ]
    },
    {
      "cell_type": "markdown",
      "metadata": {
        "id": "sf1FLeMYyQEJ"
      },
      "source": [
        "Resting BP - Encountered Outliers\n",
        "\n",
        "*   Min = 80\n",
        "*   Max = 200\n",
        "\n",
        "\n"
      ]
    },
    {
      "cell_type": "code",
      "execution_count": null,
      "metadata": {
        "colab": {
          "base_uri": "https://localhost:8080/"
        },
        "id": "vKydl4clq9PE",
        "outputId": "8da184b1-86d2-42ba-9984-228af59b0595"
      },
      "outputs": [
        {
          "output_type": "display_data",
          "data": {
            "text/html": [
              "<html>\n",
              "<head><meta charset=\"utf-8\" /></head>\n",
              "<body>\n",
              "    <div>            <script src=\"https://cdnjs.cloudflare.com/ajax/libs/mathjax/2.7.5/MathJax.js?config=TeX-AMS-MML_SVG\"></script><script type=\"text/javascript\">if (window.MathJax) {MathJax.Hub.Config({SVG: {font: \"STIX-Web\"}});}</script>                <script type=\"text/javascript\">window.PlotlyConfig = {MathJaxConfig: 'local'};</script>\n",
              "        <script src=\"https://cdn.plot.ly/plotly-2.8.3.min.js\"></script>                <div id=\"fccaa875-935b-4460-b2e7-adcbf799fea6\" class=\"plotly-graph-div\" style=\"height:525px; width:100%;\"></div>            <script type=\"text/javascript\">                                    window.PLOTLYENV=window.PLOTLYENV || {};                                    if (document.getElementById(\"fccaa875-935b-4460-b2e7-adcbf799fea6\")) {                    Plotly.newPlot(                        \"fccaa875-935b-4460-b2e7-adcbf799fea6\",                        [{\"alignmentgroup\":\"True\",\"hovertemplate\":\"RestingBP=%{y}<extra></extra>\",\"legendgroup\":\"\",\"marker\":{\"color\":\"#636efa\"},\"name\":\"\",\"notched\":false,\"offsetgroup\":\"\",\"orientation\":\"v\",\"showlegend\":false,\"x0\":\" \",\"xaxis\":\"x\",\"y\":[140,160,130,138,150,120,130,110,140,120,130,136,120,140,115,120,110,120,100,120,100,120,124,150,130,130,124,120,113,125,145,130,125,130,150,125,140,110,120,150,150,130,150,140,120,130,120,140,112,110,130,120,140,130,130,160,120,130,150,112,100,150,140,120,110,120,132,110,160,150,140,130,120,120,140,150,118,140,140,130,110,120,150,160,150,140,170,140,120,140,110,130,120,160,110,130,142,160,120,125,130,130,150,120,118,140,120,150,140,190,130,150,140,140,130,100,120,130,120,140,135,125,110,180,130,120,130,108,120,120,145,110,170,150,130,115,120,120,140,150,160,140,160,140,120,110,120,120,120,130,130,100,130,120,120,155,110,140,130,160,140,128,160,120,140,140,140,140,135,140,120,140,140,140,140,140,140,140,130,130,130,130,140,110,160,160,130,120,120,180,180,170,130,135,125,160,120,150,120,130,110,120,160,100,130,150,120,110,130,125,106,140,130,130,150,170,110,120,140,140,130,160,120,120,120,145,120,92,120,130,130,130,120,112,140,120,120,140,160,160,145,200,160,120,160,120,120,122,130,130,135,120,125,140,145,120,130,150,150,122,140,120,120,130,140,160,130,98,130,130,120,105,140,120,180,180,135,170,180,130,120,150,130,110,140,110,140,120,133,120,110,140,130,115,95,105,145,110,110,110,160,140,125,120,95,120,115,130,115,95,155,125,125,115,80,145,105,140,130,145,125,100,105,115,100,105,110,125,95,130,115,115,100,95,130,120,160,150,140,95,100,110,110,130,120,135,120,115,137,110,120,140,120,130,120,145,115,120,115,105,160,160,155,120,120,200,150,135,140,150,135,150,185,135,125,160,155,160,140,120,160,115,115,110,120,150,145,130,140,160,140,115,130,150,160,135,140,170,165,200,160,130,145,135,110,120,140,115,110,160,150,180,125,125,130,155,140,130,132,142,110,120,150,180,120,160,126,140,110,133,128,120,170,110,126,152,116,120,130,138,128,130,128,130,120,136,130,124,160,122,144,140,120,136,154,120,125,134,104,139,136,122,128,131,134,120,132,152,124,126,138,154,141,131,178,132,110,130,170,126,140,142,120,134,139,110,140,140,136,120,170,130,137,142,142,132,146,160,135,136,130,140,132,158,136,136,106,120,110,136,160,123,112,122,130,150,150,102,96,130,120,144,124,150,130,144,139,131,143,133,143,116,110,125,130,133,150,130,110,138,104,138,170,140,132,132,142,112,139,172,120,144,145,155,150,160,137,137,134,133,132,140,135,144,141,150,130,110,158,128,140,150,160,142,137,139,146,156,145,131,140,122,142,141,180,124,118,140,140,136,100,190,130,160,130,122,133,120,130,130,140,120,155,134,114,160,144,158,134,127,135,122,140,120,130,115,124,128,120,120,130,110,140,150,135,142,140,134,128,112,140,140,110,140,120,130,115,112,132,130,138,120,112,110,128,160,120,170,144,130,140,160,130,122,152,124,130,101,126,140,118,110,160,150,136,128,140,140,130,105,138,120,174,120,150,130,120,150,145,150,140,136,118,108,120,120,156,140,106,142,104,94,120,120,146,120,150,130,110,148,128,178,126,150,140,130,124,110,125,110,120,100,140,120,108,120,130,165,130,124,100,150,140,112,180,110,158,135,120,134,120,200,150,130,120,122,152,160,125,160,120,136,134,117,108,112,140,120,150,142,152,125,118,132,145,138,140,125,192,123,112,110,132,112,112,120,108,130,130,105,140,128,120,178,120,150,130,128,110,180,110,130,138,138,160,140,100,120,118,138,140,150,125,129,120,134,110,102,130,130,132,108,140,160,140,145,108,126,124,135,100,110,140,125,118,125,125,140,160,152,102,105,125,130,170,125,122,128,130,130,135,94,120,120,110,135,150,130,138,135,130,132,150,118,145,118,115,128,130,160,138,120,138,120,180,140,130,140,140,130,110,155,140,145,120,130,112,110,150,160,150,132,140,150,120,130,120,130,110,172,120,140,140,160,128,138,132,128,134,170,146,138,154,130,110,130,128,122,148,114,170,125,130,120,152,132,120,140,124,120,164,140,110,144,130,130,138],\"y0\":\" \",\"yaxis\":\"y\",\"type\":\"box\"}],                        {\"template\":{\"data\":{\"bar\":[{\"error_x\":{\"color\":\"#2a3f5f\"},\"error_y\":{\"color\":\"#2a3f5f\"},\"marker\":{\"line\":{\"color\":\"#E5ECF6\",\"width\":0.5},\"pattern\":{\"fillmode\":\"overlay\",\"size\":10,\"solidity\":0.2}},\"type\":\"bar\"}],\"barpolar\":[{\"marker\":{\"line\":{\"color\":\"#E5ECF6\",\"width\":0.5},\"pattern\":{\"fillmode\":\"overlay\",\"size\":10,\"solidity\":0.2}},\"type\":\"barpolar\"}],\"carpet\":[{\"aaxis\":{\"endlinecolor\":\"#2a3f5f\",\"gridcolor\":\"white\",\"linecolor\":\"white\",\"minorgridcolor\":\"white\",\"startlinecolor\":\"#2a3f5f\"},\"baxis\":{\"endlinecolor\":\"#2a3f5f\",\"gridcolor\":\"white\",\"linecolor\":\"white\",\"minorgridcolor\":\"white\",\"startlinecolor\":\"#2a3f5f\"},\"type\":\"carpet\"}],\"choropleth\":[{\"colorbar\":{\"outlinewidth\":0,\"ticks\":\"\"},\"type\":\"choropleth\"}],\"contour\":[{\"colorbar\":{\"outlinewidth\":0,\"ticks\":\"\"},\"colorscale\":[[0.0,\"#0d0887\"],[0.1111111111111111,\"#46039f\"],[0.2222222222222222,\"#7201a8\"],[0.3333333333333333,\"#9c179e\"],[0.4444444444444444,\"#bd3786\"],[0.5555555555555556,\"#d8576b\"],[0.6666666666666666,\"#ed7953\"],[0.7777777777777778,\"#fb9f3a\"],[0.8888888888888888,\"#fdca26\"],[1.0,\"#f0f921\"]],\"type\":\"contour\"}],\"contourcarpet\":[{\"colorbar\":{\"outlinewidth\":0,\"ticks\":\"\"},\"type\":\"contourcarpet\"}],\"heatmap\":[{\"colorbar\":{\"outlinewidth\":0,\"ticks\":\"\"},\"colorscale\":[[0.0,\"#0d0887\"],[0.1111111111111111,\"#46039f\"],[0.2222222222222222,\"#7201a8\"],[0.3333333333333333,\"#9c179e\"],[0.4444444444444444,\"#bd3786\"],[0.5555555555555556,\"#d8576b\"],[0.6666666666666666,\"#ed7953\"],[0.7777777777777778,\"#fb9f3a\"],[0.8888888888888888,\"#fdca26\"],[1.0,\"#f0f921\"]],\"type\":\"heatmap\"}],\"heatmapgl\":[{\"colorbar\":{\"outlinewidth\":0,\"ticks\":\"\"},\"colorscale\":[[0.0,\"#0d0887\"],[0.1111111111111111,\"#46039f\"],[0.2222222222222222,\"#7201a8\"],[0.3333333333333333,\"#9c179e\"],[0.4444444444444444,\"#bd3786\"],[0.5555555555555556,\"#d8576b\"],[0.6666666666666666,\"#ed7953\"],[0.7777777777777778,\"#fb9f3a\"],[0.8888888888888888,\"#fdca26\"],[1.0,\"#f0f921\"]],\"type\":\"heatmapgl\"}],\"histogram\":[{\"marker\":{\"pattern\":{\"fillmode\":\"overlay\",\"size\":10,\"solidity\":0.2}},\"type\":\"histogram\"}],\"histogram2d\":[{\"colorbar\":{\"outlinewidth\":0,\"ticks\":\"\"},\"colorscale\":[[0.0,\"#0d0887\"],[0.1111111111111111,\"#46039f\"],[0.2222222222222222,\"#7201a8\"],[0.3333333333333333,\"#9c179e\"],[0.4444444444444444,\"#bd3786\"],[0.5555555555555556,\"#d8576b\"],[0.6666666666666666,\"#ed7953\"],[0.7777777777777778,\"#fb9f3a\"],[0.8888888888888888,\"#fdca26\"],[1.0,\"#f0f921\"]],\"type\":\"histogram2d\"}],\"histogram2dcontour\":[{\"colorbar\":{\"outlinewidth\":0,\"ticks\":\"\"},\"colorscale\":[[0.0,\"#0d0887\"],[0.1111111111111111,\"#46039f\"],[0.2222222222222222,\"#7201a8\"],[0.3333333333333333,\"#9c179e\"],[0.4444444444444444,\"#bd3786\"],[0.5555555555555556,\"#d8576b\"],[0.6666666666666666,\"#ed7953\"],[0.7777777777777778,\"#fb9f3a\"],[0.8888888888888888,\"#fdca26\"],[1.0,\"#f0f921\"]],\"type\":\"histogram2dcontour\"}],\"mesh3d\":[{\"colorbar\":{\"outlinewidth\":0,\"ticks\":\"\"},\"type\":\"mesh3d\"}],\"parcoords\":[{\"line\":{\"colorbar\":{\"outlinewidth\":0,\"ticks\":\"\"}},\"type\":\"parcoords\"}],\"pie\":[{\"automargin\":true,\"type\":\"pie\"}],\"scatter\":[{\"marker\":{\"colorbar\":{\"outlinewidth\":0,\"ticks\":\"\"}},\"type\":\"scatter\"}],\"scatter3d\":[{\"line\":{\"colorbar\":{\"outlinewidth\":0,\"ticks\":\"\"}},\"marker\":{\"colorbar\":{\"outlinewidth\":0,\"ticks\":\"\"}},\"type\":\"scatter3d\"}],\"scattercarpet\":[{\"marker\":{\"colorbar\":{\"outlinewidth\":0,\"ticks\":\"\"}},\"type\":\"scattercarpet\"}],\"scattergeo\":[{\"marker\":{\"colorbar\":{\"outlinewidth\":0,\"ticks\":\"\"}},\"type\":\"scattergeo\"}],\"scattergl\":[{\"marker\":{\"colorbar\":{\"outlinewidth\":0,\"ticks\":\"\"}},\"type\":\"scattergl\"}],\"scattermapbox\":[{\"marker\":{\"colorbar\":{\"outlinewidth\":0,\"ticks\":\"\"}},\"type\":\"scattermapbox\"}],\"scatterpolar\":[{\"marker\":{\"colorbar\":{\"outlinewidth\":0,\"ticks\":\"\"}},\"type\":\"scatterpolar\"}],\"scatterpolargl\":[{\"marker\":{\"colorbar\":{\"outlinewidth\":0,\"ticks\":\"\"}},\"type\":\"scatterpolargl\"}],\"scatterternary\":[{\"marker\":{\"colorbar\":{\"outlinewidth\":0,\"ticks\":\"\"}},\"type\":\"scatterternary\"}],\"surface\":[{\"colorbar\":{\"outlinewidth\":0,\"ticks\":\"\"},\"colorscale\":[[0.0,\"#0d0887\"],[0.1111111111111111,\"#46039f\"],[0.2222222222222222,\"#7201a8\"],[0.3333333333333333,\"#9c179e\"],[0.4444444444444444,\"#bd3786\"],[0.5555555555555556,\"#d8576b\"],[0.6666666666666666,\"#ed7953\"],[0.7777777777777778,\"#fb9f3a\"],[0.8888888888888888,\"#fdca26\"],[1.0,\"#f0f921\"]],\"type\":\"surface\"}],\"table\":[{\"cells\":{\"fill\":{\"color\":\"#EBF0F8\"},\"line\":{\"color\":\"white\"}},\"header\":{\"fill\":{\"color\":\"#C8D4E3\"},\"line\":{\"color\":\"white\"}},\"type\":\"table\"}]},\"layout\":{\"annotationdefaults\":{\"arrowcolor\":\"#2a3f5f\",\"arrowhead\":0,\"arrowwidth\":1},\"autotypenumbers\":\"strict\",\"coloraxis\":{\"colorbar\":{\"outlinewidth\":0,\"ticks\":\"\"}},\"colorscale\":{\"diverging\":[[0,\"#8e0152\"],[0.1,\"#c51b7d\"],[0.2,\"#de77ae\"],[0.3,\"#f1b6da\"],[0.4,\"#fde0ef\"],[0.5,\"#f7f7f7\"],[0.6,\"#e6f5d0\"],[0.7,\"#b8e186\"],[0.8,\"#7fbc41\"],[0.9,\"#4d9221\"],[1,\"#276419\"]],\"sequential\":[[0.0,\"#0d0887\"],[0.1111111111111111,\"#46039f\"],[0.2222222222222222,\"#7201a8\"],[0.3333333333333333,\"#9c179e\"],[0.4444444444444444,\"#bd3786\"],[0.5555555555555556,\"#d8576b\"],[0.6666666666666666,\"#ed7953\"],[0.7777777777777778,\"#fb9f3a\"],[0.8888888888888888,\"#fdca26\"],[1.0,\"#f0f921\"]],\"sequentialminus\":[[0.0,\"#0d0887\"],[0.1111111111111111,\"#46039f\"],[0.2222222222222222,\"#7201a8\"],[0.3333333333333333,\"#9c179e\"],[0.4444444444444444,\"#bd3786\"],[0.5555555555555556,\"#d8576b\"],[0.6666666666666666,\"#ed7953\"],[0.7777777777777778,\"#fb9f3a\"],[0.8888888888888888,\"#fdca26\"],[1.0,\"#f0f921\"]]},\"colorway\":[\"#636efa\",\"#EF553B\",\"#00cc96\",\"#ab63fa\",\"#FFA15A\",\"#19d3f3\",\"#FF6692\",\"#B6E880\",\"#FF97FF\",\"#FECB52\"],\"font\":{\"color\":\"#2a3f5f\"},\"geo\":{\"bgcolor\":\"white\",\"lakecolor\":\"white\",\"landcolor\":\"#E5ECF6\",\"showlakes\":true,\"showland\":true,\"subunitcolor\":\"white\"},\"hoverlabel\":{\"align\":\"left\"},\"hovermode\":\"closest\",\"mapbox\":{\"style\":\"light\"},\"paper_bgcolor\":\"white\",\"plot_bgcolor\":\"#E5ECF6\",\"polar\":{\"angularaxis\":{\"gridcolor\":\"white\",\"linecolor\":\"white\",\"ticks\":\"\"},\"bgcolor\":\"#E5ECF6\",\"radialaxis\":{\"gridcolor\":\"white\",\"linecolor\":\"white\",\"ticks\":\"\"}},\"scene\":{\"xaxis\":{\"backgroundcolor\":\"#E5ECF6\",\"gridcolor\":\"white\",\"gridwidth\":2,\"linecolor\":\"white\",\"showbackground\":true,\"ticks\":\"\",\"zerolinecolor\":\"white\"},\"yaxis\":{\"backgroundcolor\":\"#E5ECF6\",\"gridcolor\":\"white\",\"gridwidth\":2,\"linecolor\":\"white\",\"showbackground\":true,\"ticks\":\"\",\"zerolinecolor\":\"white\"},\"zaxis\":{\"backgroundcolor\":\"#E5ECF6\",\"gridcolor\":\"white\",\"gridwidth\":2,\"linecolor\":\"white\",\"showbackground\":true,\"ticks\":\"\",\"zerolinecolor\":\"white\"}},\"shapedefaults\":{\"line\":{\"color\":\"#2a3f5f\"}},\"ternary\":{\"aaxis\":{\"gridcolor\":\"white\",\"linecolor\":\"white\",\"ticks\":\"\"},\"baxis\":{\"gridcolor\":\"white\",\"linecolor\":\"white\",\"ticks\":\"\"},\"bgcolor\":\"#E5ECF6\",\"caxis\":{\"gridcolor\":\"white\",\"linecolor\":\"white\",\"ticks\":\"\"}},\"title\":{\"x\":0.05},\"xaxis\":{\"automargin\":true,\"gridcolor\":\"white\",\"linecolor\":\"white\",\"ticks\":\"\",\"title\":{\"standoff\":15},\"zerolinecolor\":\"white\",\"zerolinewidth\":2},\"yaxis\":{\"automargin\":true,\"gridcolor\":\"white\",\"linecolor\":\"white\",\"ticks\":\"\",\"title\":{\"standoff\":15},\"zerolinecolor\":\"white\",\"zerolinewidth\":2}}},\"xaxis\":{\"anchor\":\"y\",\"domain\":[0.0,1.0]},\"yaxis\":{\"anchor\":\"x\",\"domain\":[0.0,1.0],\"title\":{\"text\":\"RestingBP\"}},\"legend\":{\"tracegroupgap\":0},\"margin\":{\"t\":60},\"boxmode\":\"group\"},                        {\"responsive\": true}                    ).then(function(){\n",
              "                            \n",
              "var gd = document.getElementById('fccaa875-935b-4460-b2e7-adcbf799fea6');\n",
              "var x = new MutationObserver(function (mutations, observer) {{\n",
              "        var display = window.getComputedStyle(gd).display;\n",
              "        if (!display || display === 'none') {{\n",
              "            console.log([gd, 'removed!']);\n",
              "            Plotly.purge(gd);\n",
              "            observer.disconnect();\n",
              "        }}\n",
              "}});\n",
              "\n",
              "// Listen for the removal of the full notebook cells\n",
              "var notebookContainer = gd.closest('#notebook-container');\n",
              "if (notebookContainer) {{\n",
              "    x.observe(notebookContainer, {childList: true});\n",
              "}}\n",
              "\n",
              "// Listen for the clearing of the current output cell\n",
              "var outputEl = gd.closest('.output');\n",
              "if (outputEl) {{\n",
              "    x.observe(outputEl, {childList: true});\n",
              "}}\n",
              "\n",
              "                        })                };                            </script>        </div>\n",
              "</body>\n",
              "</html>"
            ]
          },
          "metadata": {}
        }
      ],
      "source": [
        "px.box(df, y='RestingBP')"
      ]
    },
    {
      "cell_type": "markdown",
      "metadata": {
        "id": "Sh33fT-D0F9I"
      },
      "source": [
        "Cholesterol - Encountered Outliers\n",
        "\n",
        "*   Min = 85\n",
        "*   Max = 603\n"
      ]
    },
    {
      "cell_type": "code",
      "execution_count": null,
      "metadata": {
        "colab": {
          "base_uri": "https://localhost:8080/"
        },
        "id": "NQ6aUKJ1yXsZ",
        "outputId": "08679a44-2d81-4fc6-cabb-f55bf981294c"
      },
      "outputs": [
        {
          "output_type": "display_data",
          "data": {
            "text/html": [
              "<html>\n",
              "<head><meta charset=\"utf-8\" /></head>\n",
              "<body>\n",
              "    <div>            <script src=\"https://cdnjs.cloudflare.com/ajax/libs/mathjax/2.7.5/MathJax.js?config=TeX-AMS-MML_SVG\"></script><script type=\"text/javascript\">if (window.MathJax) {MathJax.Hub.Config({SVG: {font: \"STIX-Web\"}});}</script>                <script type=\"text/javascript\">window.PlotlyConfig = {MathJaxConfig: 'local'};</script>\n",
              "        <script src=\"https://cdn.plot.ly/plotly-2.8.3.min.js\"></script>                <div id=\"6acbb568-9a1e-4d5a-8ff9-1776a2ddee30\" class=\"plotly-graph-div\" style=\"height:525px; width:100%;\"></div>            <script type=\"text/javascript\">                                    window.PLOTLYENV=window.PLOTLYENV || {};                                    if (document.getElementById(\"6acbb568-9a1e-4d5a-8ff9-1776a2ddee30\")) {                    Plotly.newPlot(                        \"6acbb568-9a1e-4d5a-8ff9-1776a2ddee30\",                        [{\"alignmentgroup\":\"True\",\"hovertemplate\":\"Cholesterol=%{y}<extra></extra>\",\"legendgroup\":\"\",\"marker\":{\"color\":\"#636efa\"},\"name\":\"\",\"notched\":false,\"offsetgroup\":\"\",\"orientation\":\"v\",\"showlegend\":false,\"x0\":\" \",\"xaxis\":\"x\",\"y\":[289.0,180.0,283.0,214.0,195.0,339.0,237.0,208.0,207.0,284.0,211.0,164.0,204.0,234.0,211.0,273.0,196.0,201.0,248.0,267.0,223.0,184.0,201.0,288.0,215.0,209.0,260.0,284.0,468.0,188.0,518.0,167.0,224.0,172.0,186.0,254.0,306.0,250.0,177.0,227.0,230.0,294.0,264.0,259.0,175.0,318.0,223.0,216.0,340.0,289.0,233.0,205.0,224.0,245.0,180.0,194.0,270.0,213.0,365.0,342.0,253.0,254.0,224.0,277.0,202.0,260.0,297.0,225.0,246.0,412.0,265.0,215.0,182.0,218.0,268.0,163.0,529.0,167.0,100.0,206.0,277.0,238.0,223.0,196.0,213.0,139.0,263.0,216.0,291.0,229.0,208.0,307.0,210.0,329.0,182.0,263.0,207.0,147.0,85.0,269.0,275.0,179.0,392.0,466.0,186.0,260.0,254.0,214.0,129.0,241.0,188.0,255.0,276.0,297.0,207.0,246.0,282.0,338.0,160.0,156.0,248.0,272.0,240.0,393.0,230.0,246.0,161.0,163.0,230.0,228.0,292.0,202.0,388.0,230.0,294.0,265.0,215.0,241.0,166.0,247.0,331.0,341.0,291.0,243.0,279.0,273.0,198.0,249.0,168.0,603.0,215.0,159.0,275.0,270.0,291.0,342.0,190.0,185.0,290.0,195.0,264.0,212.0,263.0,196.0,225.0,272.0,231.0,238.0,222.0,179.0,243.0,235.0,320.0,187.0,266.0,288.0,216.0,287.0,194.0,238.0,225.0,224.0,404.0,238.0,312.0,211.0,251.0,237.0,328.0,285.0,280.0,209.0,245.0,192.0,184.0,193.0,297.0,268.0,246.0,308.0,249.0,230.0,147.0,219.0,184.0,215.0,308.0,257.0,132.0,216.0,263.0,288.0,276.0,219.0,226.0,237.0,280.0,217.0,196.0,263.0,222.0,303.0,195.0,298.0,256.0,264.0,195.0,117.0,295.0,173.0,315.0,281.0,275.0,250.0,309.0,200.0,336.0,295.0,355.0,193.0,326.0,198.0,292.0,266.0,268.0,171.0,237.0,275.0,219.0,341.0,491.0,260.0,292.0,271.0,248.0,274.0,394.0,160.0,200.0,320.0,275.0,221.0,231.0,126.0,193.0,305.0,298.0,220.0,242.0,235.0,225.0,198.0,201.0,220.0,295.0,213.0,160.0,223.0,347.0,253.0,246.0,222.0,220.0,344.0,358.0,190.0,169.0,181.0,308.0,166.0,211.0,257.0,182.0,244.6353887399464,244.6353887399464,244.6353887399464,244.6353887399464,244.6353887399464,244.6353887399464,244.6353887399464,244.6353887399464,244.6353887399464,244.6353887399464,244.6353887399464,244.6353887399464,244.6353887399464,244.6353887399464,244.6353887399464,244.6353887399464,244.6353887399464,244.6353887399464,244.6353887399464,244.6353887399464,244.6353887399464,244.6353887399464,244.6353887399464,244.6353887399464,244.6353887399464,244.6353887399464,244.6353887399464,244.6353887399464,244.6353887399464,244.6353887399464,244.6353887399464,244.6353887399464,244.6353887399464,244.6353887399464,244.6353887399464,244.6353887399464,244.6353887399464,244.6353887399464,244.6353887399464,244.6353887399464,244.6353887399464,244.6353887399464,244.6353887399464,244.6353887399464,244.6353887399464,244.6353887399464,244.6353887399464,244.6353887399464,244.6353887399464,244.6353887399464,244.6353887399464,244.6353887399464,244.6353887399464,244.6353887399464,244.6353887399464,244.6353887399464,244.6353887399464,244.6353887399464,244.6353887399464,244.6353887399464,244.6353887399464,244.6353887399464,244.6353887399464,244.6353887399464,244.6353887399464,244.6353887399464,244.6353887399464,244.6353887399464,244.6353887399464,244.6353887399464,244.6353887399464,244.6353887399464,244.6353887399464,244.6353887399464,244.6353887399464,244.6353887399464,244.6353887399464,244.6353887399464,244.6353887399464,244.6353887399464,244.6353887399464,244.6353887399464,244.6353887399464,244.6353887399464,244.6353887399464,244.6353887399464,244.6353887399464,244.6353887399464,244.6353887399464,244.6353887399464,244.6353887399464,244.6353887399464,244.6353887399464,244.6353887399464,244.6353887399464,244.6353887399464,244.6353887399464,244.6353887399464,244.6353887399464,244.6353887399464,244.6353887399464,244.6353887399464,244.6353887399464,244.6353887399464,244.6353887399464,244.6353887399464,244.6353887399464,244.6353887399464,244.6353887399464,244.6353887399464,244.6353887399464,244.6353887399464,244.6353887399464,244.6353887399464,244.6353887399464,244.6353887399464,244.6353887399464,244.6353887399464,244.6353887399464,244.6353887399464,244.6353887399464,244.6353887399464,244.6353887399464,260.0,209.0,218.0,228.0,213.0,244.6353887399464,236.0,244.6353887399464,244.6353887399464,267.0,166.0,244.6353887399464,244.6353887399464,244.6353887399464,244.6353887399464,220.0,177.0,236.0,244.6353887399464,244.6353887399464,244.6353887399464,244.6353887399464,244.6353887399464,244.6353887399464,244.6353887399464,244.6353887399464,244.6353887399464,186.0,100.0,228.0,244.6353887399464,171.0,230.0,244.6353887399464,244.6353887399464,281.0,244.6353887399464,203.0,244.6353887399464,244.6353887399464,244.6353887399464,244.6353887399464,244.6353887399464,277.0,244.6353887399464,233.0,244.6353887399464,244.6353887399464,240.0,244.6353887399464,244.6353887399464,153.0,224.0,244.6353887399464,244.6353887399464,244.6353887399464,316.0,244.6353887399464,244.6353887399464,218.0,244.6353887399464,311.0,244.6353887399464,244.6353887399464,244.6353887399464,270.0,244.6353887399464,244.6353887399464,217.0,214.0,214.0,252.0,220.0,214.0,203.0,244.6353887399464,339.0,216.0,276.0,458.0,241.0,384.0,297.0,248.0,308.0,208.0,227.0,210.0,245.0,225.0,240.0,244.6353887399464,198.0,195.0,267.0,161.0,258.0,244.6353887399464,244.6353887399464,195.0,235.0,244.6353887399464,305.0,223.0,282.0,349.0,160.0,160.0,236.0,312.0,283.0,142.0,211.0,218.0,306.0,186.0,252.0,222.0,244.6353887399464,244.6353887399464,258.0,202.0,197.0,204.0,113.0,274.0,192.0,298.0,272.0,220.0,200.0,261.0,181.0,260.0,220.0,221.0,216.0,175.0,219.0,310.0,208.0,232.0,273.0,203.0,182.0,274.0,204.0,270.0,292.0,171.0,221.0,289.0,217.0,223.0,110.0,193.0,123.0,210.0,282.0,170.0,369.0,173.0,289.0,152.0,208.0,216.0,271.0,244.0,285.0,243.0,240.0,219.0,237.0,165.0,213.0,287.0,258.0,256.0,186.0,264.0,185.0,226.0,203.0,207.0,284.0,337.0,310.0,254.0,258.0,254.0,300.0,170.0,310.0,333.0,139.0,223.0,385.0,254.0,322.0,564.0,261.0,263.0,269.0,177.0,256.0,239.0,293.0,407.0,234.0,226.0,235.0,234.0,303.0,149.0,311.0,203.0,211.0,199.0,229.0,245.0,303.0,204.0,288.0,275.0,243.0,295.0,230.0,265.0,229.0,228.0,215.0,326.0,200.0,256.0,207.0,273.0,180.0,222.0,223.0,209.0,233.0,197.0,218.0,211.0,149.0,197.0,246.0,225.0,315.0,205.0,417.0,195.0,234.0,198.0,166.0,178.0,249.0,281.0,126.0,305.0,226.0,240.0,233.0,276.0,261.0,319.0,242.0,243.0,260.0,354.0,245.0,197.0,223.0,309.0,208.0,199.0,209.0,236.0,218.0,198.0,270.0,214.0,201.0,244.0,208.0,270.0,306.0,243.0,221.0,330.0,266.0,206.0,212.0,275.0,302.0,234.0,313.0,244.0,141.0,237.0,269.0,289.0,254.0,274.0,222.0,258.0,177.0,160.0,327.0,235.0,305.0,304.0,295.0,271.0,249.0,288.0,226.0,283.0,188.0,286.0,274.0,360.0,273.0,201.0,267.0,196.0,201.0,230.0,269.0,212.0,226.0,246.0,232.0,177.0,277.0,249.0,210.0,207.0,212.0,271.0,233.0,213.0,283.0,282.0,230.0,167.0,224.0,268.0,250.0,219.0,267.0,303.0,256.0,204.0,217.0,308.0,193.0,228.0,231.0,244.0,262.0,259.0,211.0,325.0,254.0,197.0,236.0,282.0,234.0,254.0,299.0,211.0,182.0,294.0,298.0,231.0,254.0,196.0,240.0,409.0,172.0,265.0,246.0,315.0,184.0,233.0,394.0,269.0,239.0,174.0,309.0,282.0,255.0,250.0,248.0,214.0,239.0,304.0,277.0,300.0,258.0,299.0,289.0,298.0,318.0,240.0,309.0,250.0,288.0,245.0,213.0,216.0,204.0,204.0,252.0,227.0,258.0,220.0,239.0,254.0,168.0,330.0,183.0,203.0,263.0,341.0,283.0,186.0,307.0,219.0,260.0,255.0,231.0,164.0,234.0,177.0,257.0,325.0,274.0,321.0,264.0,268.0,308.0,253.0,248.0,269.0,185.0,282.0,188.0,219.0,290.0,175.0,212.0,302.0,243.0,353.0,335.0,247.0,340.0,206.0,284.0,266.0,229.0,199.0,263.0,294.0,192.0,286.0,216.0,223.0,247.0,204.0,204.0,227.0,278.0,220.0,232.0,197.0,335.0,253.0,205.0,192.0,203.0,318.0,225.0,220.0,221.0,240.0,212.0,342.0,169.0,187.0,197.0,157.0,176.0,241.0,264.0,193.0,131.0,236.0,175.0],\"y0\":\" \",\"yaxis\":\"y\",\"type\":\"box\"}],                        {\"template\":{\"data\":{\"bar\":[{\"error_x\":{\"color\":\"#2a3f5f\"},\"error_y\":{\"color\":\"#2a3f5f\"},\"marker\":{\"line\":{\"color\":\"#E5ECF6\",\"width\":0.5},\"pattern\":{\"fillmode\":\"overlay\",\"size\":10,\"solidity\":0.2}},\"type\":\"bar\"}],\"barpolar\":[{\"marker\":{\"line\":{\"color\":\"#E5ECF6\",\"width\":0.5},\"pattern\":{\"fillmode\":\"overlay\",\"size\":10,\"solidity\":0.2}},\"type\":\"barpolar\"}],\"carpet\":[{\"aaxis\":{\"endlinecolor\":\"#2a3f5f\",\"gridcolor\":\"white\",\"linecolor\":\"white\",\"minorgridcolor\":\"white\",\"startlinecolor\":\"#2a3f5f\"},\"baxis\":{\"endlinecolor\":\"#2a3f5f\",\"gridcolor\":\"white\",\"linecolor\":\"white\",\"minorgridcolor\":\"white\",\"startlinecolor\":\"#2a3f5f\"},\"type\":\"carpet\"}],\"choropleth\":[{\"colorbar\":{\"outlinewidth\":0,\"ticks\":\"\"},\"type\":\"choropleth\"}],\"contour\":[{\"colorbar\":{\"outlinewidth\":0,\"ticks\":\"\"},\"colorscale\":[[0.0,\"#0d0887\"],[0.1111111111111111,\"#46039f\"],[0.2222222222222222,\"#7201a8\"],[0.3333333333333333,\"#9c179e\"],[0.4444444444444444,\"#bd3786\"],[0.5555555555555556,\"#d8576b\"],[0.6666666666666666,\"#ed7953\"],[0.7777777777777778,\"#fb9f3a\"],[0.8888888888888888,\"#fdca26\"],[1.0,\"#f0f921\"]],\"type\":\"contour\"}],\"contourcarpet\":[{\"colorbar\":{\"outlinewidth\":0,\"ticks\":\"\"},\"type\":\"contourcarpet\"}],\"heatmap\":[{\"colorbar\":{\"outlinewidth\":0,\"ticks\":\"\"},\"colorscale\":[[0.0,\"#0d0887\"],[0.1111111111111111,\"#46039f\"],[0.2222222222222222,\"#7201a8\"],[0.3333333333333333,\"#9c179e\"],[0.4444444444444444,\"#bd3786\"],[0.5555555555555556,\"#d8576b\"],[0.6666666666666666,\"#ed7953\"],[0.7777777777777778,\"#fb9f3a\"],[0.8888888888888888,\"#fdca26\"],[1.0,\"#f0f921\"]],\"type\":\"heatmap\"}],\"heatmapgl\":[{\"colorbar\":{\"outlinewidth\":0,\"ticks\":\"\"},\"colorscale\":[[0.0,\"#0d0887\"],[0.1111111111111111,\"#46039f\"],[0.2222222222222222,\"#7201a8\"],[0.3333333333333333,\"#9c179e\"],[0.4444444444444444,\"#bd3786\"],[0.5555555555555556,\"#d8576b\"],[0.6666666666666666,\"#ed7953\"],[0.7777777777777778,\"#fb9f3a\"],[0.8888888888888888,\"#fdca26\"],[1.0,\"#f0f921\"]],\"type\":\"heatmapgl\"}],\"histogram\":[{\"marker\":{\"pattern\":{\"fillmode\":\"overlay\",\"size\":10,\"solidity\":0.2}},\"type\":\"histogram\"}],\"histogram2d\":[{\"colorbar\":{\"outlinewidth\":0,\"ticks\":\"\"},\"colorscale\":[[0.0,\"#0d0887\"],[0.1111111111111111,\"#46039f\"],[0.2222222222222222,\"#7201a8\"],[0.3333333333333333,\"#9c179e\"],[0.4444444444444444,\"#bd3786\"],[0.5555555555555556,\"#d8576b\"],[0.6666666666666666,\"#ed7953\"],[0.7777777777777778,\"#fb9f3a\"],[0.8888888888888888,\"#fdca26\"],[1.0,\"#f0f921\"]],\"type\":\"histogram2d\"}],\"histogram2dcontour\":[{\"colorbar\":{\"outlinewidth\":0,\"ticks\":\"\"},\"colorscale\":[[0.0,\"#0d0887\"],[0.1111111111111111,\"#46039f\"],[0.2222222222222222,\"#7201a8\"],[0.3333333333333333,\"#9c179e\"],[0.4444444444444444,\"#bd3786\"],[0.5555555555555556,\"#d8576b\"],[0.6666666666666666,\"#ed7953\"],[0.7777777777777778,\"#fb9f3a\"],[0.8888888888888888,\"#fdca26\"],[1.0,\"#f0f921\"]],\"type\":\"histogram2dcontour\"}],\"mesh3d\":[{\"colorbar\":{\"outlinewidth\":0,\"ticks\":\"\"},\"type\":\"mesh3d\"}],\"parcoords\":[{\"line\":{\"colorbar\":{\"outlinewidth\":0,\"ticks\":\"\"}},\"type\":\"parcoords\"}],\"pie\":[{\"automargin\":true,\"type\":\"pie\"}],\"scatter\":[{\"marker\":{\"colorbar\":{\"outlinewidth\":0,\"ticks\":\"\"}},\"type\":\"scatter\"}],\"scatter3d\":[{\"line\":{\"colorbar\":{\"outlinewidth\":0,\"ticks\":\"\"}},\"marker\":{\"colorbar\":{\"outlinewidth\":0,\"ticks\":\"\"}},\"type\":\"scatter3d\"}],\"scattercarpet\":[{\"marker\":{\"colorbar\":{\"outlinewidth\":0,\"ticks\":\"\"}},\"type\":\"scattercarpet\"}],\"scattergeo\":[{\"marker\":{\"colorbar\":{\"outlinewidth\":0,\"ticks\":\"\"}},\"type\":\"scattergeo\"}],\"scattergl\":[{\"marker\":{\"colorbar\":{\"outlinewidth\":0,\"ticks\":\"\"}},\"type\":\"scattergl\"}],\"scattermapbox\":[{\"marker\":{\"colorbar\":{\"outlinewidth\":0,\"ticks\":\"\"}},\"type\":\"scattermapbox\"}],\"scatterpolar\":[{\"marker\":{\"colorbar\":{\"outlinewidth\":0,\"ticks\":\"\"}},\"type\":\"scatterpolar\"}],\"scatterpolargl\":[{\"marker\":{\"colorbar\":{\"outlinewidth\":0,\"ticks\":\"\"}},\"type\":\"scatterpolargl\"}],\"scatterternary\":[{\"marker\":{\"colorbar\":{\"outlinewidth\":0,\"ticks\":\"\"}},\"type\":\"scatterternary\"}],\"surface\":[{\"colorbar\":{\"outlinewidth\":0,\"ticks\":\"\"},\"colorscale\":[[0.0,\"#0d0887\"],[0.1111111111111111,\"#46039f\"],[0.2222222222222222,\"#7201a8\"],[0.3333333333333333,\"#9c179e\"],[0.4444444444444444,\"#bd3786\"],[0.5555555555555556,\"#d8576b\"],[0.6666666666666666,\"#ed7953\"],[0.7777777777777778,\"#fb9f3a\"],[0.8888888888888888,\"#fdca26\"],[1.0,\"#f0f921\"]],\"type\":\"surface\"}],\"table\":[{\"cells\":{\"fill\":{\"color\":\"#EBF0F8\"},\"line\":{\"color\":\"white\"}},\"header\":{\"fill\":{\"color\":\"#C8D4E3\"},\"line\":{\"color\":\"white\"}},\"type\":\"table\"}]},\"layout\":{\"annotationdefaults\":{\"arrowcolor\":\"#2a3f5f\",\"arrowhead\":0,\"arrowwidth\":1},\"autotypenumbers\":\"strict\",\"coloraxis\":{\"colorbar\":{\"outlinewidth\":0,\"ticks\":\"\"}},\"colorscale\":{\"diverging\":[[0,\"#8e0152\"],[0.1,\"#c51b7d\"],[0.2,\"#de77ae\"],[0.3,\"#f1b6da\"],[0.4,\"#fde0ef\"],[0.5,\"#f7f7f7\"],[0.6,\"#e6f5d0\"],[0.7,\"#b8e186\"],[0.8,\"#7fbc41\"],[0.9,\"#4d9221\"],[1,\"#276419\"]],\"sequential\":[[0.0,\"#0d0887\"],[0.1111111111111111,\"#46039f\"],[0.2222222222222222,\"#7201a8\"],[0.3333333333333333,\"#9c179e\"],[0.4444444444444444,\"#bd3786\"],[0.5555555555555556,\"#d8576b\"],[0.6666666666666666,\"#ed7953\"],[0.7777777777777778,\"#fb9f3a\"],[0.8888888888888888,\"#fdca26\"],[1.0,\"#f0f921\"]],\"sequentialminus\":[[0.0,\"#0d0887\"],[0.1111111111111111,\"#46039f\"],[0.2222222222222222,\"#7201a8\"],[0.3333333333333333,\"#9c179e\"],[0.4444444444444444,\"#bd3786\"],[0.5555555555555556,\"#d8576b\"],[0.6666666666666666,\"#ed7953\"],[0.7777777777777778,\"#fb9f3a\"],[0.8888888888888888,\"#fdca26\"],[1.0,\"#f0f921\"]]},\"colorway\":[\"#636efa\",\"#EF553B\",\"#00cc96\",\"#ab63fa\",\"#FFA15A\",\"#19d3f3\",\"#FF6692\",\"#B6E880\",\"#FF97FF\",\"#FECB52\"],\"font\":{\"color\":\"#2a3f5f\"},\"geo\":{\"bgcolor\":\"white\",\"lakecolor\":\"white\",\"landcolor\":\"#E5ECF6\",\"showlakes\":true,\"showland\":true,\"subunitcolor\":\"white\"},\"hoverlabel\":{\"align\":\"left\"},\"hovermode\":\"closest\",\"mapbox\":{\"style\":\"light\"},\"paper_bgcolor\":\"white\",\"plot_bgcolor\":\"#E5ECF6\",\"polar\":{\"angularaxis\":{\"gridcolor\":\"white\",\"linecolor\":\"white\",\"ticks\":\"\"},\"bgcolor\":\"#E5ECF6\",\"radialaxis\":{\"gridcolor\":\"white\",\"linecolor\":\"white\",\"ticks\":\"\"}},\"scene\":{\"xaxis\":{\"backgroundcolor\":\"#E5ECF6\",\"gridcolor\":\"white\",\"gridwidth\":2,\"linecolor\":\"white\",\"showbackground\":true,\"ticks\":\"\",\"zerolinecolor\":\"white\"},\"yaxis\":{\"backgroundcolor\":\"#E5ECF6\",\"gridcolor\":\"white\",\"gridwidth\":2,\"linecolor\":\"white\",\"showbackground\":true,\"ticks\":\"\",\"zerolinecolor\":\"white\"},\"zaxis\":{\"backgroundcolor\":\"#E5ECF6\",\"gridcolor\":\"white\",\"gridwidth\":2,\"linecolor\":\"white\",\"showbackground\":true,\"ticks\":\"\",\"zerolinecolor\":\"white\"}},\"shapedefaults\":{\"line\":{\"color\":\"#2a3f5f\"}},\"ternary\":{\"aaxis\":{\"gridcolor\":\"white\",\"linecolor\":\"white\",\"ticks\":\"\"},\"baxis\":{\"gridcolor\":\"white\",\"linecolor\":\"white\",\"ticks\":\"\"},\"bgcolor\":\"#E5ECF6\",\"caxis\":{\"gridcolor\":\"white\",\"linecolor\":\"white\",\"ticks\":\"\"}},\"title\":{\"x\":0.05},\"xaxis\":{\"automargin\":true,\"gridcolor\":\"white\",\"linecolor\":\"white\",\"ticks\":\"\",\"title\":{\"standoff\":15},\"zerolinecolor\":\"white\",\"zerolinewidth\":2},\"yaxis\":{\"automargin\":true,\"gridcolor\":\"white\",\"linecolor\":\"white\",\"ticks\":\"\",\"title\":{\"standoff\":15},\"zerolinecolor\":\"white\",\"zerolinewidth\":2}}},\"xaxis\":{\"anchor\":\"y\",\"domain\":[0.0,1.0]},\"yaxis\":{\"anchor\":\"x\",\"domain\":[0.0,1.0],\"title\":{\"text\":\"Cholesterol\"}},\"legend\":{\"tracegroupgap\":0},\"margin\":{\"t\":60},\"boxmode\":\"group\"},                        {\"responsive\": true}                    ).then(function(){\n",
              "                            \n",
              "var gd = document.getElementById('6acbb568-9a1e-4d5a-8ff9-1776a2ddee30');\n",
              "var x = new MutationObserver(function (mutations, observer) {{\n",
              "        var display = window.getComputedStyle(gd).display;\n",
              "        if (!display || display === 'none') {{\n",
              "            console.log([gd, 'removed!']);\n",
              "            Plotly.purge(gd);\n",
              "            observer.disconnect();\n",
              "        }}\n",
              "}});\n",
              "\n",
              "// Listen for the removal of the full notebook cells\n",
              "var notebookContainer = gd.closest('#notebook-container');\n",
              "if (notebookContainer) {{\n",
              "    x.observe(notebookContainer, {childList: true});\n",
              "}}\n",
              "\n",
              "// Listen for the clearing of the current output cell\n",
              "var outputEl = gd.closest('.output');\n",
              "if (outputEl) {{\n",
              "    x.observe(outputEl, {childList: true});\n",
              "}}\n",
              "\n",
              "                        })                };                            </script>        </div>\n",
              "</body>\n",
              "</html>"
            ]
          },
          "metadata": {}
        }
      ],
      "source": [
        "px.box(df, y='Cholesterol')"
      ]
    },
    {
      "cell_type": "markdown",
      "metadata": {
        "id": "jru1Bymc0LOj"
      },
      "source": [
        "Max HR - Encountered Outliers\n",
        "\n",
        "*   Min = 60, 63"
      ]
    },
    {
      "cell_type": "code",
      "execution_count": null,
      "metadata": {
        "colab": {
          "base_uri": "https://localhost:8080/"
        },
        "id": "WSM8EPAO0BXU",
        "outputId": "cf5a48b6-be3f-4f30-a114-05a281b1e926"
      },
      "outputs": [
        {
          "output_type": "display_data",
          "data": {
            "text/html": [
              "<html>\n",
              "<head><meta charset=\"utf-8\" /></head>\n",
              "<body>\n",
              "    <div>            <script src=\"https://cdnjs.cloudflare.com/ajax/libs/mathjax/2.7.5/MathJax.js?config=TeX-AMS-MML_SVG\"></script><script type=\"text/javascript\">if (window.MathJax) {MathJax.Hub.Config({SVG: {font: \"STIX-Web\"}});}</script>                <script type=\"text/javascript\">window.PlotlyConfig = {MathJaxConfig: 'local'};</script>\n",
              "        <script src=\"https://cdn.plot.ly/plotly-2.8.3.min.js\"></script>                <div id=\"7385cca7-0301-4147-9167-efc179b246b1\" class=\"plotly-graph-div\" style=\"height:525px; width:100%;\"></div>            <script type=\"text/javascript\">                                    window.PLOTLYENV=window.PLOTLYENV || {};                                    if (document.getElementById(\"7385cca7-0301-4147-9167-efc179b246b1\")) {                    Plotly.newPlot(                        \"7385cca7-0301-4147-9167-efc179b246b1\",                        [{\"alignmentgroup\":\"True\",\"hovertemplate\":\"MaxHR=%{y}<extra></extra>\",\"legendgroup\":\"\",\"marker\":{\"color\":\"#636efa\"},\"name\":\"\",\"notched\":false,\"offsetgroup\":\"\",\"orientation\":\"v\",\"showlegend\":false,\"x0\":\" \",\"xaxis\":\"x\",\"y\":[172,156,98,108,122,170,170,142,130,120,142,99,145,140,137,150,166,165,125,160,142,142,164,150,138,178,112,118,127,145,130,114,122,130,154,155,87,142,148,130,130,100,168,170,120,120,168,170,184,170,121,98,122,150,140,170,153,140,134,96,174,175,144,125,145,130,144,184,82,170,145,135,150,115,128,116,130,150,138,170,160,154,115,165,125,94,112,142,155,110,160,140,148,92,180,140,138,160,140,144,115,100,130,152,124,140,110,168,135,106,124,92,125,150,135,150,170,130,185,180,170,139,140,110,150,110,190,175,140,152,130,150,122,124,120,175,175,146,118,130,94,125,158,155,150,132,155,176,160,125,120,100,150,140,160,150,150,130,100,130,119,96,174,150,140,175,140,118,100,160,160,188,162,172,134,135,105,150,150,90,120,150,124,140,130,92,110,138,110,120,120,116,160,110,180,116,132,136,116,98,150,150,146,150,100,140,180,140,185,140,110,140,128,164,98,170,150,137,150,170,112,150,125,185,137,150,140,134,170,184,158,167,129,142,140,160,118,136,99,102,155,142,143,118,103,137,150,150,130,120,135,115,115,152,96,130,150,172,120,155,165,138,115,125,145,175,110,150,91,145,140,165,130,134,180,100,150,126,126,155,135,122,160,160,170,120,140,132,156,180,138,135,148,93,127,110,139,131,92,149,149,150,120,123,126,127,155,120,138,182,154,110,176,154,141,123,148,121,77,136,175,109,166,128,133,128,138,119,82,130,143,82,179,144,170,134,114,154,149,145,122,114,113,120,104,130,115,128,104,125,120,140,100,100,92,125,113,95,128,115,72,124,99,148,97,140,117,120,120,86,63,108,98,115,105,121,118,122,157,156,99,120,145,156,155,105,99,135,83,145,60,92,115,120,98,150,143,105,122,70,110,163,67,128,120,130,100,72,94,122,78,150,103,98,110,90,112,127,140,149,99,120,105,140,141,157,140,117,120,120,148,86,84,125,120,118,124,106,111,116,180,129,125,140,120,124,117,110,105,110,122,118,133,123,131,80,165,86,111,118,84,117,107,128,160,125,130,97,161,106,130,140,122,130,120,139,108,148,123,110,118,125,106,112,128,180,144,135,140,102,108,145,127,110,140,69,148,130,130,140,138,140,138,112,131,112,80,150,110,126,88,153,150,120,160,132,120,110,121,128,135,120,117,150,144,113,135,127,109,128,115,102,140,135,122,119,130,112,100,122,120,105,129,120,139,162,100,140,135,73,86,108,116,160,118,112,122,124,102,137,141,154,126,160,115,128,115,105,110,119,109,135,130,112,126,120,110,119,110,130,159,84,126,116,120,122,165,122,94,133,110,150,130,113,140,100,136,127,98,96,123,98,112,151,96,108,128,138,126,154,137,100,135,93,109,160,141,105,121,140,142,142,170,154,161,111,180,145,159,125,120,155,144,178,129,180,181,143,159,139,152,157,165,130,150,138,170,140,126,150,138,125,150,186,181,163,179,156,134,165,126,177,120,114,125,184,157,179,175,168,125,96,143,103,173,142,169,171,150,112,186,152,149,152,140,163,143,116,142,147,148,179,173,178,105,130,111,168,126,178,140,145,163,128,164,169,109,108,168,118,151,156,133,162,175,71,163,124,147,166,143,157,162,138,117,153,161,170,162,162,144,133,114,103,139,116,88,151,152,163,99,169,158,160,169,132,178,96,165,160,172,144,192,168,132,182,163,125,195,95,160,114,173,172,179,158,167,122,149,172,111,170,162,165,182,154,155,130,161,154,159,152,152,174,131,146,125,115,174,106,122,147,163,163,194,150,158,122,173,162,105,147,157,112,160,125,156,156,175,161,122,158,151,162,151,171,141,173,145,178,160,154,131,187,159,166,165,131,202,172,172,154,147,170,126,127,174,132,182,132,97,136,162,190,146,140,185,161,146,145,160,120,156,172,150,182,143,160,142,144,158,148,155,142,113,188,153,123,157,162,137,132,158,171,172,132,160,171,168,162,173,153,148,108,115,169,143,156,162,155,152,152,164,131,143,179,130,174,161,140,146,144,163,169,150,166,144,144,136,182,90,123,132,141,115,174,173],\"y0\":\" \",\"yaxis\":\"y\",\"type\":\"box\"}],                        {\"template\":{\"data\":{\"bar\":[{\"error_x\":{\"color\":\"#2a3f5f\"},\"error_y\":{\"color\":\"#2a3f5f\"},\"marker\":{\"line\":{\"color\":\"#E5ECF6\",\"width\":0.5},\"pattern\":{\"fillmode\":\"overlay\",\"size\":10,\"solidity\":0.2}},\"type\":\"bar\"}],\"barpolar\":[{\"marker\":{\"line\":{\"color\":\"#E5ECF6\",\"width\":0.5},\"pattern\":{\"fillmode\":\"overlay\",\"size\":10,\"solidity\":0.2}},\"type\":\"barpolar\"}],\"carpet\":[{\"aaxis\":{\"endlinecolor\":\"#2a3f5f\",\"gridcolor\":\"white\",\"linecolor\":\"white\",\"minorgridcolor\":\"white\",\"startlinecolor\":\"#2a3f5f\"},\"baxis\":{\"endlinecolor\":\"#2a3f5f\",\"gridcolor\":\"white\",\"linecolor\":\"white\",\"minorgridcolor\":\"white\",\"startlinecolor\":\"#2a3f5f\"},\"type\":\"carpet\"}],\"choropleth\":[{\"colorbar\":{\"outlinewidth\":0,\"ticks\":\"\"},\"type\":\"choropleth\"}],\"contour\":[{\"colorbar\":{\"outlinewidth\":0,\"ticks\":\"\"},\"colorscale\":[[0.0,\"#0d0887\"],[0.1111111111111111,\"#46039f\"],[0.2222222222222222,\"#7201a8\"],[0.3333333333333333,\"#9c179e\"],[0.4444444444444444,\"#bd3786\"],[0.5555555555555556,\"#d8576b\"],[0.6666666666666666,\"#ed7953\"],[0.7777777777777778,\"#fb9f3a\"],[0.8888888888888888,\"#fdca26\"],[1.0,\"#f0f921\"]],\"type\":\"contour\"}],\"contourcarpet\":[{\"colorbar\":{\"outlinewidth\":0,\"ticks\":\"\"},\"type\":\"contourcarpet\"}],\"heatmap\":[{\"colorbar\":{\"outlinewidth\":0,\"ticks\":\"\"},\"colorscale\":[[0.0,\"#0d0887\"],[0.1111111111111111,\"#46039f\"],[0.2222222222222222,\"#7201a8\"],[0.3333333333333333,\"#9c179e\"],[0.4444444444444444,\"#bd3786\"],[0.5555555555555556,\"#d8576b\"],[0.6666666666666666,\"#ed7953\"],[0.7777777777777778,\"#fb9f3a\"],[0.8888888888888888,\"#fdca26\"],[1.0,\"#f0f921\"]],\"type\":\"heatmap\"}],\"heatmapgl\":[{\"colorbar\":{\"outlinewidth\":0,\"ticks\":\"\"},\"colorscale\":[[0.0,\"#0d0887\"],[0.1111111111111111,\"#46039f\"],[0.2222222222222222,\"#7201a8\"],[0.3333333333333333,\"#9c179e\"],[0.4444444444444444,\"#bd3786\"],[0.5555555555555556,\"#d8576b\"],[0.6666666666666666,\"#ed7953\"],[0.7777777777777778,\"#fb9f3a\"],[0.8888888888888888,\"#fdca26\"],[1.0,\"#f0f921\"]],\"type\":\"heatmapgl\"}],\"histogram\":[{\"marker\":{\"pattern\":{\"fillmode\":\"overlay\",\"size\":10,\"solidity\":0.2}},\"type\":\"histogram\"}],\"histogram2d\":[{\"colorbar\":{\"outlinewidth\":0,\"ticks\":\"\"},\"colorscale\":[[0.0,\"#0d0887\"],[0.1111111111111111,\"#46039f\"],[0.2222222222222222,\"#7201a8\"],[0.3333333333333333,\"#9c179e\"],[0.4444444444444444,\"#bd3786\"],[0.5555555555555556,\"#d8576b\"],[0.6666666666666666,\"#ed7953\"],[0.7777777777777778,\"#fb9f3a\"],[0.8888888888888888,\"#fdca26\"],[1.0,\"#f0f921\"]],\"type\":\"histogram2d\"}],\"histogram2dcontour\":[{\"colorbar\":{\"outlinewidth\":0,\"ticks\":\"\"},\"colorscale\":[[0.0,\"#0d0887\"],[0.1111111111111111,\"#46039f\"],[0.2222222222222222,\"#7201a8\"],[0.3333333333333333,\"#9c179e\"],[0.4444444444444444,\"#bd3786\"],[0.5555555555555556,\"#d8576b\"],[0.6666666666666666,\"#ed7953\"],[0.7777777777777778,\"#fb9f3a\"],[0.8888888888888888,\"#fdca26\"],[1.0,\"#f0f921\"]],\"type\":\"histogram2dcontour\"}],\"mesh3d\":[{\"colorbar\":{\"outlinewidth\":0,\"ticks\":\"\"},\"type\":\"mesh3d\"}],\"parcoords\":[{\"line\":{\"colorbar\":{\"outlinewidth\":0,\"ticks\":\"\"}},\"type\":\"parcoords\"}],\"pie\":[{\"automargin\":true,\"type\":\"pie\"}],\"scatter\":[{\"marker\":{\"colorbar\":{\"outlinewidth\":0,\"ticks\":\"\"}},\"type\":\"scatter\"}],\"scatter3d\":[{\"line\":{\"colorbar\":{\"outlinewidth\":0,\"ticks\":\"\"}},\"marker\":{\"colorbar\":{\"outlinewidth\":0,\"ticks\":\"\"}},\"type\":\"scatter3d\"}],\"scattercarpet\":[{\"marker\":{\"colorbar\":{\"outlinewidth\":0,\"ticks\":\"\"}},\"type\":\"scattercarpet\"}],\"scattergeo\":[{\"marker\":{\"colorbar\":{\"outlinewidth\":0,\"ticks\":\"\"}},\"type\":\"scattergeo\"}],\"scattergl\":[{\"marker\":{\"colorbar\":{\"outlinewidth\":0,\"ticks\":\"\"}},\"type\":\"scattergl\"}],\"scattermapbox\":[{\"marker\":{\"colorbar\":{\"outlinewidth\":0,\"ticks\":\"\"}},\"type\":\"scattermapbox\"}],\"scatterpolar\":[{\"marker\":{\"colorbar\":{\"outlinewidth\":0,\"ticks\":\"\"}},\"type\":\"scatterpolar\"}],\"scatterpolargl\":[{\"marker\":{\"colorbar\":{\"outlinewidth\":0,\"ticks\":\"\"}},\"type\":\"scatterpolargl\"}],\"scatterternary\":[{\"marker\":{\"colorbar\":{\"outlinewidth\":0,\"ticks\":\"\"}},\"type\":\"scatterternary\"}],\"surface\":[{\"colorbar\":{\"outlinewidth\":0,\"ticks\":\"\"},\"colorscale\":[[0.0,\"#0d0887\"],[0.1111111111111111,\"#46039f\"],[0.2222222222222222,\"#7201a8\"],[0.3333333333333333,\"#9c179e\"],[0.4444444444444444,\"#bd3786\"],[0.5555555555555556,\"#d8576b\"],[0.6666666666666666,\"#ed7953\"],[0.7777777777777778,\"#fb9f3a\"],[0.8888888888888888,\"#fdca26\"],[1.0,\"#f0f921\"]],\"type\":\"surface\"}],\"table\":[{\"cells\":{\"fill\":{\"color\":\"#EBF0F8\"},\"line\":{\"color\":\"white\"}},\"header\":{\"fill\":{\"color\":\"#C8D4E3\"},\"line\":{\"color\":\"white\"}},\"type\":\"table\"}]},\"layout\":{\"annotationdefaults\":{\"arrowcolor\":\"#2a3f5f\",\"arrowhead\":0,\"arrowwidth\":1},\"autotypenumbers\":\"strict\",\"coloraxis\":{\"colorbar\":{\"outlinewidth\":0,\"ticks\":\"\"}},\"colorscale\":{\"diverging\":[[0,\"#8e0152\"],[0.1,\"#c51b7d\"],[0.2,\"#de77ae\"],[0.3,\"#f1b6da\"],[0.4,\"#fde0ef\"],[0.5,\"#f7f7f7\"],[0.6,\"#e6f5d0\"],[0.7,\"#b8e186\"],[0.8,\"#7fbc41\"],[0.9,\"#4d9221\"],[1,\"#276419\"]],\"sequential\":[[0.0,\"#0d0887\"],[0.1111111111111111,\"#46039f\"],[0.2222222222222222,\"#7201a8\"],[0.3333333333333333,\"#9c179e\"],[0.4444444444444444,\"#bd3786\"],[0.5555555555555556,\"#d8576b\"],[0.6666666666666666,\"#ed7953\"],[0.7777777777777778,\"#fb9f3a\"],[0.8888888888888888,\"#fdca26\"],[1.0,\"#f0f921\"]],\"sequentialminus\":[[0.0,\"#0d0887\"],[0.1111111111111111,\"#46039f\"],[0.2222222222222222,\"#7201a8\"],[0.3333333333333333,\"#9c179e\"],[0.4444444444444444,\"#bd3786\"],[0.5555555555555556,\"#d8576b\"],[0.6666666666666666,\"#ed7953\"],[0.7777777777777778,\"#fb9f3a\"],[0.8888888888888888,\"#fdca26\"],[1.0,\"#f0f921\"]]},\"colorway\":[\"#636efa\",\"#EF553B\",\"#00cc96\",\"#ab63fa\",\"#FFA15A\",\"#19d3f3\",\"#FF6692\",\"#B6E880\",\"#FF97FF\",\"#FECB52\"],\"font\":{\"color\":\"#2a3f5f\"},\"geo\":{\"bgcolor\":\"white\",\"lakecolor\":\"white\",\"landcolor\":\"#E5ECF6\",\"showlakes\":true,\"showland\":true,\"subunitcolor\":\"white\"},\"hoverlabel\":{\"align\":\"left\"},\"hovermode\":\"closest\",\"mapbox\":{\"style\":\"light\"},\"paper_bgcolor\":\"white\",\"plot_bgcolor\":\"#E5ECF6\",\"polar\":{\"angularaxis\":{\"gridcolor\":\"white\",\"linecolor\":\"white\",\"ticks\":\"\"},\"bgcolor\":\"#E5ECF6\",\"radialaxis\":{\"gridcolor\":\"white\",\"linecolor\":\"white\",\"ticks\":\"\"}},\"scene\":{\"xaxis\":{\"backgroundcolor\":\"#E5ECF6\",\"gridcolor\":\"white\",\"gridwidth\":2,\"linecolor\":\"white\",\"showbackground\":true,\"ticks\":\"\",\"zerolinecolor\":\"white\"},\"yaxis\":{\"backgroundcolor\":\"#E5ECF6\",\"gridcolor\":\"white\",\"gridwidth\":2,\"linecolor\":\"white\",\"showbackground\":true,\"ticks\":\"\",\"zerolinecolor\":\"white\"},\"zaxis\":{\"backgroundcolor\":\"#E5ECF6\",\"gridcolor\":\"white\",\"gridwidth\":2,\"linecolor\":\"white\",\"showbackground\":true,\"ticks\":\"\",\"zerolinecolor\":\"white\"}},\"shapedefaults\":{\"line\":{\"color\":\"#2a3f5f\"}},\"ternary\":{\"aaxis\":{\"gridcolor\":\"white\",\"linecolor\":\"white\",\"ticks\":\"\"},\"baxis\":{\"gridcolor\":\"white\",\"linecolor\":\"white\",\"ticks\":\"\"},\"bgcolor\":\"#E5ECF6\",\"caxis\":{\"gridcolor\":\"white\",\"linecolor\":\"white\",\"ticks\":\"\"}},\"title\":{\"x\":0.05},\"xaxis\":{\"automargin\":true,\"gridcolor\":\"white\",\"linecolor\":\"white\",\"ticks\":\"\",\"title\":{\"standoff\":15},\"zerolinecolor\":\"white\",\"zerolinewidth\":2},\"yaxis\":{\"automargin\":true,\"gridcolor\":\"white\",\"linecolor\":\"white\",\"ticks\":\"\",\"title\":{\"standoff\":15},\"zerolinecolor\":\"white\",\"zerolinewidth\":2}}},\"xaxis\":{\"anchor\":\"y\",\"domain\":[0.0,1.0]},\"yaxis\":{\"anchor\":\"x\",\"domain\":[0.0,1.0],\"title\":{\"text\":\"MaxHR\"}},\"legend\":{\"tracegroupgap\":0},\"margin\":{\"t\":60},\"boxmode\":\"group\"},                        {\"responsive\": true}                    ).then(function(){\n",
              "                            \n",
              "var gd = document.getElementById('7385cca7-0301-4147-9167-efc179b246b1');\n",
              "var x = new MutationObserver(function (mutations, observer) {{\n",
              "        var display = window.getComputedStyle(gd).display;\n",
              "        if (!display || display === 'none') {{\n",
              "            console.log([gd, 'removed!']);\n",
              "            Plotly.purge(gd);\n",
              "            observer.disconnect();\n",
              "        }}\n",
              "}});\n",
              "\n",
              "// Listen for the removal of the full notebook cells\n",
              "var notebookContainer = gd.closest('#notebook-container');\n",
              "if (notebookContainer) {{\n",
              "    x.observe(notebookContainer, {childList: true});\n",
              "}}\n",
              "\n",
              "// Listen for the clearing of the current output cell\n",
              "var outputEl = gd.closest('.output');\n",
              "if (outputEl) {{\n",
              "    x.observe(outputEl, {childList: true});\n",
              "}}\n",
              "\n",
              "                        })                };                            </script>        </div>\n",
              "</body>\n",
              "</html>"
            ]
          },
          "metadata": {}
        }
      ],
      "source": [
        "px.box(df, y='MaxHR')"
      ]
    },
    {
      "cell_type": "markdown",
      "metadata": {
        "id": "ujxWsiHU4XEi"
      },
      "source": [
        "## Pre-processing\n",
        "\n",
        "Variable subtitle\n",
        "\n",
        "\n",
        "*   var forecasters = var df with 'LabelEncoder' applied\n",
        "*   var sec_forecasters = var forecasters with 'OneHotEncoder' applied\n",
        "\n",
        "*   third_forecasters = var sec_forecasters turned into a dataframe\n",
        "*   third_forecasters = var third_forecasters with 'StandardScaler' applied\n",
        "\n",
        "\n",
        "\n",
        "\n",
        "\n",
        "\n",
        "\n",
        "\n",
        "\n"
      ]
    },
    {
      "cell_type": "markdown",
      "metadata": {
        "id": "jLoXg4e15c8g"
      },
      "source": [
        "Turning nominal categorical variables into orginal categorical variables with ***sklearn.preprocessing - LabelEncoder***"
      ]
    },
    {
      "cell_type": "code",
      "execution_count": null,
      "metadata": {
        "colab": {
          "base_uri": "https://localhost:8080/"
        },
        "id": "xqeI3uyT5rKh",
        "outputId": "ecd98a6d-9d60-4847-b0f6-33dd38165c2c"
      },
      "outputs": [
        {
          "output_type": "execute_result",
          "data": {
            "text/plain": [
              "   Age Sex ChestPainType  RestingBP  Cholesterol  FastingBS RestingECG  MaxHR  \\\n",
              "0   40   M           ATA        140        289.0          0     Normal    172   \n",
              "1   49   F           NAP        160        180.0          0     Normal    156   \n",
              "2   37   M           ATA        130        283.0          0         ST     98   \n",
              "3   48   F           ASY        138        214.0          0     Normal    108   \n",
              "4   54   M           NAP        150        195.0          0     Normal    122   \n",
              "\n",
              "  ExerciseAngina  Oldpeak ST_Slope  HeartDisease  \n",
              "0              N      0.0       Up             0  \n",
              "1              N      1.0     Flat             1  \n",
              "2              N      0.0       Up             0  \n",
              "3              Y      1.5     Flat             1  \n",
              "4              N      0.0       Up             0  "
            ],
            "text/html": [
              "\n",
              "  <div id=\"df-efae95b8-d17b-415c-92ce-7aa323f5300d\">\n",
              "    <div class=\"colab-df-container\">\n",
              "      <div>\n",
              "<style scoped>\n",
              "    .dataframe tbody tr th:only-of-type {\n",
              "        vertical-align: middle;\n",
              "    }\n",
              "\n",
              "    .dataframe tbody tr th {\n",
              "        vertical-align: top;\n",
              "    }\n",
              "\n",
              "    .dataframe thead th {\n",
              "        text-align: right;\n",
              "    }\n",
              "</style>\n",
              "<table border=\"1\" class=\"dataframe\">\n",
              "  <thead>\n",
              "    <tr style=\"text-align: right;\">\n",
              "      <th></th>\n",
              "      <th>Age</th>\n",
              "      <th>Sex</th>\n",
              "      <th>ChestPainType</th>\n",
              "      <th>RestingBP</th>\n",
              "      <th>Cholesterol</th>\n",
              "      <th>FastingBS</th>\n",
              "      <th>RestingECG</th>\n",
              "      <th>MaxHR</th>\n",
              "      <th>ExerciseAngina</th>\n",
              "      <th>Oldpeak</th>\n",
              "      <th>ST_Slope</th>\n",
              "      <th>HeartDisease</th>\n",
              "    </tr>\n",
              "  </thead>\n",
              "  <tbody>\n",
              "    <tr>\n",
              "      <th>0</th>\n",
              "      <td>40</td>\n",
              "      <td>M</td>\n",
              "      <td>ATA</td>\n",
              "      <td>140</td>\n",
              "      <td>289.0</td>\n",
              "      <td>0</td>\n",
              "      <td>Normal</td>\n",
              "      <td>172</td>\n",
              "      <td>N</td>\n",
              "      <td>0.0</td>\n",
              "      <td>Up</td>\n",
              "      <td>0</td>\n",
              "    </tr>\n",
              "    <tr>\n",
              "      <th>1</th>\n",
              "      <td>49</td>\n",
              "      <td>F</td>\n",
              "      <td>NAP</td>\n",
              "      <td>160</td>\n",
              "      <td>180.0</td>\n",
              "      <td>0</td>\n",
              "      <td>Normal</td>\n",
              "      <td>156</td>\n",
              "      <td>N</td>\n",
              "      <td>1.0</td>\n",
              "      <td>Flat</td>\n",
              "      <td>1</td>\n",
              "    </tr>\n",
              "    <tr>\n",
              "      <th>2</th>\n",
              "      <td>37</td>\n",
              "      <td>M</td>\n",
              "      <td>ATA</td>\n",
              "      <td>130</td>\n",
              "      <td>283.0</td>\n",
              "      <td>0</td>\n",
              "      <td>ST</td>\n",
              "      <td>98</td>\n",
              "      <td>N</td>\n",
              "      <td>0.0</td>\n",
              "      <td>Up</td>\n",
              "      <td>0</td>\n",
              "    </tr>\n",
              "    <tr>\n",
              "      <th>3</th>\n",
              "      <td>48</td>\n",
              "      <td>F</td>\n",
              "      <td>ASY</td>\n",
              "      <td>138</td>\n",
              "      <td>214.0</td>\n",
              "      <td>0</td>\n",
              "      <td>Normal</td>\n",
              "      <td>108</td>\n",
              "      <td>Y</td>\n",
              "      <td>1.5</td>\n",
              "      <td>Flat</td>\n",
              "      <td>1</td>\n",
              "    </tr>\n",
              "    <tr>\n",
              "      <th>4</th>\n",
              "      <td>54</td>\n",
              "      <td>M</td>\n",
              "      <td>NAP</td>\n",
              "      <td>150</td>\n",
              "      <td>195.0</td>\n",
              "      <td>0</td>\n",
              "      <td>Normal</td>\n",
              "      <td>122</td>\n",
              "      <td>N</td>\n",
              "      <td>0.0</td>\n",
              "      <td>Up</td>\n",
              "      <td>0</td>\n",
              "    </tr>\n",
              "  </tbody>\n",
              "</table>\n",
              "</div>\n",
              "      <button class=\"colab-df-convert\" onclick=\"convertToInteractive('df-efae95b8-d17b-415c-92ce-7aa323f5300d')\"\n",
              "              title=\"Convert this dataframe to an interactive table.\"\n",
              "              style=\"display:none;\">\n",
              "        \n",
              "  <svg xmlns=\"http://www.w3.org/2000/svg\" height=\"24px\"viewBox=\"0 0 24 24\"\n",
              "       width=\"24px\">\n",
              "    <path d=\"M0 0h24v24H0V0z\" fill=\"none\"/>\n",
              "    <path d=\"M18.56 5.44l.94 2.06.94-2.06 2.06-.94-2.06-.94-.94-2.06-.94 2.06-2.06.94zm-11 1L8.5 8.5l.94-2.06 2.06-.94-2.06-.94L8.5 2.5l-.94 2.06-2.06.94zm10 10l.94 2.06.94-2.06 2.06-.94-2.06-.94-.94-2.06-.94 2.06-2.06.94z\"/><path d=\"M17.41 7.96l-1.37-1.37c-.4-.4-.92-.59-1.43-.59-.52 0-1.04.2-1.43.59L10.3 9.45l-7.72 7.72c-.78.78-.78 2.05 0 2.83L4 21.41c.39.39.9.59 1.41.59.51 0 1.02-.2 1.41-.59l7.78-7.78 2.81-2.81c.8-.78.8-2.07 0-2.86zM5.41 20L4 18.59l7.72-7.72 1.47 1.35L5.41 20z\"/>\n",
              "  </svg>\n",
              "      </button>\n",
              "      \n",
              "  <style>\n",
              "    .colab-df-container {\n",
              "      display:flex;\n",
              "      flex-wrap:wrap;\n",
              "      gap: 12px;\n",
              "    }\n",
              "\n",
              "    .colab-df-convert {\n",
              "      background-color: #E8F0FE;\n",
              "      border: none;\n",
              "      border-radius: 50%;\n",
              "      cursor: pointer;\n",
              "      display: none;\n",
              "      fill: #1967D2;\n",
              "      height: 32px;\n",
              "      padding: 0 0 0 0;\n",
              "      width: 32px;\n",
              "    }\n",
              "\n",
              "    .colab-df-convert:hover {\n",
              "      background-color: #E2EBFA;\n",
              "      box-shadow: 0px 1px 2px rgba(60, 64, 67, 0.3), 0px 1px 3px 1px rgba(60, 64, 67, 0.15);\n",
              "      fill: #174EA6;\n",
              "    }\n",
              "\n",
              "    [theme=dark] .colab-df-convert {\n",
              "      background-color: #3B4455;\n",
              "      fill: #D2E3FC;\n",
              "    }\n",
              "\n",
              "    [theme=dark] .colab-df-convert:hover {\n",
              "      background-color: #434B5C;\n",
              "      box-shadow: 0px 1px 3px 1px rgba(0, 0, 0, 0.15);\n",
              "      filter: drop-shadow(0px 1px 2px rgba(0, 0, 0, 0.3));\n",
              "      fill: #FFFFFF;\n",
              "    }\n",
              "  </style>\n",
              "\n",
              "      <script>\n",
              "        const buttonEl =\n",
              "          document.querySelector('#df-efae95b8-d17b-415c-92ce-7aa323f5300d button.colab-df-convert');\n",
              "        buttonEl.style.display =\n",
              "          google.colab.kernel.accessAllowed ? 'block' : 'none';\n",
              "\n",
              "        async function convertToInteractive(key) {\n",
              "          const element = document.querySelector('#df-efae95b8-d17b-415c-92ce-7aa323f5300d');\n",
              "          const dataTable =\n",
              "            await google.colab.kernel.invokeFunction('convertToInteractive',\n",
              "                                                     [key], {});\n",
              "          if (!dataTable) return;\n",
              "\n",
              "          const docLinkHtml = 'Like what you see? Visit the ' +\n",
              "            '<a target=\"_blank\" href=https://colab.research.google.com/notebooks/data_table.ipynb>data table notebook</a>'\n",
              "            + ' to learn more about interactive tables.';\n",
              "          element.innerHTML = '';\n",
              "          dataTable['output_type'] = 'display_data';\n",
              "          await google.colab.output.renderOutput(dataTable, element);\n",
              "          const docLink = document.createElement('div');\n",
              "          docLink.innerHTML = docLinkHtml;\n",
              "          element.appendChild(docLink);\n",
              "        }\n",
              "      </script>\n",
              "    </div>\n",
              "  </div>\n",
              "  "
            ]
          },
          "metadata": {},
          "execution_count": 54
        }
      ],
      "source": [
        "df.head()"
      ]
    },
    {
      "cell_type": "code",
      "execution_count": null,
      "metadata": {
        "id": "7JyrJzlB9d6q"
      },
      "outputs": [],
      "source": [
        "forecasters = df.iloc[:, 0:11].values #Defining the forecaster variables\n",
        "target = df.iloc[:, 11].values #Defining the 'target' variable"
      ]
    },
    {
      "cell_type": "markdown",
      "metadata": {
        "id": "T13P-pk6-rJ8"
      },
      "source": [
        "Applying LabelEncoder to all nominal categorical columns"
      ]
    },
    {
      "cell_type": "code",
      "execution_count": null,
      "metadata": {
        "colab": {
          "base_uri": "https://localhost:8080/"
        },
        "id": "I7bi9eK89uC9",
        "outputId": "c95d6d75-4a85-416b-ff46-bed0ccf59239"
      },
      "outputs": [
        {
          "output_type": "execute_result",
          "data": {
            "text/plain": [
              "array([[40, 1, 1, ..., 0, 0.0, 2],\n",
              "       [49, 0, 2, ..., 0, 1.0, 1],\n",
              "       [37, 1, 1, ..., 0, 0.0, 2],\n",
              "       ...,\n",
              "       [57, 1, 0, ..., 1, 1.2, 1],\n",
              "       [57, 0, 1, ..., 0, 0.0, 1],\n",
              "       [38, 1, 2, ..., 0, 0.0, 2]], dtype=object)"
            ]
          },
          "metadata": {},
          "execution_count": 56
        }
      ],
      "source": [
        "list_for = [1, 2, 6, 8, 10]\n",
        "\n",
        "for i in list_for:\n",
        "  forecasters[:, i] = LabelEncoder().fit_transform(forecasters[:, i])\n",
        "\n",
        "forecasters"
      ]
    },
    {
      "cell_type": "markdown",
      "metadata": {
        "id": "54_yXdlelJwQ"
      },
      "source": [
        "'OneHotEncoding' all the columns in order to create dummy variables"
      ]
    },
    {
      "cell_type": "code",
      "execution_count": null,
      "metadata": {
        "colab": {
          "base_uri": "https://localhost:8080/"
        },
        "id": "U0_YiGes-n-n",
        "outputId": "bbdf430b-ff26-43a6-d43a-6f21ceb50c83"
      },
      "outputs": [
        {
          "output_type": "execute_result",
          "data": {
            "text/plain": [
              "array([[0.0, 1.0, 0.0, ..., 0, 172, 0.0],\n",
              "       [1.0, 0.0, 0.0, ..., 0, 156, 1.0],\n",
              "       [0.0, 1.0, 0.0, ..., 0, 98, 0.0],\n",
              "       ...,\n",
              "       [0.0, 1.0, 1.0, ..., 0, 115, 1.2],\n",
              "       [1.0, 0.0, 0.0, ..., 0, 174, 0.0],\n",
              "       [0.0, 1.0, 0.0, ..., 0, 173, 0.0]], dtype=object)"
            ]
          },
          "metadata": {},
          "execution_count": 57
        }
      ],
      "source": [
        "#transformers receives: Name, Function and List of columns to be used\n",
        "#remainder receives 'passthrough' to ignore not used data or 'drop' to delete them all (not used)\n",
        "\n",
        "sec_forecasters = ColumnTransformer(transformers=[('OneHot', OneHotEncoder(), list_for)], remainder='passthrough').fit_transform(forecasters)\n",
        "sec_forecasters"
      ]
    },
    {
      "cell_type": "code",
      "execution_count": null,
      "metadata": {
        "colab": {
          "base_uri": "https://localhost:8080/"
        },
        "id": "ShKAZ--AlqmA",
        "outputId": "1135546e-9fe2-41d3-b982-9d1a544677f4"
      },
      "outputs": [
        {
          "output_type": "execute_result",
          "data": {
            "text/plain": [
              "    0    1    2    3    4    5    6    7    8    9    10   11   12   13  14  \\\n",
              "0  0.0  1.0  0.0  1.0  0.0  0.0  0.0  1.0  0.0  1.0  0.0  0.0  0.0  1.0  40   \n",
              "1  1.0  0.0  0.0  0.0  1.0  0.0  0.0  1.0  0.0  1.0  0.0  0.0  1.0  0.0  49   \n",
              "2  0.0  1.0  0.0  1.0  0.0  0.0  0.0  0.0  1.0  1.0  0.0  0.0  0.0  1.0  37   \n",
              "3  1.0  0.0  1.0  0.0  0.0  0.0  0.0  1.0  0.0  0.0  1.0  0.0  1.0  0.0  48   \n",
              "4  0.0  1.0  0.0  0.0  1.0  0.0  0.0  1.0  0.0  1.0  0.0  0.0  0.0  1.0  54   \n",
              "\n",
              "    15     16 17   18   19  \n",
              "0  140  289.0  0  172  0.0  \n",
              "1  160  180.0  0  156  1.0  \n",
              "2  130  283.0  0   98  0.0  \n",
              "3  138  214.0  0  108  1.5  \n",
              "4  150  195.0  0  122  0.0  "
            ],
            "text/html": [
              "\n",
              "  <div id=\"df-eceff320-64ed-4314-abcc-9380c589dc55\">\n",
              "    <div class=\"colab-df-container\">\n",
              "      <div>\n",
              "<style scoped>\n",
              "    .dataframe tbody tr th:only-of-type {\n",
              "        vertical-align: middle;\n",
              "    }\n",
              "\n",
              "    .dataframe tbody tr th {\n",
              "        vertical-align: top;\n",
              "    }\n",
              "\n",
              "    .dataframe thead th {\n",
              "        text-align: right;\n",
              "    }\n",
              "</style>\n",
              "<table border=\"1\" class=\"dataframe\">\n",
              "  <thead>\n",
              "    <tr style=\"text-align: right;\">\n",
              "      <th></th>\n",
              "      <th>0</th>\n",
              "      <th>1</th>\n",
              "      <th>2</th>\n",
              "      <th>3</th>\n",
              "      <th>4</th>\n",
              "      <th>5</th>\n",
              "      <th>6</th>\n",
              "      <th>7</th>\n",
              "      <th>8</th>\n",
              "      <th>9</th>\n",
              "      <th>10</th>\n",
              "      <th>11</th>\n",
              "      <th>12</th>\n",
              "      <th>13</th>\n",
              "      <th>14</th>\n",
              "      <th>15</th>\n",
              "      <th>16</th>\n",
              "      <th>17</th>\n",
              "      <th>18</th>\n",
              "      <th>19</th>\n",
              "    </tr>\n",
              "  </thead>\n",
              "  <tbody>\n",
              "    <tr>\n",
              "      <th>0</th>\n",
              "      <td>0.0</td>\n",
              "      <td>1.0</td>\n",
              "      <td>0.0</td>\n",
              "      <td>1.0</td>\n",
              "      <td>0.0</td>\n",
              "      <td>0.0</td>\n",
              "      <td>0.0</td>\n",
              "      <td>1.0</td>\n",
              "      <td>0.0</td>\n",
              "      <td>1.0</td>\n",
              "      <td>0.0</td>\n",
              "      <td>0.0</td>\n",
              "      <td>0.0</td>\n",
              "      <td>1.0</td>\n",
              "      <td>40</td>\n",
              "      <td>140</td>\n",
              "      <td>289.0</td>\n",
              "      <td>0</td>\n",
              "      <td>172</td>\n",
              "      <td>0.0</td>\n",
              "    </tr>\n",
              "    <tr>\n",
              "      <th>1</th>\n",
              "      <td>1.0</td>\n",
              "      <td>0.0</td>\n",
              "      <td>0.0</td>\n",
              "      <td>0.0</td>\n",
              "      <td>1.0</td>\n",
              "      <td>0.0</td>\n",
              "      <td>0.0</td>\n",
              "      <td>1.0</td>\n",
              "      <td>0.0</td>\n",
              "      <td>1.0</td>\n",
              "      <td>0.0</td>\n",
              "      <td>0.0</td>\n",
              "      <td>1.0</td>\n",
              "      <td>0.0</td>\n",
              "      <td>49</td>\n",
              "      <td>160</td>\n",
              "      <td>180.0</td>\n",
              "      <td>0</td>\n",
              "      <td>156</td>\n",
              "      <td>1.0</td>\n",
              "    </tr>\n",
              "    <tr>\n",
              "      <th>2</th>\n",
              "      <td>0.0</td>\n",
              "      <td>1.0</td>\n",
              "      <td>0.0</td>\n",
              "      <td>1.0</td>\n",
              "      <td>0.0</td>\n",
              "      <td>0.0</td>\n",
              "      <td>0.0</td>\n",
              "      <td>0.0</td>\n",
              "      <td>1.0</td>\n",
              "      <td>1.0</td>\n",
              "      <td>0.0</td>\n",
              "      <td>0.0</td>\n",
              "      <td>0.0</td>\n",
              "      <td>1.0</td>\n",
              "      <td>37</td>\n",
              "      <td>130</td>\n",
              "      <td>283.0</td>\n",
              "      <td>0</td>\n",
              "      <td>98</td>\n",
              "      <td>0.0</td>\n",
              "    </tr>\n",
              "    <tr>\n",
              "      <th>3</th>\n",
              "      <td>1.0</td>\n",
              "      <td>0.0</td>\n",
              "      <td>1.0</td>\n",
              "      <td>0.0</td>\n",
              "      <td>0.0</td>\n",
              "      <td>0.0</td>\n",
              "      <td>0.0</td>\n",
              "      <td>1.0</td>\n",
              "      <td>0.0</td>\n",
              "      <td>0.0</td>\n",
              "      <td>1.0</td>\n",
              "      <td>0.0</td>\n",
              "      <td>1.0</td>\n",
              "      <td>0.0</td>\n",
              "      <td>48</td>\n",
              "      <td>138</td>\n",
              "      <td>214.0</td>\n",
              "      <td>0</td>\n",
              "      <td>108</td>\n",
              "      <td>1.5</td>\n",
              "    </tr>\n",
              "    <tr>\n",
              "      <th>4</th>\n",
              "      <td>0.0</td>\n",
              "      <td>1.0</td>\n",
              "      <td>0.0</td>\n",
              "      <td>0.0</td>\n",
              "      <td>1.0</td>\n",
              "      <td>0.0</td>\n",
              "      <td>0.0</td>\n",
              "      <td>1.0</td>\n",
              "      <td>0.0</td>\n",
              "      <td>1.0</td>\n",
              "      <td>0.0</td>\n",
              "      <td>0.0</td>\n",
              "      <td>0.0</td>\n",
              "      <td>1.0</td>\n",
              "      <td>54</td>\n",
              "      <td>150</td>\n",
              "      <td>195.0</td>\n",
              "      <td>0</td>\n",
              "      <td>122</td>\n",
              "      <td>0.0</td>\n",
              "    </tr>\n",
              "  </tbody>\n",
              "</table>\n",
              "</div>\n",
              "      <button class=\"colab-df-convert\" onclick=\"convertToInteractive('df-eceff320-64ed-4314-abcc-9380c589dc55')\"\n",
              "              title=\"Convert this dataframe to an interactive table.\"\n",
              "              style=\"display:none;\">\n",
              "        \n",
              "  <svg xmlns=\"http://www.w3.org/2000/svg\" height=\"24px\"viewBox=\"0 0 24 24\"\n",
              "       width=\"24px\">\n",
              "    <path d=\"M0 0h24v24H0V0z\" fill=\"none\"/>\n",
              "    <path d=\"M18.56 5.44l.94 2.06.94-2.06 2.06-.94-2.06-.94-.94-2.06-.94 2.06-2.06.94zm-11 1L8.5 8.5l.94-2.06 2.06-.94-2.06-.94L8.5 2.5l-.94 2.06-2.06.94zm10 10l.94 2.06.94-2.06 2.06-.94-2.06-.94-.94-2.06-.94 2.06-2.06.94z\"/><path d=\"M17.41 7.96l-1.37-1.37c-.4-.4-.92-.59-1.43-.59-.52 0-1.04.2-1.43.59L10.3 9.45l-7.72 7.72c-.78.78-.78 2.05 0 2.83L4 21.41c.39.39.9.59 1.41.59.51 0 1.02-.2 1.41-.59l7.78-7.78 2.81-2.81c.8-.78.8-2.07 0-2.86zM5.41 20L4 18.59l7.72-7.72 1.47 1.35L5.41 20z\"/>\n",
              "  </svg>\n",
              "      </button>\n",
              "      \n",
              "  <style>\n",
              "    .colab-df-container {\n",
              "      display:flex;\n",
              "      flex-wrap:wrap;\n",
              "      gap: 12px;\n",
              "    }\n",
              "\n",
              "    .colab-df-convert {\n",
              "      background-color: #E8F0FE;\n",
              "      border: none;\n",
              "      border-radius: 50%;\n",
              "      cursor: pointer;\n",
              "      display: none;\n",
              "      fill: #1967D2;\n",
              "      height: 32px;\n",
              "      padding: 0 0 0 0;\n",
              "      width: 32px;\n",
              "    }\n",
              "\n",
              "    .colab-df-convert:hover {\n",
              "      background-color: #E2EBFA;\n",
              "      box-shadow: 0px 1px 2px rgba(60, 64, 67, 0.3), 0px 1px 3px 1px rgba(60, 64, 67, 0.15);\n",
              "      fill: #174EA6;\n",
              "    }\n",
              "\n",
              "    [theme=dark] .colab-df-convert {\n",
              "      background-color: #3B4455;\n",
              "      fill: #D2E3FC;\n",
              "    }\n",
              "\n",
              "    [theme=dark] .colab-df-convert:hover {\n",
              "      background-color: #434B5C;\n",
              "      box-shadow: 0px 1px 3px 1px rgba(0, 0, 0, 0.15);\n",
              "      filter: drop-shadow(0px 1px 2px rgba(0, 0, 0, 0.3));\n",
              "      fill: #FFFFFF;\n",
              "    }\n",
              "  </style>\n",
              "\n",
              "      <script>\n",
              "        const buttonEl =\n",
              "          document.querySelector('#df-eceff320-64ed-4314-abcc-9380c589dc55 button.colab-df-convert');\n",
              "        buttonEl.style.display =\n",
              "          google.colab.kernel.accessAllowed ? 'block' : 'none';\n",
              "\n",
              "        async function convertToInteractive(key) {\n",
              "          const element = document.querySelector('#df-eceff320-64ed-4314-abcc-9380c589dc55');\n",
              "          const dataTable =\n",
              "            await google.colab.kernel.invokeFunction('convertToInteractive',\n",
              "                                                     [key], {});\n",
              "          if (!dataTable) return;\n",
              "\n",
              "          const docLinkHtml = 'Like what you see? Visit the ' +\n",
              "            '<a target=\"_blank\" href=https://colab.research.google.com/notebooks/data_table.ipynb>data table notebook</a>'\n",
              "            + ' to learn more about interactive tables.';\n",
              "          element.innerHTML = '';\n",
              "          dataTable['output_type'] = 'display_data';\n",
              "          await google.colab.output.renderOutput(dataTable, element);\n",
              "          const docLink = document.createElement('div');\n",
              "          docLink.innerHTML = docLinkHtml;\n",
              "          element.appendChild(docLink);\n",
              "        }\n",
              "      </script>\n",
              "    </div>\n",
              "  </div>\n",
              "  "
            ]
          },
          "metadata": {},
          "execution_count": 58
        }
      ],
      "source": [
        "third_forecaster = pd.DataFrame(sec_forecasters)\n",
        "third_forecaster.head()"
      ]
    },
    {
      "cell_type": "code",
      "execution_count": null,
      "metadata": {
        "colab": {
          "base_uri": "https://localhost:8080/"
        },
        "id": "YYGT6r-DmeZC",
        "outputId": "1042080d-b315-4d4b-f0ed-c18a8dc3335f"
      },
      "outputs": [
        {
          "output_type": "execute_result",
          "data": {
            "text/plain": [
              "   Age Sex ChestPainType  RestingBP  Cholesterol  FastingBS RestingECG  MaxHR  \\\n",
              "0   40   M           ATA        140        289.0          0     Normal    172   \n",
              "1   49   F           NAP        160        180.0          0     Normal    156   \n",
              "2   37   M           ATA        130        283.0          0         ST     98   \n",
              "3   48   F           ASY        138        214.0          0     Normal    108   \n",
              "4   54   M           NAP        150        195.0          0     Normal    122   \n",
              "\n",
              "  ExerciseAngina  Oldpeak ST_Slope  HeartDisease  \n",
              "0              N      0.0       Up             0  \n",
              "1              N      1.0     Flat             1  \n",
              "2              N      0.0       Up             0  \n",
              "3              Y      1.5     Flat             1  \n",
              "4              N      0.0       Up             0  "
            ],
            "text/html": [
              "\n",
              "  <div id=\"df-084a1d31-9830-4449-809b-2e957fed8743\">\n",
              "    <div class=\"colab-df-container\">\n",
              "      <div>\n",
              "<style scoped>\n",
              "    .dataframe tbody tr th:only-of-type {\n",
              "        vertical-align: middle;\n",
              "    }\n",
              "\n",
              "    .dataframe tbody tr th {\n",
              "        vertical-align: top;\n",
              "    }\n",
              "\n",
              "    .dataframe thead th {\n",
              "        text-align: right;\n",
              "    }\n",
              "</style>\n",
              "<table border=\"1\" class=\"dataframe\">\n",
              "  <thead>\n",
              "    <tr style=\"text-align: right;\">\n",
              "      <th></th>\n",
              "      <th>Age</th>\n",
              "      <th>Sex</th>\n",
              "      <th>ChestPainType</th>\n",
              "      <th>RestingBP</th>\n",
              "      <th>Cholesterol</th>\n",
              "      <th>FastingBS</th>\n",
              "      <th>RestingECG</th>\n",
              "      <th>MaxHR</th>\n",
              "      <th>ExerciseAngina</th>\n",
              "      <th>Oldpeak</th>\n",
              "      <th>ST_Slope</th>\n",
              "      <th>HeartDisease</th>\n",
              "    </tr>\n",
              "  </thead>\n",
              "  <tbody>\n",
              "    <tr>\n",
              "      <th>0</th>\n",
              "      <td>40</td>\n",
              "      <td>M</td>\n",
              "      <td>ATA</td>\n",
              "      <td>140</td>\n",
              "      <td>289.0</td>\n",
              "      <td>0</td>\n",
              "      <td>Normal</td>\n",
              "      <td>172</td>\n",
              "      <td>N</td>\n",
              "      <td>0.0</td>\n",
              "      <td>Up</td>\n",
              "      <td>0</td>\n",
              "    </tr>\n",
              "    <tr>\n",
              "      <th>1</th>\n",
              "      <td>49</td>\n",
              "      <td>F</td>\n",
              "      <td>NAP</td>\n",
              "      <td>160</td>\n",
              "      <td>180.0</td>\n",
              "      <td>0</td>\n",
              "      <td>Normal</td>\n",
              "      <td>156</td>\n",
              "      <td>N</td>\n",
              "      <td>1.0</td>\n",
              "      <td>Flat</td>\n",
              "      <td>1</td>\n",
              "    </tr>\n",
              "    <tr>\n",
              "      <th>2</th>\n",
              "      <td>37</td>\n",
              "      <td>M</td>\n",
              "      <td>ATA</td>\n",
              "      <td>130</td>\n",
              "      <td>283.0</td>\n",
              "      <td>0</td>\n",
              "      <td>ST</td>\n",
              "      <td>98</td>\n",
              "      <td>N</td>\n",
              "      <td>0.0</td>\n",
              "      <td>Up</td>\n",
              "      <td>0</td>\n",
              "    </tr>\n",
              "    <tr>\n",
              "      <th>3</th>\n",
              "      <td>48</td>\n",
              "      <td>F</td>\n",
              "      <td>ASY</td>\n",
              "      <td>138</td>\n",
              "      <td>214.0</td>\n",
              "      <td>0</td>\n",
              "      <td>Normal</td>\n",
              "      <td>108</td>\n",
              "      <td>Y</td>\n",
              "      <td>1.5</td>\n",
              "      <td>Flat</td>\n",
              "      <td>1</td>\n",
              "    </tr>\n",
              "    <tr>\n",
              "      <th>4</th>\n",
              "      <td>54</td>\n",
              "      <td>M</td>\n",
              "      <td>NAP</td>\n",
              "      <td>150</td>\n",
              "      <td>195.0</td>\n",
              "      <td>0</td>\n",
              "      <td>Normal</td>\n",
              "      <td>122</td>\n",
              "      <td>N</td>\n",
              "      <td>0.0</td>\n",
              "      <td>Up</td>\n",
              "      <td>0</td>\n",
              "    </tr>\n",
              "  </tbody>\n",
              "</table>\n",
              "</div>\n",
              "      <button class=\"colab-df-convert\" onclick=\"convertToInteractive('df-084a1d31-9830-4449-809b-2e957fed8743')\"\n",
              "              title=\"Convert this dataframe to an interactive table.\"\n",
              "              style=\"display:none;\">\n",
              "        \n",
              "  <svg xmlns=\"http://www.w3.org/2000/svg\" height=\"24px\"viewBox=\"0 0 24 24\"\n",
              "       width=\"24px\">\n",
              "    <path d=\"M0 0h24v24H0V0z\" fill=\"none\"/>\n",
              "    <path d=\"M18.56 5.44l.94 2.06.94-2.06 2.06-.94-2.06-.94-.94-2.06-.94 2.06-2.06.94zm-11 1L8.5 8.5l.94-2.06 2.06-.94-2.06-.94L8.5 2.5l-.94 2.06-2.06.94zm10 10l.94 2.06.94-2.06 2.06-.94-2.06-.94-.94-2.06-.94 2.06-2.06.94z\"/><path d=\"M17.41 7.96l-1.37-1.37c-.4-.4-.92-.59-1.43-.59-.52 0-1.04.2-1.43.59L10.3 9.45l-7.72 7.72c-.78.78-.78 2.05 0 2.83L4 21.41c.39.39.9.59 1.41.59.51 0 1.02-.2 1.41-.59l7.78-7.78 2.81-2.81c.8-.78.8-2.07 0-2.86zM5.41 20L4 18.59l7.72-7.72 1.47 1.35L5.41 20z\"/>\n",
              "  </svg>\n",
              "      </button>\n",
              "      \n",
              "  <style>\n",
              "    .colab-df-container {\n",
              "      display:flex;\n",
              "      flex-wrap:wrap;\n",
              "      gap: 12px;\n",
              "    }\n",
              "\n",
              "    .colab-df-convert {\n",
              "      background-color: #E8F0FE;\n",
              "      border: none;\n",
              "      border-radius: 50%;\n",
              "      cursor: pointer;\n",
              "      display: none;\n",
              "      fill: #1967D2;\n",
              "      height: 32px;\n",
              "      padding: 0 0 0 0;\n",
              "      width: 32px;\n",
              "    }\n",
              "\n",
              "    .colab-df-convert:hover {\n",
              "      background-color: #E2EBFA;\n",
              "      box-shadow: 0px 1px 2px rgba(60, 64, 67, 0.3), 0px 1px 3px 1px rgba(60, 64, 67, 0.15);\n",
              "      fill: #174EA6;\n",
              "    }\n",
              "\n",
              "    [theme=dark] .colab-df-convert {\n",
              "      background-color: #3B4455;\n",
              "      fill: #D2E3FC;\n",
              "    }\n",
              "\n",
              "    [theme=dark] .colab-df-convert:hover {\n",
              "      background-color: #434B5C;\n",
              "      box-shadow: 0px 1px 3px 1px rgba(0, 0, 0, 0.15);\n",
              "      filter: drop-shadow(0px 1px 2px rgba(0, 0, 0, 0.3));\n",
              "      fill: #FFFFFF;\n",
              "    }\n",
              "  </style>\n",
              "\n",
              "      <script>\n",
              "        const buttonEl =\n",
              "          document.querySelector('#df-084a1d31-9830-4449-809b-2e957fed8743 button.colab-df-convert');\n",
              "        buttonEl.style.display =\n",
              "          google.colab.kernel.accessAllowed ? 'block' : 'none';\n",
              "\n",
              "        async function convertToInteractive(key) {\n",
              "          const element = document.querySelector('#df-084a1d31-9830-4449-809b-2e957fed8743');\n",
              "          const dataTable =\n",
              "            await google.colab.kernel.invokeFunction('convertToInteractive',\n",
              "                                                     [key], {});\n",
              "          if (!dataTable) return;\n",
              "\n",
              "          const docLinkHtml = 'Like what you see? Visit the ' +\n",
              "            '<a target=\"_blank\" href=https://colab.research.google.com/notebooks/data_table.ipynb>data table notebook</a>'\n",
              "            + ' to learn more about interactive tables.';\n",
              "          element.innerHTML = '';\n",
              "          dataTable['output_type'] = 'display_data';\n",
              "          await google.colab.output.renderOutput(dataTable, element);\n",
              "          const docLink = document.createElement('div');\n",
              "          docLink.innerHTML = docLinkHtml;\n",
              "          element.appendChild(docLink);\n",
              "        }\n",
              "      </script>\n",
              "    </div>\n",
              "  </div>\n",
              "  "
            ]
          },
          "metadata": {},
          "execution_count": 59
        }
      ],
      "source": [
        "df.head()"
      ]
    },
    {
      "cell_type": "markdown",
      "metadata": {
        "id": "1YoiuUAGsoTW"
      },
      "source": [
        "Applying 'StandardScaler' to normalize our forecasting features which means that our 'mean' should be close enough to 0 and 'standard deviation' equal or lesser than 1."
      ]
    },
    {
      "cell_type": "code",
      "execution_count": null,
      "metadata": {
        "colab": {
          "base_uri": "https://localhost:8080/"
        },
        "id": "M4C9kvq7miOb",
        "outputId": "8586522f-f8fa-49d0-d8be-eeba6060a354"
      },
      "outputs": [
        {
          "output_type": "execute_result",
          "data": {
            "text/plain": [
              "array([[-0.51630861,  0.51630861, -1.08542493, ..., -0.55173333,\n",
              "         1.38333943, -0.83150225],\n",
              "       [ 1.9368261 , -1.9368261 , -1.08542493, ..., -0.55173333,\n",
              "         0.75473573,  0.10625149],\n",
              "       [-0.51630861,  0.51630861, -1.08542493, ..., -0.55173333,\n",
              "        -1.52395266, -0.83150225],\n",
              "       ...,\n",
              "       [-0.51630861,  0.51630861,  0.92129817, ..., -0.55173333,\n",
              "        -0.85606123,  0.29380223],\n",
              "       [ 1.9368261 , -1.9368261 , -1.08542493, ..., -0.55173333,\n",
              "         1.46191489, -0.83150225],\n",
              "       [-0.51630861,  0.51630861, -1.08542493, ..., -0.55173333,\n",
              "         1.42262716, -0.83150225]])"
            ]
          },
          "metadata": {},
          "execution_count": 60
        }
      ],
      "source": [
        "third_forecaster_esc = StandardScaler().fit_transform(third_forecaster)\n",
        "third_forecaster_esc"
      ]
    },
    {
      "cell_type": "markdown",
      "metadata": {
        "id": "l6EYUeaZ0bQ-"
      },
      "source": [
        "## Train and Test Split"
      ]
    },
    {
      "cell_type": "markdown",
      "metadata": {
        "id": "LDPgbBnd1dLm"
      },
      "source": [
        "Some observations:\n",
        "\n",
        "\n",
        "*   arrays: Name of forcasters and target attribute\n",
        "\n",
        "*   test_size: Size in percentual for testing data (default is 'none')\n",
        "*   train_size: Size in percentual for training data (default is 'none')\n",
        "\n",
        "\n",
        "*   random_state: Nomination of a random state\n",
        "\n",
        "*   shuffle: Shuffle of random data (default is 'true')\n",
        "\n",
        "\n",
        "\n"
      ]
    },
    {
      "cell_type": "code",
      "execution_count": null,
      "metadata": {
        "colab": {
          "base_uri": "https://localhost:8080/"
        },
        "id": "hQx4AQpP0eX9",
        "outputId": "d5c592c4-8b1a-4ed3-f93a-f2ab216dd7d3"
      },
      "outputs": [
        {
          "output_type": "execute_result",
          "data": {
            "text/plain": [
              "array([[-0.51630861,  0.51630861, -1.08542493, ..., -0.55173333,\n",
              "         1.38333943, -0.83150225],\n",
              "       [ 1.9368261 , -1.9368261 , -1.08542493, ..., -0.55173333,\n",
              "         0.75473573,  0.10625149],\n",
              "       [-0.51630861,  0.51630861, -1.08542493, ..., -0.55173333,\n",
              "        -1.52395266, -0.83150225],\n",
              "       ...,\n",
              "       [-0.51630861,  0.51630861,  0.92129817, ..., -0.55173333,\n",
              "        -0.85606123,  0.29380223],\n",
              "       [ 1.9368261 , -1.9368261 , -1.08542493, ..., -0.55173333,\n",
              "         1.46191489, -0.83150225],\n",
              "       [-0.51630861,  0.51630861, -1.08542493, ..., -0.55173333,\n",
              "         1.42262716, -0.83150225]])"
            ]
          },
          "metadata": {},
          "execution_count": 61
        }
      ],
      "source": [
        "#Forecasters\n",
        "\n",
        "third_forecaster_esc"
      ]
    },
    {
      "cell_type": "code",
      "execution_count": null,
      "metadata": {
        "colab": {
          "base_uri": "https://localhost:8080/"
        },
        "id": "iLBiVBel3UmW",
        "outputId": "0d6af7a7-af6f-45f7-b07e-ae50a126c4b5"
      },
      "outputs": [
        {
          "output_type": "execute_result",
          "data": {
            "text/plain": [
              "array([0, 1, 0, 1, 0, 0, 0, 0, 1, 0, 0, 1, 0, 1, 0, 0, 1, 0, 1, 1, 0, 0,\n",
              "       0, 1, 0, 0, 0, 0, 0, 0, 1, 0, 1, 1, 0, 0, 1, 0, 0, 0, 0, 1, 0, 0,\n",
              "       1, 0, 0, 0, 0, 1, 1, 1, 0, 0, 0, 0, 1, 1, 0, 1, 0, 0, 0, 1, 0, 0,\n",
              "       0, 0, 1, 0, 1, 0, 1, 0, 1, 0, 1, 0, 0, 1, 0, 0, 1, 0, 1, 1, 1, 0,\n",
              "       1, 0, 0, 0, 0, 1, 0, 1, 0, 0, 0, 0, 1, 0, 1, 1, 1, 0, 0, 0, 0, 0,\n",
              "       0, 1, 0, 0, 0, 1, 1, 1, 0, 1, 1, 0, 0, 1, 0, 0, 0, 0, 0, 0, 0, 1,\n",
              "       1, 1, 0, 1, 0, 0, 1, 1, 1, 1, 1, 0, 1, 0, 0, 0, 0, 1, 0, 0, 0, 0,\n",
              "       0, 1, 1, 0, 1, 0, 1, 1, 0, 0, 0, 1, 1, 0, 0, 0, 0, 0, 0, 0, 1, 1,\n",
              "       1, 0, 0, 0, 1, 0, 1, 0, 0, 1, 0, 1, 0, 1, 0, 0, 0, 0, 0, 0, 0, 0,\n",
              "       1, 0, 0, 0, 0, 0, 0, 0, 0, 1, 0, 1, 1, 1, 0, 0, 1, 0, 1, 0, 0, 0,\n",
              "       1, 1, 0, 0, 0, 1, 0, 1, 0, 0, 0, 0, 0, 0, 0, 0, 1, 1, 1, 1, 0, 1,\n",
              "       1, 0, 1, 0, 1, 1, 1, 1, 1, 1, 0, 0, 1, 0, 0, 0, 0, 0, 0, 0, 1, 1,\n",
              "       1, 0, 1, 0, 1, 0, 0, 0, 1, 0, 0, 0, 1, 1, 0, 0, 0, 1, 0, 0, 0, 0,\n",
              "       0, 0, 0, 0, 0, 0, 0, 1, 1, 1, 1, 1, 1, 1, 1, 0, 1, 1, 1, 1, 1, 0,\n",
              "       1, 1, 0, 1, 1, 1, 0, 1, 1, 1, 1, 1, 1, 1, 1, 1, 1, 1, 0, 1, 1, 1,\n",
              "       1, 1, 0, 1, 1, 1, 0, 1, 1, 1, 1, 1, 1, 1, 1, 1, 1, 1, 1, 1, 1, 1,\n",
              "       1, 1, 1, 1, 1, 1, 1, 1, 1, 1, 1, 1, 0, 1, 1, 1, 1, 1, 1, 1, 1, 1,\n",
              "       1, 1, 1, 1, 1, 1, 1, 1, 1, 1, 1, 1, 1, 1, 1, 1, 1, 1, 1, 1, 1, 1,\n",
              "       1, 1, 1, 1, 1, 1, 1, 1, 1, 1, 1, 1, 1, 1, 1, 1, 1, 1, 1, 1, 1, 0,\n",
              "       1, 1, 0, 0, 1, 0, 1, 1, 0, 1, 1, 1, 1, 0, 1, 1, 0, 0, 1, 1, 1, 0,\n",
              "       1, 1, 1, 1, 1, 1, 1, 1, 1, 1, 1, 1, 0, 1, 0, 1, 1, 1, 0, 1, 1, 1,\n",
              "       0, 1, 0, 1, 0, 1, 0, 1, 1, 1, 1, 0, 1, 0, 1, 1, 1, 1, 1, 1, 1, 1,\n",
              "       1, 0, 1, 0, 1, 1, 1, 1, 1, 1, 1, 0, 1, 1, 1, 1, 1, 1, 0, 1, 1, 1,\n",
              "       0, 1, 1, 0, 1, 0, 1, 1, 0, 1, 1, 1, 1, 0, 1, 1, 1, 0, 0, 1, 0, 1,\n",
              "       1, 1, 1, 1, 1, 1, 1, 1, 1, 1, 0, 1, 1, 1, 1, 0, 0, 1, 1, 1, 0, 1,\n",
              "       0, 1, 1, 0, 1, 0, 1, 1, 1, 0, 0, 0, 1, 1, 1, 0, 1, 1, 1, 1, 1, 1,\n",
              "       1, 1, 1, 1, 1, 1, 1, 1, 1, 1, 0, 1, 1, 1, 0, 1, 1, 0, 0, 1, 1, 1,\n",
              "       1, 1, 0, 1, 1, 0, 1, 1, 1, 0, 0, 1, 1, 1, 1, 1, 0, 1, 0, 1, 1, 0,\n",
              "       1, 0, 0, 0, 1, 1, 1, 1, 0, 0, 0, 1, 0, 0, 1, 1, 0, 0, 1, 0, 0, 0,\n",
              "       0, 0, 0, 0, 1, 0, 1, 0, 0, 1, 1, 1, 1, 1, 0, 0, 1, 0, 0, 0, 1, 0,\n",
              "       1, 1, 1, 1, 1, 0, 0, 0, 0, 0, 1, 0, 1, 1, 0, 1, 0, 0, 0, 1, 0, 1,\n",
              "       0, 1, 1, 0, 0, 0, 0, 1, 0, 0, 0, 0, 1, 1, 1, 0, 0, 0, 0, 0, 0, 1,\n",
              "       0, 1, 1, 1, 1, 1, 0, 1, 0, 0, 0, 1, 0, 1, 1, 1, 0, 1, 1, 0, 1, 0,\n",
              "       1, 0, 0, 0, 1, 1, 0, 1, 1, 1, 1, 0, 0, 0, 1, 0, 0, 1, 1, 1, 0, 1,\n",
              "       0, 0, 0, 1, 0, 0, 1, 0, 1, 0, 1, 1, 1, 1, 1, 0, 0, 0, 0, 0, 0, 0,\n",
              "       1, 0, 0, 1, 1, 1, 0, 1, 0, 0, 0, 0, 0, 1, 0, 1, 1, 0, 0, 1, 1, 1,\n",
              "       1, 0, 0, 1, 1, 0, 0, 0, 1, 0, 0, 1, 0, 1, 0, 1, 0, 0, 0, 0, 0, 1,\n",
              "       0, 1, 1, 1, 1, 0, 0, 0, 1, 0, 1, 0, 0, 1, 0, 0, 0, 0, 0, 0, 1, 1,\n",
              "       0, 1, 0, 0, 1, 1, 0, 0, 1, 1, 0, 1, 0, 1, 0, 1, 0, 0, 1, 0, 0, 1,\n",
              "       0, 1, 1, 0, 1, 1, 1, 0, 1, 0, 0, 0, 0, 1, 1, 0, 0, 1, 1, 0, 1, 0,\n",
              "       0, 0, 0, 1, 0, 0, 1, 1, 1, 0, 0, 0, 1, 0, 1, 0, 1, 0, 1, 1, 1, 0,\n",
              "       0, 0, 1, 0, 1, 1, 1, 0, 1, 1, 1, 1, 1, 1, 0])"
            ]
          },
          "metadata": {},
          "execution_count": 62
        }
      ],
      "source": [
        "#Target - Heart Disease\n",
        "\n",
        "target"
      ]
    },
    {
      "cell_type": "code",
      "execution_count": null,
      "metadata": {
        "id": "dLGAEpMO3YC_"
      },
      "outputs": [],
      "source": [
        "x_train, x_test, y_train, y_test = train_test_split(third_forecaster_esc, target, test_size=0.3, random_state=0)"
      ]
    },
    {
      "cell_type": "markdown",
      "metadata": {
        "id": "K6tUTtAdGxxU"
      },
      "source": [
        "## Testing some Classification Algorithms"
      ]
    },
    {
      "cell_type": "markdown",
      "metadata": {
        "id": "ch2jX1wMLd23"
      },
      "source": [
        "### Applying Naive Bayes\n",
        "\n",
        "Accuracy using Naive Bayes: 86%"
      ]
    },
    {
      "cell_type": "markdown",
      "metadata": {
        "id": "eYlImXriQPaW"
      },
      "source": [
        "Analysing test data"
      ]
    },
    {
      "cell_type": "code",
      "execution_count": null,
      "metadata": {
        "colab": {
          "base_uri": "https://localhost:8080/"
        },
        "id": "vISb_nqj6B6o",
        "outputId": "84e73008-1741-41f0-fc55-742078348117"
      },
      "outputs": [
        {
          "output_type": "execute_result",
          "data": {
            "text/plain": [
              "GaussianNB()"
            ]
          },
          "metadata": {},
          "execution_count": 64
        }
      ],
      "source": [
        "naive = GaussianNB()\n",
        "naive.fit(x_train, y_train)"
      ]
    },
    {
      "cell_type": "code",
      "execution_count": null,
      "metadata": {
        "colab": {
          "base_uri": "https://localhost:8080/"
        },
        "id": "TshUvlZ46Eqn",
        "outputId": "b88f8c6e-8fcd-4fa0-9e68-422bc5bb8403"
      },
      "outputs": [
        {
          "output_type": "execute_result",
          "data": {
            "text/plain": [
              "array([1, 1, 1, 0, 0, 0, 1, 0, 0, 0, 1, 1, 1, 1, 0, 1, 1, 1, 1, 0, 1, 1,\n",
              "       1, 0, 0, 0, 1, 1, 0, 1, 1, 0, 0, 0, 1, 0, 0, 0, 1, 0, 0, 1, 1, 1,\n",
              "       1, 0, 0, 1, 0, 1, 1, 0, 0, 1, 1, 0, 0, 0, 0, 0, 1, 1, 1, 0, 1, 1,\n",
              "       1, 0, 1, 0, 1, 1, 0, 1, 1, 1, 1, 1, 1, 1, 1, 1, 0, 0, 1, 1, 1, 1,\n",
              "       1, 0, 1, 0, 0, 0, 0, 0, 1, 0, 0, 0, 0, 0, 1, 1, 0, 1, 1, 0, 0, 1,\n",
              "       0, 1, 1, 1, 1, 1, 1, 1, 1, 1, 1, 1, 1, 0, 1, 1, 0, 1, 0, 1, 0, 1,\n",
              "       1, 1, 0, 1, 1, 1, 1, 0, 0, 1, 0, 1, 0, 0, 1, 1, 1, 0, 0, 1, 1, 0,\n",
              "       1, 0, 1, 0, 1, 0, 1, 1, 1, 0, 1, 0, 1, 0, 1, 0, 1, 1, 0, 0, 1, 1,\n",
              "       1, 0, 0, 1, 1, 1, 0, 1, 1, 1, 0, 1, 1, 0, 1, 0, 1, 0, 1, 1, 0, 0,\n",
              "       1, 0, 1, 1, 0, 1, 1, 0, 0, 0, 1, 0, 1, 1, 0, 0, 0, 0, 1, 0, 1, 1,\n",
              "       1, 0, 0, 1, 1, 1, 0, 1, 0, 1, 0, 1, 1, 1, 0, 1, 1, 1, 0, 1, 1, 0,\n",
              "       1, 0, 0, 0, 0, 0, 1, 0, 1, 0, 1, 0, 0, 0, 1, 0, 0, 1, 0, 1, 1, 0,\n",
              "       0, 0, 0, 0, 1, 0, 0, 1, 1, 1, 1, 1])"
            ]
          },
          "metadata": {},
          "execution_count": 65
        }
      ],
      "source": [
        "predict_naive = naive.predict(x_test)\n",
        "predict_naive"
      ]
    },
    {
      "cell_type": "code",
      "execution_count": null,
      "metadata": {
        "colab": {
          "base_uri": "https://localhost:8080/"
        },
        "id": "sA2cJOBgOlyo",
        "outputId": "66dc3177-c8c8-4f01-a06b-87367b8b3905"
      },
      "outputs": [
        {
          "output_type": "stream",
          "name": "stdout",
          "text": [
            "Accuracy: 84.78%\n"
          ]
        }
      ],
      "source": [
        "#Getting accuracy form test target data and the prediction done by Naive\n",
        "score = accuracy_score(y_test, predict_naive);\n",
        "print('Accuracy: %.2f%%' % (score*100.0))"
      ]
    },
    {
      "cell_type": "code",
      "execution_count": null,
      "metadata": {
        "colab": {
          "base_uri": "https://localhost:8080/"
        },
        "id": "eU9vDhJlO_5b",
        "outputId": "e658665a-c317-4f36-aff8-541cbb436f5d"
      },
      "outputs": [
        {
          "output_type": "execute_result",
          "data": {
            "text/plain": [
              "array([[100,  21],\n",
              "       [ 21, 134]])"
            ]
          },
          "metadata": {},
          "execution_count": 67
        }
      ],
      "source": [
        "#Getting confusion matrix\n",
        "\n",
        "confusion_matrix(y_test, predict_naive)"
      ]
    },
    {
      "cell_type": "code",
      "execution_count": null,
      "metadata": {
        "colab": {
          "base_uri": "https://localhost:8080/"
        },
        "id": "7RXUBpnnPw_6",
        "outputId": "da6f31bb-51e9-47cc-a29e-d6955f1fadf2"
      },
      "outputs": [
        {
          "output_type": "stream",
          "name": "stdout",
          "text": [
            "              precision    recall  f1-score   support\n",
            "\n",
            "           0       0.83      0.83      0.83       121\n",
            "           1       0.86      0.86      0.86       155\n",
            "\n",
            "    accuracy                           0.85       276\n",
            "   macro avg       0.85      0.85      0.85       276\n",
            "weighted avg       0.85      0.85      0.85       276\n",
            "\n"
          ]
        }
      ],
      "source": [
        "#Classification report\n",
        "\n",
        "print(classification_report(y_test, predict_naive))"
      ]
    },
    {
      "cell_type": "markdown",
      "metadata": {
        "id": "AIAwlqodQTz0"
      },
      "source": [
        "Analysing training data"
      ]
    },
    {
      "cell_type": "code",
      "execution_count": null,
      "metadata": {
        "id": "9pSz83hCQW2R"
      },
      "outputs": [],
      "source": [
        "train_predict_naive = naive.predict(x_train);\n",
        "train_score = accuracy_score(y_train, train_predict_naive)"
      ]
    },
    {
      "cell_type": "code",
      "execution_count": null,
      "metadata": {
        "colab": {
          "base_uri": "https://localhost:8080/"
        },
        "id": "LCTgpiy5Q2pd",
        "outputId": "23694e40-3861-4265-90eb-f7ad1ff02330"
      },
      "outputs": [
        {
          "output_type": "stream",
          "name": "stdout",
          "text": [
            "Accuracy: 86%\n"
          ]
        }
      ],
      "source": [
        "print('Accuracy: %2.f%%' % (train_score *100.0))"
      ]
    },
    {
      "cell_type": "code",
      "execution_count": null,
      "metadata": {
        "colab": {
          "base_uri": "https://localhost:8080/"
        },
        "id": "8CJreL0PRBEP",
        "outputId": "744123b3-6f34-462e-a938-9e5481bfc464"
      },
      "outputs": [
        {
          "output_type": "execute_result",
          "data": {
            "text/plain": [
              "array([[248,  41],\n",
              "       [ 48, 304]])"
            ]
          },
          "metadata": {},
          "execution_count": 71
        }
      ],
      "source": [
        "confusion_matrix(y_train, train_predict_naive)"
      ]
    },
    {
      "cell_type": "markdown",
      "metadata": {
        "id": "0xvF7EdvSaNh"
      },
      "source": [
        "Cross validation using KFold"
      ]
    },
    {
      "cell_type": "code",
      "execution_count": null,
      "metadata": {
        "id": "Xms161qPSc-5"
      },
      "outputs": [],
      "source": [
        "#Dividing data in folds\n",
        "\n",
        "kfold = KFold(n_splits = 30, shuffle = True, random_state = 5)\n",
        "\n",
        "#Creating the model\n",
        "\n",
        "model = GaussianNB()\n",
        "result = cross_val_score(model, third_forecaster_esc, target, cv = kfold)"
      ]
    },
    {
      "cell_type": "code",
      "execution_count": null,
      "metadata": {
        "colab": {
          "base_uri": "https://localhost:8080/"
        },
        "id": "R-Y7H16fS0Ra",
        "outputId": "5c89460a-40ed-4571-ce1b-359b81031de8"
      },
      "outputs": [
        {
          "output_type": "stream",
          "name": "stdout",
          "text": [
            "Mean accuracy: 85.17%\n"
          ]
        }
      ],
      "source": [
        "#Using the mean and standard deviation\n",
        "print('Mean accuracy: %.2f%%' % (result.mean()*100.0))"
      ]
    },
    {
      "cell_type": "markdown",
      "metadata": {
        "id": "usMzkrzVHeFO"
      },
      "source": [
        "### Applying SVM - Support Vector Machine\n",
        "\n",
        "Accuracy using Support Vector Machine: 86.23%"
      ]
    },
    {
      "cell_type": "code",
      "execution_count": null,
      "metadata": {
        "colab": {
          "base_uri": "https://localhost:8080/"
        },
        "id": "l30DMC8UHgtH",
        "outputId": "e6c6f6dd-3028-48e6-dbdc-bcc179f0dc9b"
      },
      "outputs": [
        {
          "output_type": "execute_result",
          "data": {
            "text/plain": [
              "SVC(C=2, random_state=1)"
            ]
          },
          "metadata": {},
          "execution_count": 74
        }
      ],
      "source": [
        "svm = SVC (kernel = 'rbf', random_state=1, C=2)\n",
        "svm.fit(x_train, y_train)"
      ]
    },
    {
      "cell_type": "code",
      "execution_count": null,
      "metadata": {
        "id": "5EwiLmuDI0qc"
      },
      "outputs": [],
      "source": [
        "predictions_svm = svm.predict(x_test)\n",
        "predictions_svm;"
      ]
    },
    {
      "cell_type": "code",
      "execution_count": null,
      "metadata": {
        "id": "-i-pe39HI-rG"
      },
      "outputs": [],
      "source": [
        "y_test;"
      ]
    },
    {
      "cell_type": "code",
      "execution_count": null,
      "metadata": {
        "colab": {
          "base_uri": "https://localhost:8080/"
        },
        "id": "iK9rR6uuJA62",
        "outputId": "03775cae-85e9-4483-d0cd-ceb06f08f44a"
      },
      "outputs": [
        {
          "output_type": "stream",
          "name": "stdout",
          "text": [
            "Accuracy for testing: 86.23%\n"
          ]
        }
      ],
      "source": [
        "print(\"Accuracy for testing: %.2f%%\" % (accuracy_score(y_test, predictions_svm)*100.0))"
      ]
    },
    {
      "cell_type": "code",
      "execution_count": null,
      "metadata": {
        "id": "fmidswNnRF_S"
      },
      "outputs": [],
      "source": [
        "predictions_svm_train = svm.predict(x_train)\n",
        "predictions_svm_train;"
      ]
    },
    {
      "cell_type": "markdown",
      "metadata": {
        "id": "vP8ktXBSRSHS"
      },
      "source": [
        "Evaluating if there's an overfiting or not"
      ]
    },
    {
      "cell_type": "code",
      "execution_count": null,
      "metadata": {
        "colab": {
          "base_uri": "https://localhost:8080/"
        },
        "id": "a64mc0JgQ13O",
        "outputId": "1052b850-fefd-4c7a-97ac-10365ffbffa4"
      },
      "outputs": [
        {
          "output_type": "stream",
          "name": "stdout",
          "text": [
            "Accuracy for training: 92.82%\n"
          ]
        }
      ],
      "source": [
        "print(\"Accuracy for training: %.2f%%\" % (accuracy_score(y_train,predictions_svm_train)*100.0))"
      ]
    },
    {
      "cell_type": "markdown",
      "metadata": {
        "id": "uu9NLP35RaUL"
      },
      "source": [
        "Confusion Matrix for testing data"
      ]
    },
    {
      "cell_type": "code",
      "execution_count": null,
      "metadata": {
        "colab": {
          "base_uri": "https://localhost:8080/"
        },
        "id": "UfR_AbGOJjEh",
        "outputId": "9d70d461-0623-4645-8b26-8683da02a0b2"
      },
      "outputs": [
        {
          "output_type": "execute_result",
          "data": {
            "text/plain": [
              "array([[ 99,  22],\n",
              "       [ 16, 139]])"
            ]
          },
          "metadata": {},
          "execution_count": 80
        }
      ],
      "source": [
        "confusion_matrix(y_test, predictions_svm)"
      ]
    },
    {
      "cell_type": "markdown",
      "metadata": {
        "id": "AqdZKhpCRdZQ"
      },
      "source": [
        "Confusion Matrix for training data"
      ]
    },
    {
      "cell_type": "code",
      "execution_count": null,
      "metadata": {
        "colab": {
          "base_uri": "https://localhost:8080/"
        },
        "id": "a8w7aFT6RgAc",
        "outputId": "7d0c38ff-2c43-44a8-b0da-359bda65ab0b"
      },
      "outputs": [
        {
          "output_type": "execute_result",
          "data": {
            "text/plain": [
              "array([[257,  32],\n",
              "       [ 14, 338]])"
            ]
          },
          "metadata": {},
          "execution_count": 81
        }
      ],
      "source": [
        "confusion_matrix(y_train, predictions_svm_train)"
      ]
    },
    {
      "cell_type": "markdown",
      "metadata": {
        "id": "cr-tbjSJKTon"
      },
      "source": [
        "Cross validation using KFold"
      ]
    },
    {
      "cell_type": "code",
      "execution_count": null,
      "metadata": {
        "id": "VMJKBNzaKH1E"
      },
      "outputs": [],
      "source": [
        "#Dividing data in folds\n",
        "\n",
        "kfold = KFold(n_splits = 30, shuffle = True, random_state = 5)\n",
        "\n",
        "#Creating the model\n",
        "\n",
        "model_svc = SVC()\n",
        "\n",
        "result_svc = cross_val_score(model_svc, third_forecaster_esc, target, cv = kfold)"
      ]
    },
    {
      "cell_type": "code",
      "execution_count": null,
      "metadata": {
        "colab": {
          "base_uri": "https://localhost:8080/"
        },
        "id": "m1vwqIw4Kunc",
        "outputId": "d00446db-a48c-4b75-df84-8ea3367e7f66"
      },
      "outputs": [
        {
          "output_type": "execute_result",
          "data": {
            "text/plain": [
              "array([0.96774194, 0.77419355, 0.83870968, 0.87096774, 0.83870968,\n",
              "       0.90322581, 0.67741935, 0.90322581, 0.80645161, 0.80645161,\n",
              "       0.87096774, 0.80645161, 0.96774194, 0.90322581, 0.83870968,\n",
              "       0.83870968, 0.80645161, 0.93333333, 0.9       , 0.96666667,\n",
              "       0.86666667, 0.86666667, 0.86666667, 0.66666667, 0.86666667,\n",
              "       0.93333333, 0.83333333, 0.83333333, 0.9       , 0.86666667])"
            ]
          },
          "metadata": {},
          "execution_count": 83
        }
      ],
      "source": [
        "result_svc"
      ]
    },
    {
      "cell_type": "code",
      "execution_count": null,
      "metadata": {
        "colab": {
          "base_uri": "https://localhost:8080/"
        },
        "id": "lmaURYbmK3Fq",
        "outputId": "8fd15fbd-faa9-4052-cc88-13b1fd1c1ad1"
      },
      "outputs": [
        {
          "output_type": "stream",
          "name": "stdout",
          "text": [
            "Mean accuracy: 85.73%\n"
          ]
        }
      ],
      "source": [
        "#Using the mean and standard deviation\n",
        "print('Mean accuracy: %.2f%%' % (result_svc.mean()*100.0))"
      ]
    },
    {
      "cell_type": "code",
      "execution_count": null,
      "metadata": {
        "colab": {
          "base_uri": "https://localhost:8080/"
        },
        "id": "CTDdCDlBPqUi",
        "outputId": "2f7764f5-8fb0-4785-ffd0-2977e3370154"
      },
      "outputs": [
        {
          "output_type": "stream",
          "name": "stdout",
          "text": [
            "              precision    recall  f1-score   support\n",
            "\n",
            "           0       0.86      0.82      0.84       121\n",
            "           1       0.86      0.90      0.88       155\n",
            "\n",
            "    accuracy                           0.86       276\n",
            "   macro avg       0.86      0.86      0.86       276\n",
            "weighted avg       0.86      0.86      0.86       276\n",
            "\n"
          ]
        }
      ],
      "source": [
        "print(classification_report(y_test, predictions_svm))"
      ]
    },
    {
      "cell_type": "code",
      "source": [],
      "metadata": {
        "id": "4b5OMiI06v-B"
      },
      "execution_count": null,
      "outputs": []
    }
  ],
  "metadata": {
    "colab": {
      "collapsed_sections": [
        "x82Z3kDPPuK4",
        "od2AZcJjP0kO",
        "6UAztiT0gIg3",
        "GTLeQSR43V8p",
        "2VNICL6r5nSB",
        "ywwHSNB3KIqZ",
        "uLliptAWO4lc",
        "T3aHnpe2V31z",
        "nO5A8WxZZaNu",
        "xiLqVvq7a-fj",
        "rZKCFs0pcPwl",
        "tjyofhQDlCig",
        "9Ac7zOZjnNhe",
        "EpyQmsCRoHUd",
        "HG_oaQUlyMsn",
        "ujxWsiHU4XEi",
        "ch2jX1wMLd23",
        "eYlImXriQPaW",
        "AIAwlqodQTz0",
        "0xvF7EdvSaNh"
      ],
      "provenance": []
    },
    "kernelspec": {
      "display_name": "Python 3",
      "name": "python3"
    },
    "language_info": {
      "name": "python"
    }
  },
  "nbformat": 4,
  "nbformat_minor": 0
}